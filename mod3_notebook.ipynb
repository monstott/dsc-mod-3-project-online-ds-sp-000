{
 "cells": [
  {
   "cell_type": "markdown",
   "metadata": {},
   "source": [
    "# Module 3 Final Project:\n",
    "\n",
    "## Northwind Database Statistical Tests\n",
    "\n",
    "### Student: \n",
    "\n",
    "Matthew Onstott\n",
    "\n",
    "### Dataset:\n",
    "\n",
    "The Northwind database (a free, open-source dataset created by Microsoft) that contains data from a fictional company.\n",
    "\n",
    "### Goal: \n",
    "\n",
    "To test the ability to gather information from a real-world database and use knowledge  of statistical analysis and hypothesis testing to generate analytical insights that can be of value to the company.\n",
    "\n",
    "### Summary of Findings:\n",
    "\n",
    "1. Does discount amount have a statistically significant effect on the quantity of a product in an order? **Yes.** <br>\n",
    "   If so, at what level(s) of discount? **5%, 10%, 15%, 20%, 25% (increase).**\n",
    "    \n",
    "2. Does discount amount have a statistically significant effect on the total revenue in an order? **Yes.** <br>\n",
    "   If so, at what level(s) of discount? **5% (increase).**\n",
    "    \n",
    "3. Does product category have a statistically significant effect on the total revenue in an order? **Yes.** <br>\n",
    "   If so, for what product categories? **Meat/Poultry, Produce (increase); Condiments, Confections, Grains/Cereals, Seafood (decrease).**\n",
    "      \n",
    "4. Does ship region have a statistically significant effect on the total revenue in an order? **Yes.** <br>\n",
    "   If so, for what ship regions? **Western Europe (increase); Central America, Eastern Europe, Scandinavia, Southern Europe (decrease).**\n",
    "\n",
    "5. Does reorder level have a statistically significant effect on the cost of items in stock? **No**.\n",
    "\n",
    "\n",
    "### Table of Contents:\n",
    "\n",
    "- [1. Connect to Database](#1.-Connect-to-the-database)\n",
    "- [2. Explore Tables](#2.-Explore-the-tables)\n",
    "- [3. Engineer Features](#3.-Engineer-features-related-to-cost)\n",
    "- [4. Statistical Tests](#4.-Conduct-statistical-tests) \n",
    "    - [4.1a Question 1 - Part 1](#4.1-Question-1a:)\n",
    "    - [4.1b Question 1 - Part 2](#4.1-Question-1b:)\n",
    "    - [4.2 Question 2](#4.2-Question-2:)\n",
    "    - [4.3 Question 3](#4.3-Question-3:)\n",
    "    - [4.4 Question 4](#4.4-Question-4:)\n",
    "    - [4.5 Question 5](#4.5-Question-5:)\n",
    "- [5. Recommendations](#5.-Ending-Remarks:)"
   ]
  },
  {
   "cell_type": "markdown",
   "metadata": {},
   "source": [
    "## Solution:\n",
    "\n",
    "To begin, let's review the Entity-Relationship Diagram (ERD) of the Northwind database containing the data we will be using."
   ]
  },
  {
   "cell_type": "markdown",
   "metadata": {},
   "source": [
    "<img src=\"Northwind_ERD_updated.png\">"
   ]
  },
  {
   "cell_type": "markdown",
   "metadata": {},
   "source": [
    "Now let's import the libraries and packages we will be using in this solution."
   ]
  },
  {
   "cell_type": "code",
   "execution_count": 69,
   "metadata": {},
   "outputs": [],
   "source": [
    "# Import necessary libraries\n",
    "import pandas as pd\n",
    "import numpy as np\n",
    "import matplotlib.pyplot as plt\n",
    "import seaborn as sns\n",
    "%matplotlib inline\n",
    "import sqlite3\n",
    "from math import sqrt\n",
    "from scipy import stats\n",
    "import statsmodels.api as sm\n",
    "from statsmodels.formula.api import ols\n",
    "from sklearn.linear_model import LinearRegression\n",
    "from statsmodels.stats.power import TTestIndPower as TTP\n",
    "from statsmodels.stats.multicomp import pairwise_tukeyhsd\n"
   ]
  },
  {
   "cell_type": "markdown",
   "metadata": {},
   "source": [
    "### 1. Connect to the database\n",
    "The first phase of the OSEMN framekwork is to obtain the data. Let's open a connection to the sqlite database."
   ]
  },
  {
   "cell_type": "code",
   "execution_count": 70,
   "metadata": {},
   "outputs": [],
   "source": [
    "# establish a connection with the database\n",
    "connection = sqlite3.connect(\"Northwind_small.sqlite\")\n",
    "cursor = connection.cursor()"
   ]
  },
  {
   "cell_type": "markdown",
   "metadata": {},
   "source": [
    "The ERD provides a list of tables in the database. Let's check its accuracy."
   ]
  },
  {
   "cell_type": "code",
   "execution_count": 71,
   "metadata": {},
   "outputs": [
    {
     "data": {
      "text/plain": [
       "[('Employee',),\n",
       " ('Category',),\n",
       " ('Customer',),\n",
       " ('Shipper',),\n",
       " ('Supplier',),\n",
       " ('Order',),\n",
       " ('Product',),\n",
       " ('OrderDetail',),\n",
       " ('CustomerCustomerDemo',),\n",
       " ('CustomerDemographic',),\n",
       " ('Region',),\n",
       " ('Territory',),\n",
       " ('EmployeeTerritory',)]"
      ]
     },
     "execution_count": 71,
     "metadata": {},
     "output_type": "execute_result"
    }
   ],
   "source": [
    "# list table names\n",
    "cursor.execute(\"SELECT name FROM sqlite_master WHERE type='table';\").fetchall()"
   ]
  },
  {
   "cell_type": "markdown",
   "metadata": {},
   "source": [
    "The number of tables and their names match the ERD above. \n",
    "\n",
    "Let's take a look at the data within the columns of each table to become better acquainted with the dataset. We'll combine the second and third phases of the OSEMN process. By exploring our tables and thier fields, we'll determine if any scrubbing is necessary.\n",
    "\n",
    "[ToC](#Table-of-Contents:)\n",
    "\n",
    "### 2. Explore the tables\n",
    "\n",
    "#### 2.1 Employee table (1 of 13)"
   ]
  },
  {
   "cell_type": "code",
   "execution_count": 72,
   "metadata": {},
   "outputs": [
    {
     "name": "stdout",
     "output_type": "stream",
     "text": [
      "<class 'pandas.core.frame.DataFrame'>\n",
      "RangeIndex: 9 entries, 0 to 8\n",
      "Data columns (total 18 columns):\n",
      "Id                 9 non-null int64\n",
      "LastName           9 non-null object\n",
      "FirstName          9 non-null object\n",
      "Title              9 non-null object\n",
      "TitleOfCourtesy    9 non-null object\n",
      "BirthDate          9 non-null object\n",
      "HireDate           9 non-null object\n",
      "Address            9 non-null object\n",
      "City               9 non-null object\n",
      "Region             9 non-null object\n",
      "PostalCode         9 non-null object\n",
      "Country            9 non-null object\n",
      "HomePhone          9 non-null object\n",
      "Extension          9 non-null object\n",
      "Photo              0 non-null object\n",
      "Notes              9 non-null object\n",
      "ReportsTo          8 non-null float64\n",
      "PhotoPath          9 non-null object\n",
      "dtypes: float64(1), int64(1), object(16)\n",
      "memory usage: 1.3+ KB\n",
      "None\n",
      "\n",
      "Sample rows:\n"
     ]
    },
    {
     "data": {
      "text/html": [
       "<div>\n",
       "<style scoped>\n",
       "    .dataframe tbody tr th:only-of-type {\n",
       "        vertical-align: middle;\n",
       "    }\n",
       "\n",
       "    .dataframe tbody tr th {\n",
       "        vertical-align: top;\n",
       "    }\n",
       "\n",
       "    .dataframe thead th {\n",
       "        text-align: right;\n",
       "    }\n",
       "</style>\n",
       "<table border=\"1\" class=\"dataframe\">\n",
       "  <thead>\n",
       "    <tr style=\"text-align: right;\">\n",
       "      <th></th>\n",
       "      <th>Id</th>\n",
       "      <th>LastName</th>\n",
       "      <th>FirstName</th>\n",
       "      <th>Title</th>\n",
       "      <th>TitleOfCourtesy</th>\n",
       "      <th>BirthDate</th>\n",
       "      <th>HireDate</th>\n",
       "      <th>Address</th>\n",
       "      <th>City</th>\n",
       "      <th>Region</th>\n",
       "      <th>PostalCode</th>\n",
       "      <th>Country</th>\n",
       "      <th>HomePhone</th>\n",
       "      <th>Extension</th>\n",
       "      <th>Photo</th>\n",
       "      <th>Notes</th>\n",
       "      <th>ReportsTo</th>\n",
       "      <th>PhotoPath</th>\n",
       "    </tr>\n",
       "  </thead>\n",
       "  <tbody>\n",
       "    <tr>\n",
       "      <th>0</th>\n",
       "      <td>1</td>\n",
       "      <td>Davolio</td>\n",
       "      <td>Nancy</td>\n",
       "      <td>Sales Representative</td>\n",
       "      <td>Ms.</td>\n",
       "      <td>1980-12-08</td>\n",
       "      <td>2024-05-01</td>\n",
       "      <td>507 - 20th Ave. E. Apt. 2A</td>\n",
       "      <td>Seattle</td>\n",
       "      <td>North America</td>\n",
       "      <td>98122</td>\n",
       "      <td>USA</td>\n",
       "      <td>(206) 555-9857</td>\n",
       "      <td>5467</td>\n",
       "      <td>None</td>\n",
       "      <td>Education includes a BA in psychology from Col...</td>\n",
       "      <td>2.0</td>\n",
       "      <td>http://accweb/emmployees/davolio.bmp</td>\n",
       "    </tr>\n",
       "    <tr>\n",
       "      <th>1</th>\n",
       "      <td>2</td>\n",
       "      <td>Fuller</td>\n",
       "      <td>Andrew</td>\n",
       "      <td>Vice President, Sales</td>\n",
       "      <td>Dr.</td>\n",
       "      <td>1984-02-19</td>\n",
       "      <td>2024-08-14</td>\n",
       "      <td>908 W. Capital Way</td>\n",
       "      <td>Tacoma</td>\n",
       "      <td>North America</td>\n",
       "      <td>98401</td>\n",
       "      <td>USA</td>\n",
       "      <td>(206) 555-9482</td>\n",
       "      <td>3457</td>\n",
       "      <td>None</td>\n",
       "      <td>Andrew received his BTS commercial in 1974 and...</td>\n",
       "      <td>NaN</td>\n",
       "      <td>http://accweb/emmployees/fuller.bmp</td>\n",
       "    </tr>\n",
       "    <tr>\n",
       "      <th>2</th>\n",
       "      <td>3</td>\n",
       "      <td>Leverling</td>\n",
       "      <td>Janet</td>\n",
       "      <td>Sales Representative</td>\n",
       "      <td>Ms.</td>\n",
       "      <td>1995-08-30</td>\n",
       "      <td>2024-04-01</td>\n",
       "      <td>722 Moss Bay Blvd.</td>\n",
       "      <td>Kirkland</td>\n",
       "      <td>North America</td>\n",
       "      <td>98033</td>\n",
       "      <td>USA</td>\n",
       "      <td>(206) 555-3412</td>\n",
       "      <td>3355</td>\n",
       "      <td>None</td>\n",
       "      <td>Janet has a BS degree in chemistry from Boston...</td>\n",
       "      <td>2.0</td>\n",
       "      <td>http://accweb/emmployees/leverling.bmp</td>\n",
       "    </tr>\n",
       "  </tbody>\n",
       "</table>\n",
       "</div>"
      ],
      "text/plain": [
       "   Id   LastName FirstName                  Title TitleOfCourtesy   BirthDate  \\\n",
       "0   1    Davolio     Nancy   Sales Representative             Ms.  1980-12-08   \n",
       "1   2     Fuller    Andrew  Vice President, Sales             Dr.  1984-02-19   \n",
       "2   3  Leverling     Janet   Sales Representative             Ms.  1995-08-30   \n",
       "\n",
       "     HireDate                     Address      City         Region PostalCode  \\\n",
       "0  2024-05-01  507 - 20th Ave. E. Apt. 2A   Seattle  North America      98122   \n",
       "1  2024-08-14          908 W. Capital Way    Tacoma  North America      98401   \n",
       "2  2024-04-01          722 Moss Bay Blvd.  Kirkland  North America      98033   \n",
       "\n",
       "  Country       HomePhone Extension Photo  \\\n",
       "0     USA  (206) 555-9857      5467  None   \n",
       "1     USA  (206) 555-9482      3457  None   \n",
       "2     USA  (206) 555-3412      3355  None   \n",
       "\n",
       "                                               Notes  ReportsTo  \\\n",
       "0  Education includes a BA in psychology from Col...        2.0   \n",
       "1  Andrew received his BTS commercial in 1974 and...        NaN   \n",
       "2  Janet has a BS degree in chemistry from Boston...        2.0   \n",
       "\n",
       "                                PhotoPath  \n",
       "0    http://accweb/emmployees/davolio.bmp  \n",
       "1     http://accweb/emmployees/fuller.bmp  \n",
       "2  http://accweb/emmployees/leverling.bmp  "
      ]
     },
     "metadata": {},
     "output_type": "display_data"
    },
    {
     "name": "stdout",
     "output_type": "stream",
     "text": [
      "Number of unique employees: 9\n"
     ]
    }
   ],
   "source": [
    "# employee table (1 of 13)\n",
    "employee_df = pd.read_sql_query(\"SELECT * FROM Employee;\", connection)\n",
    "print(employee_df.info())\n",
    "print('\\nSample rows:')\n",
    "display(employee_df.head(3))\n",
    "print('Number of unique employees:', len(employee_df.Id.unique()))"
   ]
  },
  {
   "cell_type": "markdown",
   "metadata": {},
   "source": [
    "#### 2.2 Category table (2 of 13)"
   ]
  },
  {
   "cell_type": "code",
   "execution_count": 73,
   "metadata": {},
   "outputs": [
    {
     "name": "stdout",
     "output_type": "stream",
     "text": [
      "<class 'pandas.core.frame.DataFrame'>\n",
      "RangeIndex: 8 entries, 0 to 7\n",
      "Data columns (total 3 columns):\n",
      "Id              8 non-null int64\n",
      "CategoryName    8 non-null object\n",
      "Description     8 non-null object\n",
      "dtypes: int64(1), object(2)\n",
      "memory usage: 272.0+ bytes\n",
      "None\n",
      "\n",
      "Sample rows:\n"
     ]
    },
    {
     "data": {
      "text/html": [
       "<div>\n",
       "<style scoped>\n",
       "    .dataframe tbody tr th:only-of-type {\n",
       "        vertical-align: middle;\n",
       "    }\n",
       "\n",
       "    .dataframe tbody tr th {\n",
       "        vertical-align: top;\n",
       "    }\n",
       "\n",
       "    .dataframe thead th {\n",
       "        text-align: right;\n",
       "    }\n",
       "</style>\n",
       "<table border=\"1\" class=\"dataframe\">\n",
       "  <thead>\n",
       "    <tr style=\"text-align: right;\">\n",
       "      <th></th>\n",
       "      <th>Id</th>\n",
       "      <th>CategoryName</th>\n",
       "      <th>Description</th>\n",
       "    </tr>\n",
       "  </thead>\n",
       "  <tbody>\n",
       "    <tr>\n",
       "      <th>0</th>\n",
       "      <td>1</td>\n",
       "      <td>Beverages</td>\n",
       "      <td>Soft drinks, coffees, teas, beers, and ales</td>\n",
       "    </tr>\n",
       "    <tr>\n",
       "      <th>1</th>\n",
       "      <td>2</td>\n",
       "      <td>Condiments</td>\n",
       "      <td>Sweet and savory sauces, relishes, spreads, an...</td>\n",
       "    </tr>\n",
       "    <tr>\n",
       "      <th>2</th>\n",
       "      <td>3</td>\n",
       "      <td>Confections</td>\n",
       "      <td>Desserts, candies, and sweet breads</td>\n",
       "    </tr>\n",
       "    <tr>\n",
       "      <th>3</th>\n",
       "      <td>4</td>\n",
       "      <td>Dairy Products</td>\n",
       "      <td>Cheeses</td>\n",
       "    </tr>\n",
       "    <tr>\n",
       "      <th>4</th>\n",
       "      <td>5</td>\n",
       "      <td>Grains/Cereals</td>\n",
       "      <td>Breads, crackers, pasta, and cereal</td>\n",
       "    </tr>\n",
       "    <tr>\n",
       "      <th>5</th>\n",
       "      <td>6</td>\n",
       "      <td>Meat/Poultry</td>\n",
       "      <td>Prepared meats</td>\n",
       "    </tr>\n",
       "    <tr>\n",
       "      <th>6</th>\n",
       "      <td>7</td>\n",
       "      <td>Produce</td>\n",
       "      <td>Dried fruit and bean curd</td>\n",
       "    </tr>\n",
       "    <tr>\n",
       "      <th>7</th>\n",
       "      <td>8</td>\n",
       "      <td>Seafood</td>\n",
       "      <td>Seaweed and fish</td>\n",
       "    </tr>\n",
       "  </tbody>\n",
       "</table>\n",
       "</div>"
      ],
      "text/plain": [
       "   Id    CategoryName                                        Description\n",
       "0   1       Beverages        Soft drinks, coffees, teas, beers, and ales\n",
       "1   2      Condiments  Sweet and savory sauces, relishes, spreads, an...\n",
       "2   3     Confections                Desserts, candies, and sweet breads\n",
       "3   4  Dairy Products                                            Cheeses\n",
       "4   5  Grains/Cereals                Breads, crackers, pasta, and cereal\n",
       "5   6    Meat/Poultry                                     Prepared meats\n",
       "6   7         Produce                          Dried fruit and bean curd\n",
       "7   8         Seafood                                   Seaweed and fish"
      ]
     },
     "metadata": {},
     "output_type": "display_data"
    },
    {
     "name": "stdout",
     "output_type": "stream",
     "text": [
      "Number of unique categories: 8\n"
     ]
    }
   ],
   "source": [
    "# category table (2 of 13)\n",
    "category_df = pd.read_sql_query(\"SELECT * FROM Category;\", connection)\n",
    "print(category_df.info())\n",
    "print('\\nSample rows:')\n",
    "display(category_df.head(8))\n",
    "print('Number of unique categories:', len(category_df.CategoryName.unique()))"
   ]
  },
  {
   "cell_type": "markdown",
   "metadata": {},
   "source": [
    "#### 2.3 Customer table (3 of 13)"
   ]
  },
  {
   "cell_type": "code",
   "execution_count": 74,
   "metadata": {},
   "outputs": [
    {
     "name": "stdout",
     "output_type": "stream",
     "text": [
      "<class 'pandas.core.frame.DataFrame'>\n",
      "RangeIndex: 91 entries, 0 to 90\n",
      "Data columns (total 11 columns):\n",
      "Id              91 non-null object\n",
      "CompanyName     91 non-null object\n",
      "ContactName     91 non-null object\n",
      "ContactTitle    91 non-null object\n",
      "Address         91 non-null object\n",
      "City            91 non-null object\n",
      "Region          91 non-null object\n",
      "PostalCode      90 non-null object\n",
      "Country         91 non-null object\n",
      "Phone           91 non-null object\n",
      "Fax             69 non-null object\n",
      "dtypes: object(11)\n",
      "memory usage: 7.9+ KB\n",
      "None\n",
      "\n",
      "Sample rows:\n"
     ]
    },
    {
     "data": {
      "text/html": [
       "<div>\n",
       "<style scoped>\n",
       "    .dataframe tbody tr th:only-of-type {\n",
       "        vertical-align: middle;\n",
       "    }\n",
       "\n",
       "    .dataframe tbody tr th {\n",
       "        vertical-align: top;\n",
       "    }\n",
       "\n",
       "    .dataframe thead th {\n",
       "        text-align: right;\n",
       "    }\n",
       "</style>\n",
       "<table border=\"1\" class=\"dataframe\">\n",
       "  <thead>\n",
       "    <tr style=\"text-align: right;\">\n",
       "      <th></th>\n",
       "      <th>Id</th>\n",
       "      <th>CompanyName</th>\n",
       "      <th>ContactName</th>\n",
       "      <th>ContactTitle</th>\n",
       "      <th>Address</th>\n",
       "      <th>City</th>\n",
       "      <th>Region</th>\n",
       "      <th>PostalCode</th>\n",
       "      <th>Country</th>\n",
       "      <th>Phone</th>\n",
       "      <th>Fax</th>\n",
       "    </tr>\n",
       "  </thead>\n",
       "  <tbody>\n",
       "    <tr>\n",
       "      <th>0</th>\n",
       "      <td>ALFKI</td>\n",
       "      <td>Alfreds Futterkiste</td>\n",
       "      <td>Maria Anders</td>\n",
       "      <td>Sales Representative</td>\n",
       "      <td>Obere Str. 57</td>\n",
       "      <td>Berlin</td>\n",
       "      <td>Western Europe</td>\n",
       "      <td>12209</td>\n",
       "      <td>Germany</td>\n",
       "      <td>030-0074321</td>\n",
       "      <td>030-0076545</td>\n",
       "    </tr>\n",
       "    <tr>\n",
       "      <th>1</th>\n",
       "      <td>ANATR</td>\n",
       "      <td>Ana Trujillo Emparedados y helados</td>\n",
       "      <td>Ana Trujillo</td>\n",
       "      <td>Owner</td>\n",
       "      <td>Avda. de la Constitución 2222</td>\n",
       "      <td>México D.F.</td>\n",
       "      <td>Central America</td>\n",
       "      <td>05021</td>\n",
       "      <td>Mexico</td>\n",
       "      <td>(5) 555-4729</td>\n",
       "      <td>(5) 555-3745</td>\n",
       "    </tr>\n",
       "    <tr>\n",
       "      <th>2</th>\n",
       "      <td>ANTON</td>\n",
       "      <td>Antonio Moreno Taquería</td>\n",
       "      <td>Antonio Moreno</td>\n",
       "      <td>Owner</td>\n",
       "      <td>Mataderos  2312</td>\n",
       "      <td>México D.F.</td>\n",
       "      <td>Central America</td>\n",
       "      <td>05023</td>\n",
       "      <td>Mexico</td>\n",
       "      <td>(5) 555-3932</td>\n",
       "      <td>None</td>\n",
       "    </tr>\n",
       "  </tbody>\n",
       "</table>\n",
       "</div>"
      ],
      "text/plain": [
       "      Id                         CompanyName     ContactName  \\\n",
       "0  ALFKI                 Alfreds Futterkiste    Maria Anders   \n",
       "1  ANATR  Ana Trujillo Emparedados y helados    Ana Trujillo   \n",
       "2  ANTON             Antonio Moreno Taquería  Antonio Moreno   \n",
       "\n",
       "           ContactTitle                        Address         City  \\\n",
       "0  Sales Representative                  Obere Str. 57       Berlin   \n",
       "1                 Owner  Avda. de la Constitución 2222  México D.F.   \n",
       "2                 Owner                Mataderos  2312  México D.F.   \n",
       "\n",
       "            Region PostalCode  Country         Phone           Fax  \n",
       "0   Western Europe      12209  Germany   030-0074321   030-0076545  \n",
       "1  Central America      05021   Mexico  (5) 555-4729  (5) 555-3745  \n",
       "2  Central America      05023   Mexico  (5) 555-3932          None  "
      ]
     },
     "metadata": {},
     "output_type": "display_data"
    },
    {
     "name": "stdout",
     "output_type": "stream",
     "text": [
      "Number of unique\n",
      "--------------------\n",
      "customers: 91\n",
      "contact titles: 12\n",
      "cities: 69\n",
      "regions: 9\n",
      "postal codes: 87\n",
      "countries: 21\n"
     ]
    }
   ],
   "source": [
    "# customer table (3 of 13)\n",
    "customer_df = pd.read_sql_query(\"SELECT * FROM Customer;\", connection)\n",
    "print(customer_df.info())\n",
    "print('\\nSample rows:')\n",
    "display(customer_df.head(3))\n",
    "print('Number of unique')\n",
    "print('-'*20)\n",
    "print('customers:', len(customer_df.CompanyName.unique()))\n",
    "print('contact titles:', len(customer_df.ContactTitle.unique()))\n",
    "print('cities:', len(customer_df.City.unique()))\n",
    "print('regions:', len(customer_df.Region.unique()))\n",
    "print('postal codes:', len(customer_df.PostalCode.unique()))\n",
    "print('countries:', len(customer_df.Country.unique()))"
   ]
  },
  {
   "cell_type": "markdown",
   "metadata": {},
   "source": [
    "#### 2.4 Shipper table (4 of 13)"
   ]
  },
  {
   "cell_type": "code",
   "execution_count": 75,
   "metadata": {},
   "outputs": [
    {
     "name": "stdout",
     "output_type": "stream",
     "text": [
      "<class 'pandas.core.frame.DataFrame'>\n",
      "RangeIndex: 3 entries, 0 to 2\n",
      "Data columns (total 3 columns):\n",
      "Id             3 non-null int64\n",
      "CompanyName    3 non-null object\n",
      "Phone          3 non-null object\n",
      "dtypes: int64(1), object(2)\n",
      "memory usage: 152.0+ bytes\n",
      "None\n",
      "\n",
      "Sample rows:\n"
     ]
    },
    {
     "data": {
      "text/html": [
       "<div>\n",
       "<style scoped>\n",
       "    .dataframe tbody tr th:only-of-type {\n",
       "        vertical-align: middle;\n",
       "    }\n",
       "\n",
       "    .dataframe tbody tr th {\n",
       "        vertical-align: top;\n",
       "    }\n",
       "\n",
       "    .dataframe thead th {\n",
       "        text-align: right;\n",
       "    }\n",
       "</style>\n",
       "<table border=\"1\" class=\"dataframe\">\n",
       "  <thead>\n",
       "    <tr style=\"text-align: right;\">\n",
       "      <th></th>\n",
       "      <th>Id</th>\n",
       "      <th>CompanyName</th>\n",
       "      <th>Phone</th>\n",
       "    </tr>\n",
       "  </thead>\n",
       "  <tbody>\n",
       "    <tr>\n",
       "      <th>0</th>\n",
       "      <td>1</td>\n",
       "      <td>Speedy Express</td>\n",
       "      <td>(503) 555-9831</td>\n",
       "    </tr>\n",
       "    <tr>\n",
       "      <th>1</th>\n",
       "      <td>2</td>\n",
       "      <td>United Package</td>\n",
       "      <td>(503) 555-3199</td>\n",
       "    </tr>\n",
       "    <tr>\n",
       "      <th>2</th>\n",
       "      <td>3</td>\n",
       "      <td>Federal Shipping</td>\n",
       "      <td>(503) 555-9931</td>\n",
       "    </tr>\n",
       "  </tbody>\n",
       "</table>\n",
       "</div>"
      ],
      "text/plain": [
       "   Id       CompanyName           Phone\n",
       "0   1    Speedy Express  (503) 555-9831\n",
       "1   2    United Package  (503) 555-3199\n",
       "2   3  Federal Shipping  (503) 555-9931"
      ]
     },
     "metadata": {},
     "output_type": "display_data"
    },
    {
     "name": "stdout",
     "output_type": "stream",
     "text": [
      "Number of unique shippers: 3\n"
     ]
    }
   ],
   "source": [
    "# shipper table (4 of 13)\n",
    "shipper_df = pd.read_sql_query(\"SELECT * FROM Shipper;\", connection)\n",
    "print(shipper_df.info())\n",
    "print('\\nSample rows:')\n",
    "display(shipper_df.head())\n",
    "print('Number of unique shippers:', len(shipper_df.CompanyName.unique()))"
   ]
  },
  {
   "cell_type": "markdown",
   "metadata": {},
   "source": [
    "#### 2.5 Supplier table (5 of 13)"
   ]
  },
  {
   "cell_type": "code",
   "execution_count": 76,
   "metadata": {},
   "outputs": [
    {
     "name": "stdout",
     "output_type": "stream",
     "text": [
      "<class 'pandas.core.frame.DataFrame'>\n",
      "RangeIndex: 29 entries, 0 to 28\n",
      "Data columns (total 12 columns):\n",
      "Id              29 non-null int64\n",
      "CompanyName     29 non-null object\n",
      "ContactName     29 non-null object\n",
      "ContactTitle    29 non-null object\n",
      "Address         29 non-null object\n",
      "City            29 non-null object\n",
      "Region          29 non-null object\n",
      "PostalCode      29 non-null object\n",
      "Country         29 non-null object\n",
      "Phone           29 non-null object\n",
      "Fax             13 non-null object\n",
      "HomePage        5 non-null object\n",
      "dtypes: int64(1), object(11)\n",
      "memory usage: 2.8+ KB\n",
      "None\n",
      "\n",
      "Sample rows:\n"
     ]
    },
    {
     "data": {
      "text/html": [
       "<div>\n",
       "<style scoped>\n",
       "    .dataframe tbody tr th:only-of-type {\n",
       "        vertical-align: middle;\n",
       "    }\n",
       "\n",
       "    .dataframe tbody tr th {\n",
       "        vertical-align: top;\n",
       "    }\n",
       "\n",
       "    .dataframe thead th {\n",
       "        text-align: right;\n",
       "    }\n",
       "</style>\n",
       "<table border=\"1\" class=\"dataframe\">\n",
       "  <thead>\n",
       "    <tr style=\"text-align: right;\">\n",
       "      <th></th>\n",
       "      <th>Id</th>\n",
       "      <th>CompanyName</th>\n",
       "      <th>ContactName</th>\n",
       "      <th>ContactTitle</th>\n",
       "      <th>Address</th>\n",
       "      <th>City</th>\n",
       "      <th>Region</th>\n",
       "      <th>PostalCode</th>\n",
       "      <th>Country</th>\n",
       "      <th>Phone</th>\n",
       "      <th>Fax</th>\n",
       "      <th>HomePage</th>\n",
       "    </tr>\n",
       "  </thead>\n",
       "  <tbody>\n",
       "    <tr>\n",
       "      <th>0</th>\n",
       "      <td>1</td>\n",
       "      <td>Exotic Liquids</td>\n",
       "      <td>Charlotte Cooper</td>\n",
       "      <td>Purchasing Manager</td>\n",
       "      <td>49 Gilbert St.</td>\n",
       "      <td>London</td>\n",
       "      <td>British Isles</td>\n",
       "      <td>EC1 4SD</td>\n",
       "      <td>UK</td>\n",
       "      <td>(171) 555-2222</td>\n",
       "      <td>None</td>\n",
       "      <td>None</td>\n",
       "    </tr>\n",
       "    <tr>\n",
       "      <th>1</th>\n",
       "      <td>2</td>\n",
       "      <td>New Orleans Cajun Delights</td>\n",
       "      <td>Shelley Burke</td>\n",
       "      <td>Order Administrator</td>\n",
       "      <td>P.O. Box 78934</td>\n",
       "      <td>New Orleans</td>\n",
       "      <td>North America</td>\n",
       "      <td>70117</td>\n",
       "      <td>USA</td>\n",
       "      <td>(100) 555-4822</td>\n",
       "      <td>None</td>\n",
       "      <td>#CAJUN.HTM#</td>\n",
       "    </tr>\n",
       "    <tr>\n",
       "      <th>2</th>\n",
       "      <td>3</td>\n",
       "      <td>Grandma Kelly's Homestead</td>\n",
       "      <td>Regina Murphy</td>\n",
       "      <td>Sales Representative</td>\n",
       "      <td>707 Oxford Rd.</td>\n",
       "      <td>Ann Arbor</td>\n",
       "      <td>North America</td>\n",
       "      <td>48104</td>\n",
       "      <td>USA</td>\n",
       "      <td>(313) 555-5735</td>\n",
       "      <td>(313) 555-3349</td>\n",
       "      <td>None</td>\n",
       "    </tr>\n",
       "  </tbody>\n",
       "</table>\n",
       "</div>"
      ],
      "text/plain": [
       "   Id                 CompanyName       ContactName          ContactTitle  \\\n",
       "0   1              Exotic Liquids  Charlotte Cooper    Purchasing Manager   \n",
       "1   2  New Orleans Cajun Delights     Shelley Burke   Order Administrator   \n",
       "2   3   Grandma Kelly's Homestead     Regina Murphy  Sales Representative   \n",
       "\n",
       "          Address         City         Region PostalCode Country  \\\n",
       "0  49 Gilbert St.       London  British Isles    EC1 4SD      UK   \n",
       "1  P.O. Box 78934  New Orleans  North America      70117     USA   \n",
       "2  707 Oxford Rd.    Ann Arbor  North America      48104     USA   \n",
       "\n",
       "            Phone             Fax     HomePage  \n",
       "0  (171) 555-2222            None         None  \n",
       "1  (100) 555-4822            None  #CAJUN.HTM#  \n",
       "2  (313) 555-5735  (313) 555-3349         None  "
      ]
     },
     "metadata": {},
     "output_type": "display_data"
    },
    {
     "name": "stdout",
     "output_type": "stream",
     "text": [
      "Number of unique\n",
      "--------------------\n",
      "suppliers: 29\n",
      "contact titles: 15\n",
      "cities: 29\n",
      "regions: 11\n",
      "postal codes: 29\n",
      "countries: 16\n"
     ]
    }
   ],
   "source": [
    "# supplier table (5 of 13)\n",
    "supplier_df = pd.read_sql_query(\"SELECT * FROM Supplier;\", connection)\n",
    "print(supplier_df.info())\n",
    "print('\\nSample rows:')\n",
    "display(supplier_df.head(3))\n",
    "print('Number of unique')\n",
    "print('-'*20)\n",
    "print('suppliers:', len(supplier_df.CompanyName.unique()))\n",
    "print('contact titles:', len(supplier_df.ContactTitle.unique()))\n",
    "print('cities:', len(supplier_df.City.unique()))\n",
    "print('regions:', len(supplier_df.Region.unique()))\n",
    "print('postal codes:', len(supplier_df.PostalCode.unique()))\n",
    "print('countries:', len(supplier_df.Country.unique()))"
   ]
  },
  {
   "cell_type": "markdown",
   "metadata": {},
   "source": [
    "#### 2.6 Order table (6 of 13)"
   ]
  },
  {
   "cell_type": "code",
   "execution_count": 77,
   "metadata": {},
   "outputs": [
    {
     "name": "stdout",
     "output_type": "stream",
     "text": [
      "<class 'pandas.core.frame.DataFrame'>\n",
      "RangeIndex: 830 entries, 0 to 829\n",
      "Data columns (total 14 columns):\n",
      "Id                830 non-null int64\n",
      "CustomerId        830 non-null object\n",
      "EmployeeId        830 non-null int64\n",
      "OrderDate         830 non-null object\n",
      "RequiredDate      830 non-null object\n",
      "ShippedDate       809 non-null object\n",
      "ShipVia           830 non-null int64\n",
      "Freight           830 non-null float64\n",
      "ShipName          830 non-null object\n",
      "ShipAddress       830 non-null object\n",
      "ShipCity          830 non-null object\n",
      "ShipRegion        830 non-null object\n",
      "ShipPostalCode    811 non-null object\n",
      "ShipCountry       830 non-null object\n",
      "dtypes: float64(1), int64(3), object(10)\n",
      "memory usage: 90.9+ KB\n",
      "None\n",
      "\n",
      "Sample rows:\n"
     ]
    },
    {
     "data": {
      "text/html": [
       "<div>\n",
       "<style scoped>\n",
       "    .dataframe tbody tr th:only-of-type {\n",
       "        vertical-align: middle;\n",
       "    }\n",
       "\n",
       "    .dataframe tbody tr th {\n",
       "        vertical-align: top;\n",
       "    }\n",
       "\n",
       "    .dataframe thead th {\n",
       "        text-align: right;\n",
       "    }\n",
       "</style>\n",
       "<table border=\"1\" class=\"dataframe\">\n",
       "  <thead>\n",
       "    <tr style=\"text-align: right;\">\n",
       "      <th></th>\n",
       "      <th>Id</th>\n",
       "      <th>CustomerId</th>\n",
       "      <th>EmployeeId</th>\n",
       "      <th>OrderDate</th>\n",
       "      <th>RequiredDate</th>\n",
       "      <th>ShippedDate</th>\n",
       "      <th>ShipVia</th>\n",
       "      <th>Freight</th>\n",
       "      <th>ShipName</th>\n",
       "      <th>ShipAddress</th>\n",
       "      <th>ShipCity</th>\n",
       "      <th>ShipRegion</th>\n",
       "      <th>ShipPostalCode</th>\n",
       "      <th>ShipCountry</th>\n",
       "    </tr>\n",
       "  </thead>\n",
       "  <tbody>\n",
       "    <tr>\n",
       "      <th>0</th>\n",
       "      <td>10248</td>\n",
       "      <td>VINET</td>\n",
       "      <td>5</td>\n",
       "      <td>2012-07-04</td>\n",
       "      <td>2012-08-01</td>\n",
       "      <td>2012-07-16</td>\n",
       "      <td>3</td>\n",
       "      <td>32.38</td>\n",
       "      <td>Vins et alcools Chevalier</td>\n",
       "      <td>59 rue de l'Abbaye</td>\n",
       "      <td>Reims</td>\n",
       "      <td>Western Europe</td>\n",
       "      <td>51100</td>\n",
       "      <td>France</td>\n",
       "    </tr>\n",
       "    <tr>\n",
       "      <th>1</th>\n",
       "      <td>10249</td>\n",
       "      <td>TOMSP</td>\n",
       "      <td>6</td>\n",
       "      <td>2012-07-05</td>\n",
       "      <td>2012-08-16</td>\n",
       "      <td>2012-07-10</td>\n",
       "      <td>1</td>\n",
       "      <td>11.61</td>\n",
       "      <td>Toms Spezialitäten</td>\n",
       "      <td>Luisenstr. 48</td>\n",
       "      <td>Münster</td>\n",
       "      <td>Western Europe</td>\n",
       "      <td>44087</td>\n",
       "      <td>Germany</td>\n",
       "    </tr>\n",
       "    <tr>\n",
       "      <th>2</th>\n",
       "      <td>10250</td>\n",
       "      <td>HANAR</td>\n",
       "      <td>4</td>\n",
       "      <td>2012-07-08</td>\n",
       "      <td>2012-08-05</td>\n",
       "      <td>2012-07-12</td>\n",
       "      <td>2</td>\n",
       "      <td>65.83</td>\n",
       "      <td>Hanari Carnes</td>\n",
       "      <td>Rua do Paço, 67</td>\n",
       "      <td>Rio de Janeiro</td>\n",
       "      <td>South America</td>\n",
       "      <td>05454-876</td>\n",
       "      <td>Brazil</td>\n",
       "    </tr>\n",
       "  </tbody>\n",
       "</table>\n",
       "</div>"
      ],
      "text/plain": [
       "      Id CustomerId  EmployeeId   OrderDate RequiredDate ShippedDate  ShipVia  \\\n",
       "0  10248      VINET           5  2012-07-04   2012-08-01  2012-07-16        3   \n",
       "1  10249      TOMSP           6  2012-07-05   2012-08-16  2012-07-10        1   \n",
       "2  10250      HANAR           4  2012-07-08   2012-08-05  2012-07-12        2   \n",
       "\n",
       "   Freight                   ShipName         ShipAddress        ShipCity  \\\n",
       "0    32.38  Vins et alcools Chevalier  59 rue de l'Abbaye           Reims   \n",
       "1    11.61         Toms Spezialitäten       Luisenstr. 48         Münster   \n",
       "2    65.83              Hanari Carnes     Rua do Paço, 67  Rio de Janeiro   \n",
       "\n",
       "       ShipRegion ShipPostalCode ShipCountry  \n",
       "0  Western Europe          51100      France  \n",
       "1  Western Europe          44087     Germany  \n",
       "2   South America      05454-876      Brazil  "
      ]
     },
     "metadata": {},
     "output_type": "display_data"
    },
    {
     "name": "stdout",
     "output_type": "stream",
     "text": [
      "Descriptive statistics:\n"
     ]
    },
    {
     "data": {
      "text/html": [
       "<div>\n",
       "<style scoped>\n",
       "    .dataframe tbody tr th:only-of-type {\n",
       "        vertical-align: middle;\n",
       "    }\n",
       "\n",
       "    .dataframe tbody tr th {\n",
       "        vertical-align: top;\n",
       "    }\n",
       "\n",
       "    .dataframe thead th {\n",
       "        text-align: right;\n",
       "    }\n",
       "</style>\n",
       "<table border=\"1\" class=\"dataframe\">\n",
       "  <thead>\n",
       "    <tr style=\"text-align: right;\">\n",
       "      <th></th>\n",
       "      <th>Freight</th>\n",
       "    </tr>\n",
       "  </thead>\n",
       "  <tbody>\n",
       "    <tr>\n",
       "      <th>count</th>\n",
       "      <td>830.000000</td>\n",
       "    </tr>\n",
       "    <tr>\n",
       "      <th>mean</th>\n",
       "      <td>78.244205</td>\n",
       "    </tr>\n",
       "    <tr>\n",
       "      <th>std</th>\n",
       "      <td>116.779294</td>\n",
       "    </tr>\n",
       "    <tr>\n",
       "      <th>min</th>\n",
       "      <td>0.020000</td>\n",
       "    </tr>\n",
       "    <tr>\n",
       "      <th>25%</th>\n",
       "      <td>13.380000</td>\n",
       "    </tr>\n",
       "    <tr>\n",
       "      <th>50%</th>\n",
       "      <td>41.360000</td>\n",
       "    </tr>\n",
       "    <tr>\n",
       "      <th>75%</th>\n",
       "      <td>91.430000</td>\n",
       "    </tr>\n",
       "    <tr>\n",
       "      <th>max</th>\n",
       "      <td>1007.640000</td>\n",
       "    </tr>\n",
       "  </tbody>\n",
       "</table>\n",
       "</div>"
      ],
      "text/plain": [
       "           Freight\n",
       "count   830.000000\n",
       "mean     78.244205\n",
       "std     116.779294\n",
       "min       0.020000\n",
       "25%      13.380000\n",
       "50%      41.360000\n",
       "75%      91.430000\n",
       "max    1007.640000"
      ]
     },
     "metadata": {},
     "output_type": "display_data"
    },
    {
     "name": "stdout",
     "output_type": "stream",
     "text": [
      "Sum of freight: 64942.689999999995\n",
      "\n",
      "Number of unique\n",
      "--------------------\n",
      "customers that order: 89\n",
      "employees filling orders: 9\n",
      "order dates: 480\n",
      "required dates: 454\n",
      "shipped dates: 388\n",
      "ship via: 3\n",
      "freight values: 799\n",
      "ship names: 90\n",
      "cities: 70\n",
      "ship regions: 9\n",
      "ship postal codes: 85\n",
      "ship countries: 21\n"
     ]
    }
   ],
   "source": [
    "# order table (6 of 13)\n",
    "order_df = pd.read_sql_query(\"SELECT * FROM `Order`;\", connection)\n",
    "print(order_df.info())\n",
    "print('\\nSample rows:')\n",
    "display(order_df.head(3))\n",
    "print('Descriptive statistics:')\n",
    "display(order_df.describe()[['Freight']])\n",
    "print('Sum of freight:', order_df.Freight.sum())\n",
    "print('')\n",
    "print('Number of unique')\n",
    "print('-'*20)\n",
    "print('customers that order:', len(order_df.CustomerId.unique()))\n",
    "print('employees filling orders:', len(order_df.EmployeeId.unique()))\n",
    "print('order dates:', len(order_df.OrderDate.unique()))\n",
    "print('required dates:', len(order_df.RequiredDate.unique()))\n",
    "print('shipped dates:', len(order_df.ShippedDate.unique()))\n",
    "print('ship via:', len(order_df.ShipVia.unique()))\n",
    "print('freight values:', len(order_df.Freight.unique()))\n",
    "print('ship names:', len(order_df.ShipName.unique()))\n",
    "print('cities:', len(order_df.ShipCity.unique()))\n",
    "print('ship regions:', len(order_df.ShipRegion.unique()))\n",
    "print('ship postal codes:', len(order_df.ShipPostalCode.unique()))\n",
    "print('ship countries:', len(order_df.ShipCountry.unique()))"
   ]
  },
  {
   "cell_type": "markdown",
   "metadata": {},
   "source": [
    "#### 2.7 Product table (7 of 13)"
   ]
  },
  {
   "cell_type": "code",
   "execution_count": 78,
   "metadata": {},
   "outputs": [
    {
     "name": "stdout",
     "output_type": "stream",
     "text": [
      "<class 'pandas.core.frame.DataFrame'>\n",
      "RangeIndex: 77 entries, 0 to 76\n",
      "Data columns (total 10 columns):\n",
      "Id                 77 non-null int64\n",
      "ProductName        77 non-null object\n",
      "SupplierId         77 non-null int64\n",
      "CategoryId         77 non-null int64\n",
      "QuantityPerUnit    77 non-null object\n",
      "UnitPrice          77 non-null float64\n",
      "UnitsInStock       77 non-null int64\n",
      "UnitsOnOrder       77 non-null int64\n",
      "ReorderLevel       77 non-null int64\n",
      "Discontinued       77 non-null int64\n",
      "dtypes: float64(1), int64(7), object(2)\n",
      "memory usage: 6.1+ KB\n",
      "None\n",
      "\n",
      "Sample rows:\n"
     ]
    },
    {
     "data": {
      "text/html": [
       "<div>\n",
       "<style scoped>\n",
       "    .dataframe tbody tr th:only-of-type {\n",
       "        vertical-align: middle;\n",
       "    }\n",
       "\n",
       "    .dataframe tbody tr th {\n",
       "        vertical-align: top;\n",
       "    }\n",
       "\n",
       "    .dataframe thead th {\n",
       "        text-align: right;\n",
       "    }\n",
       "</style>\n",
       "<table border=\"1\" class=\"dataframe\">\n",
       "  <thead>\n",
       "    <tr style=\"text-align: right;\">\n",
       "      <th></th>\n",
       "      <th>Id</th>\n",
       "      <th>ProductName</th>\n",
       "      <th>SupplierId</th>\n",
       "      <th>CategoryId</th>\n",
       "      <th>QuantityPerUnit</th>\n",
       "      <th>UnitPrice</th>\n",
       "      <th>UnitsInStock</th>\n",
       "      <th>UnitsOnOrder</th>\n",
       "      <th>ReorderLevel</th>\n",
       "      <th>Discontinued</th>\n",
       "    </tr>\n",
       "  </thead>\n",
       "  <tbody>\n",
       "    <tr>\n",
       "      <th>0</th>\n",
       "      <td>1</td>\n",
       "      <td>Chai</td>\n",
       "      <td>1</td>\n",
       "      <td>1</td>\n",
       "      <td>10 boxes x 20 bags</td>\n",
       "      <td>18.0</td>\n",
       "      <td>39</td>\n",
       "      <td>0</td>\n",
       "      <td>10</td>\n",
       "      <td>0</td>\n",
       "    </tr>\n",
       "    <tr>\n",
       "      <th>1</th>\n",
       "      <td>2</td>\n",
       "      <td>Chang</td>\n",
       "      <td>1</td>\n",
       "      <td>1</td>\n",
       "      <td>24 - 12 oz bottles</td>\n",
       "      <td>19.0</td>\n",
       "      <td>17</td>\n",
       "      <td>40</td>\n",
       "      <td>25</td>\n",
       "      <td>0</td>\n",
       "    </tr>\n",
       "    <tr>\n",
       "      <th>2</th>\n",
       "      <td>3</td>\n",
       "      <td>Aniseed Syrup</td>\n",
       "      <td>1</td>\n",
       "      <td>2</td>\n",
       "      <td>12 - 550 ml bottles</td>\n",
       "      <td>10.0</td>\n",
       "      <td>13</td>\n",
       "      <td>70</td>\n",
       "      <td>25</td>\n",
       "      <td>0</td>\n",
       "    </tr>\n",
       "  </tbody>\n",
       "</table>\n",
       "</div>"
      ],
      "text/plain": [
       "   Id    ProductName  SupplierId  CategoryId      QuantityPerUnit  UnitPrice  \\\n",
       "0   1           Chai           1           1   10 boxes x 20 bags       18.0   \n",
       "1   2          Chang           1           1   24 - 12 oz bottles       19.0   \n",
       "2   3  Aniseed Syrup           1           2  12 - 550 ml bottles       10.0   \n",
       "\n",
       "   UnitsInStock  UnitsOnOrder  ReorderLevel  Discontinued  \n",
       "0            39             0            10             0  \n",
       "1            17            40            25             0  \n",
       "2            13            70            25             0  "
      ]
     },
     "metadata": {},
     "output_type": "display_data"
    },
    {
     "name": "stdout",
     "output_type": "stream",
     "text": [
      "Descriptive statistics:\n"
     ]
    },
    {
     "data": {
      "text/html": [
       "<div>\n",
       "<style scoped>\n",
       "    .dataframe tbody tr th:only-of-type {\n",
       "        vertical-align: middle;\n",
       "    }\n",
       "\n",
       "    .dataframe tbody tr th {\n",
       "        vertical-align: top;\n",
       "    }\n",
       "\n",
       "    .dataframe thead th {\n",
       "        text-align: right;\n",
       "    }\n",
       "</style>\n",
       "<table border=\"1\" class=\"dataframe\">\n",
       "  <thead>\n",
       "    <tr style=\"text-align: right;\">\n",
       "      <th></th>\n",
       "      <th>UnitPrice</th>\n",
       "      <th>UnitsInStock</th>\n",
       "      <th>UnitsOnOrder</th>\n",
       "      <th>ReorderLevel</th>\n",
       "    </tr>\n",
       "  </thead>\n",
       "  <tbody>\n",
       "    <tr>\n",
       "      <th>count</th>\n",
       "      <td>77.000000</td>\n",
       "      <td>77.000000</td>\n",
       "      <td>77.000000</td>\n",
       "      <td>77.000000</td>\n",
       "    </tr>\n",
       "    <tr>\n",
       "      <th>mean</th>\n",
       "      <td>28.866364</td>\n",
       "      <td>40.506494</td>\n",
       "      <td>10.129870</td>\n",
       "      <td>12.467532</td>\n",
       "    </tr>\n",
       "    <tr>\n",
       "      <th>std</th>\n",
       "      <td>33.815111</td>\n",
       "      <td>36.147222</td>\n",
       "      <td>23.141072</td>\n",
       "      <td>10.931105</td>\n",
       "    </tr>\n",
       "    <tr>\n",
       "      <th>min</th>\n",
       "      <td>2.500000</td>\n",
       "      <td>0.000000</td>\n",
       "      <td>0.000000</td>\n",
       "      <td>0.000000</td>\n",
       "    </tr>\n",
       "    <tr>\n",
       "      <th>25%</th>\n",
       "      <td>13.250000</td>\n",
       "      <td>15.000000</td>\n",
       "      <td>0.000000</td>\n",
       "      <td>0.000000</td>\n",
       "    </tr>\n",
       "    <tr>\n",
       "      <th>50%</th>\n",
       "      <td>19.500000</td>\n",
       "      <td>26.000000</td>\n",
       "      <td>0.000000</td>\n",
       "      <td>10.000000</td>\n",
       "    </tr>\n",
       "    <tr>\n",
       "      <th>75%</th>\n",
       "      <td>33.250000</td>\n",
       "      <td>61.000000</td>\n",
       "      <td>0.000000</td>\n",
       "      <td>25.000000</td>\n",
       "    </tr>\n",
       "    <tr>\n",
       "      <th>max</th>\n",
       "      <td>263.500000</td>\n",
       "      <td>125.000000</td>\n",
       "      <td>100.000000</td>\n",
       "      <td>30.000000</td>\n",
       "    </tr>\n",
       "  </tbody>\n",
       "</table>\n",
       "</div>"
      ],
      "text/plain": [
       "        UnitPrice  UnitsInStock  UnitsOnOrder  ReorderLevel\n",
       "count   77.000000     77.000000     77.000000     77.000000\n",
       "mean    28.866364     40.506494     10.129870     12.467532\n",
       "std     33.815111     36.147222     23.141072     10.931105\n",
       "min      2.500000      0.000000      0.000000      0.000000\n",
       "25%     13.250000     15.000000      0.000000      0.000000\n",
       "50%     19.500000     26.000000      0.000000     10.000000\n",
       "75%     33.250000     61.000000      0.000000     25.000000\n",
       "max    263.500000    125.000000    100.000000     30.000000"
      ]
     },
     "metadata": {},
     "output_type": "display_data"
    },
    {
     "name": "stdout",
     "output_type": "stream",
     "text": [
      "Sum of\n",
      "--------------------\n",
      "unit price: 2222.71\n",
      "units in stock: 3119\n",
      "units on order: 780\n",
      "reorder levels: 960\n",
      "\n",
      "Number of unique\n",
      "--------------------\n",
      "product names: 77\n",
      "suppliers: 29\n",
      "categories: 8\n",
      "quantity per unit: 70\n",
      "unit prices: 62\n",
      "units in stock: 51\n",
      "units on order: 10\n",
      "reorder levels: 7\n"
     ]
    }
   ],
   "source": [
    "# product table (7 of 13)\n",
    "product_df = pd.read_sql_query(\"SELECT * FROM Product;\", connection)\n",
    "print(product_df.info())\n",
    "print('\\nSample rows:')\n",
    "display(product_df.head(3))\n",
    "print('Descriptive statistics:')\n",
    "display(product_df.describe()[['UnitPrice','UnitsInStock','UnitsOnOrder','ReorderLevel']])\n",
    "print('Sum of')\n",
    "print('-'*20)\n",
    "print('unit price:', product_df.UnitPrice.sum())\n",
    "print('units in stock:', product_df.UnitsInStock.sum())\n",
    "print('units on order:', product_df.UnitsOnOrder.sum())\n",
    "print('reorder levels:', product_df.ReorderLevel.sum())\n",
    "print('')\n",
    "print('Number of unique')\n",
    "print('-'*20)\n",
    "print('product names:', len(product_df.ProductName.unique()))\n",
    "print('suppliers:', len(product_df.SupplierId.unique()))\n",
    "print('categories:', len(product_df.CategoryId.unique()))\n",
    "print('quantity per unit:', len(product_df.QuantityPerUnit.unique()))\n",
    "print('unit prices:', len(product_df.UnitPrice.unique()))\n",
    "print('units in stock:', len(product_df.UnitsInStock.unique()))\n",
    "print('units on order:', len(product_df.UnitsOnOrder.unique()))\n",
    "print('reorder levels:', len(product_df.ReorderLevel.unique()))"
   ]
  },
  {
   "cell_type": "markdown",
   "metadata": {},
   "source": [
    "#### 2.8 Order Detail table (8 of 13)"
   ]
  },
  {
   "cell_type": "code",
   "execution_count": 79,
   "metadata": {},
   "outputs": [
    {
     "name": "stdout",
     "output_type": "stream",
     "text": [
      "<class 'pandas.core.frame.DataFrame'>\n",
      "RangeIndex: 2155 entries, 0 to 2154\n",
      "Data columns (total 6 columns):\n",
      "Id           2155 non-null object\n",
      "OrderId      2155 non-null int64\n",
      "ProductId    2155 non-null int64\n",
      "UnitPrice    2155 non-null float64\n",
      "Quantity     2155 non-null int64\n",
      "Discount     2155 non-null float64\n",
      "dtypes: float64(2), int64(3), object(1)\n",
      "memory usage: 101.1+ KB\n",
      "None\n",
      "\n",
      "Sample rows:\n"
     ]
    },
    {
     "data": {
      "text/html": [
       "<div>\n",
       "<style scoped>\n",
       "    .dataframe tbody tr th:only-of-type {\n",
       "        vertical-align: middle;\n",
       "    }\n",
       "\n",
       "    .dataframe tbody tr th {\n",
       "        vertical-align: top;\n",
       "    }\n",
       "\n",
       "    .dataframe thead th {\n",
       "        text-align: right;\n",
       "    }\n",
       "</style>\n",
       "<table border=\"1\" class=\"dataframe\">\n",
       "  <thead>\n",
       "    <tr style=\"text-align: right;\">\n",
       "      <th></th>\n",
       "      <th>Id</th>\n",
       "      <th>OrderId</th>\n",
       "      <th>ProductId</th>\n",
       "      <th>UnitPrice</th>\n",
       "      <th>Quantity</th>\n",
       "      <th>Discount</th>\n",
       "    </tr>\n",
       "  </thead>\n",
       "  <tbody>\n",
       "    <tr>\n",
       "      <th>0</th>\n",
       "      <td>10248/11</td>\n",
       "      <td>10248</td>\n",
       "      <td>11</td>\n",
       "      <td>14.0</td>\n",
       "      <td>12</td>\n",
       "      <td>0.0</td>\n",
       "    </tr>\n",
       "    <tr>\n",
       "      <th>1</th>\n",
       "      <td>10248/42</td>\n",
       "      <td>10248</td>\n",
       "      <td>42</td>\n",
       "      <td>9.8</td>\n",
       "      <td>10</td>\n",
       "      <td>0.0</td>\n",
       "    </tr>\n",
       "    <tr>\n",
       "      <th>2</th>\n",
       "      <td>10248/72</td>\n",
       "      <td>10248</td>\n",
       "      <td>72</td>\n",
       "      <td>34.8</td>\n",
       "      <td>5</td>\n",
       "      <td>0.0</td>\n",
       "    </tr>\n",
       "  </tbody>\n",
       "</table>\n",
       "</div>"
      ],
      "text/plain": [
       "         Id  OrderId  ProductId  UnitPrice  Quantity  Discount\n",
       "0  10248/11    10248         11       14.0        12       0.0\n",
       "1  10248/42    10248         42        9.8        10       0.0\n",
       "2  10248/72    10248         72       34.8         5       0.0"
      ]
     },
     "metadata": {},
     "output_type": "display_data"
    },
    {
     "name": "stdout",
     "output_type": "stream",
     "text": [
      "Descriptive statistics:\n"
     ]
    },
    {
     "data": {
      "text/html": [
       "<div>\n",
       "<style scoped>\n",
       "    .dataframe tbody tr th:only-of-type {\n",
       "        vertical-align: middle;\n",
       "    }\n",
       "\n",
       "    .dataframe tbody tr th {\n",
       "        vertical-align: top;\n",
       "    }\n",
       "\n",
       "    .dataframe thead th {\n",
       "        text-align: right;\n",
       "    }\n",
       "</style>\n",
       "<table border=\"1\" class=\"dataframe\">\n",
       "  <thead>\n",
       "    <tr style=\"text-align: right;\">\n",
       "      <th></th>\n",
       "      <th>UnitPrice</th>\n",
       "      <th>Quantity</th>\n",
       "      <th>Discount</th>\n",
       "    </tr>\n",
       "  </thead>\n",
       "  <tbody>\n",
       "    <tr>\n",
       "      <th>count</th>\n",
       "      <td>2155.000000</td>\n",
       "      <td>2155.000000</td>\n",
       "      <td>2155.000000</td>\n",
       "    </tr>\n",
       "    <tr>\n",
       "      <th>mean</th>\n",
       "      <td>26.218520</td>\n",
       "      <td>23.812993</td>\n",
       "      <td>0.056167</td>\n",
       "    </tr>\n",
       "    <tr>\n",
       "      <th>std</th>\n",
       "      <td>29.827418</td>\n",
       "      <td>19.022047</td>\n",
       "      <td>0.083450</td>\n",
       "    </tr>\n",
       "    <tr>\n",
       "      <th>min</th>\n",
       "      <td>2.000000</td>\n",
       "      <td>1.000000</td>\n",
       "      <td>0.000000</td>\n",
       "    </tr>\n",
       "    <tr>\n",
       "      <th>25%</th>\n",
       "      <td>12.000000</td>\n",
       "      <td>10.000000</td>\n",
       "      <td>0.000000</td>\n",
       "    </tr>\n",
       "    <tr>\n",
       "      <th>50%</th>\n",
       "      <td>18.400000</td>\n",
       "      <td>20.000000</td>\n",
       "      <td>0.000000</td>\n",
       "    </tr>\n",
       "    <tr>\n",
       "      <th>75%</th>\n",
       "      <td>32.000000</td>\n",
       "      <td>30.000000</td>\n",
       "      <td>0.100000</td>\n",
       "    </tr>\n",
       "    <tr>\n",
       "      <th>max</th>\n",
       "      <td>263.500000</td>\n",
       "      <td>130.000000</td>\n",
       "      <td>0.250000</td>\n",
       "    </tr>\n",
       "  </tbody>\n",
       "</table>\n",
       "</div>"
      ],
      "text/plain": [
       "         UnitPrice     Quantity     Discount\n",
       "count  2155.000000  2155.000000  2155.000000\n",
       "mean     26.218520    23.812993     0.056167\n",
       "std      29.827418    19.022047     0.083450\n",
       "min       2.000000     1.000000     0.000000\n",
       "25%      12.000000    10.000000     0.000000\n",
       "50%      18.400000    20.000000     0.000000\n",
       "75%      32.000000    30.000000     0.100000\n",
       "max     263.500000   130.000000     0.250000"
      ]
     },
     "metadata": {},
     "output_type": "display_data"
    },
    {
     "name": "stdout",
     "output_type": "stream",
     "text": [
      "Sum of\n",
      "--------------------\n",
      "unit price: 56500.91\n",
      "quantity: 51317\n",
      "\n",
      "Number of unique\n",
      "--------------------\n",
      "order id: 830\n",
      "unit price: 116\n",
      "unique quantity: 55\n",
      "unique discount: 11\n"
     ]
    }
   ],
   "source": [
    "# orderdetail table (8 of 13)\n",
    "orderdetail_df = pd.read_sql_query(\"SELECT * FROM OrderDetail;\", connection)\n",
    "print(orderdetail_df.info())\n",
    "print('\\nSample rows:')\n",
    "display(orderdetail_df.head(3))\n",
    "print('Descriptive statistics:')\n",
    "display(orderdetail_df.describe()[['UnitPrice','Quantity','Discount']])\n",
    "print('Sum of')\n",
    "print('-'*20)\n",
    "print('unit price:', orderdetail_df.UnitPrice.sum())\n",
    "print('quantity:', orderdetail_df.Quantity.sum())\n",
    "print('')\n",
    "print('Number of unique')\n",
    "print('-'*20)\n",
    "print('order id:', len(orderdetail_df.OrderId.unique()))\n",
    "print('unit price:', len(orderdetail_df.UnitPrice.unique()))\n",
    "print('unique quantity:', len(orderdetail_df.Quantity.unique()))\n",
    "print('unique discount:', len(orderdetail_df.Discount.unique()))"
   ]
  },
  {
   "cell_type": "markdown",
   "metadata": {},
   "source": [
    "#### 2.9 Customer Demo table (9 of 13)"
   ]
  },
  {
   "cell_type": "code",
   "execution_count": 80,
   "metadata": {},
   "outputs": [
    {
     "name": "stdout",
     "output_type": "stream",
     "text": [
      "<class 'pandas.core.frame.DataFrame'>\n",
      "Index: 0 entries\n",
      "Data columns (total 2 columns):\n",
      "Id                0 non-null object\n",
      "CustomerTypeId    0 non-null object\n",
      "dtypes: object(2)\n",
      "memory usage: 0.0+ bytes\n",
      "None\n",
      "\n",
      "Sample rows:\n"
     ]
    },
    {
     "data": {
      "text/html": [
       "<div>\n",
       "<style scoped>\n",
       "    .dataframe tbody tr th:only-of-type {\n",
       "        vertical-align: middle;\n",
       "    }\n",
       "\n",
       "    .dataframe tbody tr th {\n",
       "        vertical-align: top;\n",
       "    }\n",
       "\n",
       "    .dataframe thead th {\n",
       "        text-align: right;\n",
       "    }\n",
       "</style>\n",
       "<table border=\"1\" class=\"dataframe\">\n",
       "  <thead>\n",
       "    <tr style=\"text-align: right;\">\n",
       "      <th></th>\n",
       "      <th>Id</th>\n",
       "      <th>CustomerTypeId</th>\n",
       "    </tr>\n",
       "  </thead>\n",
       "  <tbody>\n",
       "  </tbody>\n",
       "</table>\n",
       "</div>"
      ],
      "text/plain": [
       "Empty DataFrame\n",
       "Columns: [Id, CustomerTypeId]\n",
       "Index: []"
      ]
     },
     "execution_count": 80,
     "metadata": {},
     "output_type": "execute_result"
    }
   ],
   "source": [
    "# customercustomerdemo table (9 of 13)\n",
    "customercustomerdemo_df = pd.read_sql_query(\"SELECT * FROM CustomerCustomerDemo;\", connection)\n",
    "print(customercustomerdemo_df.info())\n",
    "print('\\nSample rows:')\n",
    "customercustomerdemo_df.head(3)"
   ]
  },
  {
   "cell_type": "markdown",
   "metadata": {},
   "source": [
    "#### 2.10 Customer Demographic table (10 of 13)"
   ]
  },
  {
   "cell_type": "code",
   "execution_count": 81,
   "metadata": {},
   "outputs": [
    {
     "name": "stdout",
     "output_type": "stream",
     "text": [
      "<class 'pandas.core.frame.DataFrame'>\n",
      "Index: 0 entries\n",
      "Data columns (total 2 columns):\n",
      "Id              0 non-null object\n",
      "CustomerDesc    0 non-null object\n",
      "dtypes: object(2)\n",
      "memory usage: 0.0+ bytes\n",
      "None\n",
      "\n",
      "Sample rows:\n"
     ]
    },
    {
     "data": {
      "text/html": [
       "<div>\n",
       "<style scoped>\n",
       "    .dataframe tbody tr th:only-of-type {\n",
       "        vertical-align: middle;\n",
       "    }\n",
       "\n",
       "    .dataframe tbody tr th {\n",
       "        vertical-align: top;\n",
       "    }\n",
       "\n",
       "    .dataframe thead th {\n",
       "        text-align: right;\n",
       "    }\n",
       "</style>\n",
       "<table border=\"1\" class=\"dataframe\">\n",
       "  <thead>\n",
       "    <tr style=\"text-align: right;\">\n",
       "      <th></th>\n",
       "      <th>Id</th>\n",
       "      <th>CustomerDesc</th>\n",
       "    </tr>\n",
       "  </thead>\n",
       "  <tbody>\n",
       "  </tbody>\n",
       "</table>\n",
       "</div>"
      ],
      "text/plain": [
       "Empty DataFrame\n",
       "Columns: [Id, CustomerDesc]\n",
       "Index: []"
      ]
     },
     "execution_count": 81,
     "metadata": {},
     "output_type": "execute_result"
    }
   ],
   "source": [
    "# customerdemographic table (10 of 13)\n",
    "customerdemographic_df = pd.read_sql_query(\"SELECT * FROM CustomerDemographic;\", connection)\n",
    "print(customerdemographic_df.info())\n",
    "print('\\nSample rows:')\n",
    "customerdemographic_df.head(3)"
   ]
  },
  {
   "cell_type": "markdown",
   "metadata": {},
   "source": [
    "#### 2.11 Region table (11 of 13)"
   ]
  },
  {
   "cell_type": "code",
   "execution_count": 82,
   "metadata": {},
   "outputs": [
    {
     "name": "stdout",
     "output_type": "stream",
     "text": [
      "<class 'pandas.core.frame.DataFrame'>\n",
      "RangeIndex: 4 entries, 0 to 3\n",
      "Data columns (total 2 columns):\n",
      "Id                   4 non-null int64\n",
      "RegionDescription    4 non-null object\n",
      "dtypes: int64(1), object(1)\n",
      "memory usage: 144.0+ bytes\n",
      "None\n",
      "\n",
      "Sample rows:\n"
     ]
    },
    {
     "data": {
      "text/html": [
       "<div>\n",
       "<style scoped>\n",
       "    .dataframe tbody tr th:only-of-type {\n",
       "        vertical-align: middle;\n",
       "    }\n",
       "\n",
       "    .dataframe tbody tr th {\n",
       "        vertical-align: top;\n",
       "    }\n",
       "\n",
       "    .dataframe thead th {\n",
       "        text-align: right;\n",
       "    }\n",
       "</style>\n",
       "<table border=\"1\" class=\"dataframe\">\n",
       "  <thead>\n",
       "    <tr style=\"text-align: right;\">\n",
       "      <th></th>\n",
       "      <th>Id</th>\n",
       "      <th>RegionDescription</th>\n",
       "    </tr>\n",
       "  </thead>\n",
       "  <tbody>\n",
       "    <tr>\n",
       "      <th>0</th>\n",
       "      <td>1</td>\n",
       "      <td>Eastern</td>\n",
       "    </tr>\n",
       "    <tr>\n",
       "      <th>1</th>\n",
       "      <td>2</td>\n",
       "      <td>Western</td>\n",
       "    </tr>\n",
       "    <tr>\n",
       "      <th>2</th>\n",
       "      <td>3</td>\n",
       "      <td>Northern</td>\n",
       "    </tr>\n",
       "    <tr>\n",
       "      <th>3</th>\n",
       "      <td>4</td>\n",
       "      <td>Southern</td>\n",
       "    </tr>\n",
       "  </tbody>\n",
       "</table>\n",
       "</div>"
      ],
      "text/plain": [
       "   Id RegionDescription\n",
       "0   1           Eastern\n",
       "1   2           Western\n",
       "2   3          Northern\n",
       "3   4          Southern"
      ]
     },
     "metadata": {},
     "output_type": "display_data"
    },
    {
     "name": "stdout",
     "output_type": "stream",
     "text": [
      "Number of unique regions: 4\n"
     ]
    }
   ],
   "source": [
    "# region table (11 of 13)\n",
    "region_df = pd.read_sql_query(\"SELECT * FROM Region;\", connection)\n",
    "print(region_df.info())\n",
    "print('\\nSample rows:')\n",
    "display(region_df.head())\n",
    "print('Number of unique regions:', len(region_df.RegionDescription.unique()))"
   ]
  },
  {
   "cell_type": "markdown",
   "metadata": {},
   "source": [
    "#### 2.12 Territory table (12 of 13)"
   ]
  },
  {
   "cell_type": "code",
   "execution_count": 83,
   "metadata": {},
   "outputs": [
    {
     "name": "stdout",
     "output_type": "stream",
     "text": [
      "<class 'pandas.core.frame.DataFrame'>\n",
      "RangeIndex: 53 entries, 0 to 52\n",
      "Data columns (total 3 columns):\n",
      "Id                      53 non-null object\n",
      "TerritoryDescription    53 non-null object\n",
      "RegionId                53 non-null int64\n",
      "dtypes: int64(1), object(2)\n",
      "memory usage: 1.3+ KB\n",
      "None\n",
      "\n",
      "Sample rows:\n"
     ]
    },
    {
     "data": {
      "text/html": [
       "<div>\n",
       "<style scoped>\n",
       "    .dataframe tbody tr th:only-of-type {\n",
       "        vertical-align: middle;\n",
       "    }\n",
       "\n",
       "    .dataframe tbody tr th {\n",
       "        vertical-align: top;\n",
       "    }\n",
       "\n",
       "    .dataframe thead th {\n",
       "        text-align: right;\n",
       "    }\n",
       "</style>\n",
       "<table border=\"1\" class=\"dataframe\">\n",
       "  <thead>\n",
       "    <tr style=\"text-align: right;\">\n",
       "      <th></th>\n",
       "      <th>Id</th>\n",
       "      <th>TerritoryDescription</th>\n",
       "      <th>RegionId</th>\n",
       "    </tr>\n",
       "  </thead>\n",
       "  <tbody>\n",
       "    <tr>\n",
       "      <th>0</th>\n",
       "      <td>01581</td>\n",
       "      <td>Westboro</td>\n",
       "      <td>1</td>\n",
       "    </tr>\n",
       "    <tr>\n",
       "      <th>1</th>\n",
       "      <td>01730</td>\n",
       "      <td>Bedford</td>\n",
       "      <td>1</td>\n",
       "    </tr>\n",
       "    <tr>\n",
       "      <th>2</th>\n",
       "      <td>01833</td>\n",
       "      <td>Georgetow</td>\n",
       "      <td>1</td>\n",
       "    </tr>\n",
       "  </tbody>\n",
       "</table>\n",
       "</div>"
      ],
      "text/plain": [
       "      Id TerritoryDescription  RegionId\n",
       "0  01581             Westboro         1\n",
       "1  01730              Bedford         1\n",
       "2  01833            Georgetow         1"
      ]
     },
     "metadata": {},
     "output_type": "display_data"
    },
    {
     "name": "stdout",
     "output_type": "stream",
     "text": [
      "Number of unique territories: 52\n"
     ]
    }
   ],
   "source": [
    "# territory table (12 of 13)\n",
    "territory_df = pd.read_sql_query(\"SELECT * FROM Territory;\", connection)\n",
    "print(territory_df.info())\n",
    "print('\\nSample rows:')\n",
    "display(territory_df.head(3))\n",
    "print('Number of unique territories:', len(territory_df.TerritoryDescription.unique()))"
   ]
  },
  {
   "cell_type": "markdown",
   "metadata": {},
   "source": [
    "#### 2.13 Employee Territory table (13 of 13)"
   ]
  },
  {
   "cell_type": "code",
   "execution_count": 84,
   "metadata": {},
   "outputs": [
    {
     "name": "stdout",
     "output_type": "stream",
     "text": [
      "<class 'pandas.core.frame.DataFrame'>\n",
      "RangeIndex: 49 entries, 0 to 48\n",
      "Data columns (total 3 columns):\n",
      "Id             49 non-null object\n",
      "EmployeeId     49 non-null int64\n",
      "TerritoryId    49 non-null object\n",
      "dtypes: int64(1), object(2)\n",
      "memory usage: 1.2+ KB\n",
      "None\n",
      "\n",
      "Sample rows:\n"
     ]
    },
    {
     "data": {
      "text/html": [
       "<div>\n",
       "<style scoped>\n",
       "    .dataframe tbody tr th:only-of-type {\n",
       "        vertical-align: middle;\n",
       "    }\n",
       "\n",
       "    .dataframe tbody tr th {\n",
       "        vertical-align: top;\n",
       "    }\n",
       "\n",
       "    .dataframe thead th {\n",
       "        text-align: right;\n",
       "    }\n",
       "</style>\n",
       "<table border=\"1\" class=\"dataframe\">\n",
       "  <thead>\n",
       "    <tr style=\"text-align: right;\">\n",
       "      <th></th>\n",
       "      <th>Id</th>\n",
       "      <th>EmployeeId</th>\n",
       "      <th>TerritoryId</th>\n",
       "    </tr>\n",
       "  </thead>\n",
       "  <tbody>\n",
       "    <tr>\n",
       "      <th>0</th>\n",
       "      <td>1/06897</td>\n",
       "      <td>1</td>\n",
       "      <td>06897</td>\n",
       "    </tr>\n",
       "    <tr>\n",
       "      <th>1</th>\n",
       "      <td>1/19713</td>\n",
       "      <td>1</td>\n",
       "      <td>19713</td>\n",
       "    </tr>\n",
       "    <tr>\n",
       "      <th>2</th>\n",
       "      <td>2/01581</td>\n",
       "      <td>2</td>\n",
       "      <td>01581</td>\n",
       "    </tr>\n",
       "  </tbody>\n",
       "</table>\n",
       "</div>"
      ],
      "text/plain": [
       "        Id  EmployeeId TerritoryId\n",
       "0  1/06897           1       06897\n",
       "1  1/19713           1       19713\n",
       "2  2/01581           2       01581"
      ]
     },
     "metadata": {},
     "output_type": "display_data"
    },
    {
     "name": "stdout",
     "output_type": "stream",
     "text": [
      "Number of unique employees with territories: 9\n",
      "Number of unique territories with employees: 49\n"
     ]
    }
   ],
   "source": [
    "# employeeterritory table (13 of 13)\n",
    "employeeterritory_df = pd.read_sql_query(\"SELECT * FROM EmployeeTerritory;\", connection)\n",
    "print(employeeterritory_df.info())\n",
    "print('\\nSample rows:')\n",
    "display(employeeterritory_df.head(3))\n",
    "print('Number of unique employees with territories:', len(employeeterritory_df.EmployeeId.unique()))\n",
    "print('Number of unique territories with employees:', len(employeeterritory_df.TerritoryId.unique()))"
   ]
  },
  {
   "cell_type": "markdown",
   "metadata": {},
   "source": [
    "Dataset exploration has revealed a lot of interesting information and relationships between potential variables. We'll use what we've learned above within our hypothesis tests. Before we get to the statistical tests, let's perform a scrubbing activity to expand the information available in the dataset. We will engineer features to describe the costs to and revenues from  Northwind company orders.\n",
    "\n",
    "[ToC](#Table-of-Contents:)\n",
    "\n",
    "### 3. Engineer features related to cost"
   ]
  },
  {
   "cell_type": "markdown",
   "metadata": {},
   "source": [
    "Quantity and price information is provided in the *Product* and *Order Detail* tables. Let's use this information to create new columns describing the cost of goods on hand and ordered in the *Product* table, and the revenue received from goods sold in the *Order Detail* table. \n",
    "\n",
    "#### 3.1 Cost features for product table fields"
   ]
  },
  {
   "cell_type": "code",
   "execution_count": 85,
   "metadata": {},
   "outputs": [
    {
     "name": "stdout",
     "output_type": "stream",
     "text": [
      "Descriptive statistics:\n"
     ]
    },
    {
     "data": {
      "text/html": [
       "<div>\n",
       "<style scoped>\n",
       "    .dataframe tbody tr th:only-of-type {\n",
       "        vertical-align: middle;\n",
       "    }\n",
       "\n",
       "    .dataframe tbody tr th {\n",
       "        vertical-align: top;\n",
       "    }\n",
       "\n",
       "    .dataframe thead th {\n",
       "        text-align: right;\n",
       "    }\n",
       "</style>\n",
       "<table border=\"1\" class=\"dataframe\">\n",
       "  <thead>\n",
       "    <tr style=\"text-align: right;\">\n",
       "      <th></th>\n",
       "      <th>CostOfUnitsInStock</th>\n",
       "      <th>CostOfUnitsOnOrder</th>\n",
       "      <th>CostOfReorderLevel</th>\n",
       "    </tr>\n",
       "  </thead>\n",
       "  <tbody>\n",
       "    <tr>\n",
       "      <th>count</th>\n",
       "      <td>77.000000</td>\n",
       "      <td>77.000000</td>\n",
       "      <td>77.000000</td>\n",
       "    </tr>\n",
       "    <tr>\n",
       "      <th>mean</th>\n",
       "      <td>961.699351</td>\n",
       "      <td>186.720779</td>\n",
       "      <td>301.559740</td>\n",
       "    </tr>\n",
       "    <tr>\n",
       "      <th>std</th>\n",
       "      <td>1032.816544</td>\n",
       "      <td>460.441054</td>\n",
       "      <td>517.002657</td>\n",
       "    </tr>\n",
       "    <tr>\n",
       "      <th>min</th>\n",
       "      <td>0.000000</td>\n",
       "      <td>0.000000</td>\n",
       "      <td>0.000000</td>\n",
       "    </tr>\n",
       "    <tr>\n",
       "      <th>25%</th>\n",
       "      <td>258.900000</td>\n",
       "      <td>0.000000</td>\n",
       "      <td>0.000000</td>\n",
       "    </tr>\n",
       "    <tr>\n",
       "      <th>50%</th>\n",
       "      <td>646.000000</td>\n",
       "      <td>0.000000</td>\n",
       "      <td>180.000000</td>\n",
       "    </tr>\n",
       "    <tr>\n",
       "      <th>75%</th>\n",
       "      <td>1140.000000</td>\n",
       "      <td>0.000000</td>\n",
       "      <td>390.000000</td>\n",
       "    </tr>\n",
       "    <tr>\n",
       "      <th>max</th>\n",
       "      <td>4479.500000</td>\n",
       "      <td>2660.000000</td>\n",
       "      <td>3952.500000</td>\n",
       "    </tr>\n",
       "  </tbody>\n",
       "</table>\n",
       "</div>"
      ],
      "text/plain": [
       "       CostOfUnitsInStock  CostOfUnitsOnOrder  CostOfReorderLevel\n",
       "count           77.000000           77.000000           77.000000\n",
       "mean           961.699351          186.720779          301.559740\n",
       "std           1032.816544          460.441054          517.002657\n",
       "min              0.000000            0.000000            0.000000\n",
       "25%            258.900000            0.000000            0.000000\n",
       "50%            646.000000            0.000000          180.000000\n",
       "75%           1140.000000            0.000000          390.000000\n",
       "max           4479.500000         2660.000000         3952.500000"
      ]
     },
     "metadata": {},
     "output_type": "display_data"
    },
    {
     "name": "stdout",
     "output_type": "stream",
     "text": [
      "Sum of\n",
      "--------------------\n",
      "cost of units in stock: 74050.85\n",
      "cost of units on order: 14377.5\n",
      "cost of reorder level: 23220.1\n",
      "\n",
      "Number of unique\n",
      "--------------------\n",
      "cost of units in stock: 72\n",
      "cost of units on order: 18\n",
      "cost of reorder levels: 50\n"
     ]
    }
   ],
   "source": [
    "# create columns for total cost of units in stock, units on order, and reorder level\n",
    "product_df['CostOfUnitsInStock'] = product_df['UnitPrice'] * product_df['UnitsInStock']\n",
    "product_df['CostOfUnitsOnOrder'] = product_df['UnitPrice'] * product_df['UnitsOnOrder']\n",
    "product_df['CostOfReorderLevel'] = product_df['UnitPrice'] * product_df['ReorderLevel']\n",
    "print('Descriptive statistics:')\n",
    "display(product_df.describe()[['CostOfUnitsInStock','CostOfUnitsOnOrder','CostOfReorderLevel']])\n",
    "print('Sum of')\n",
    "print('-'*20)\n",
    "print('cost of units in stock:', product_df.CostOfUnitsInStock.sum())\n",
    "print('cost of units on order:', product_df.CostOfUnitsOnOrder.sum())\n",
    "print('cost of reorder level:', product_df.CostOfReorderLevel.sum())\n",
    "print('\\nNumber of unique')\n",
    "print('-'*20)\n",
    "print('cost of units in stock:', len(product_df.CostOfUnitsInStock.unique()))\n",
    "print('cost of units on order:', len(product_df.CostOfUnitsOnOrder.unique()))\n",
    "print('cost of reorder levels:', len(product_df.CostOfReorderLevel.unique()))"
   ]
  },
  {
   "cell_type": "markdown",
   "metadata": {},
   "source": [
    "#### 3.2 Cost features for order table fields"
   ]
  },
  {
   "cell_type": "code",
   "execution_count": 86,
   "metadata": {},
   "outputs": [
    {
     "name": "stdout",
     "output_type": "stream",
     "text": [
      "Descriptive statistics:\n"
     ]
    },
    {
     "data": {
      "text/html": [
       "<div>\n",
       "<style scoped>\n",
       "    .dataframe tbody tr th:only-of-type {\n",
       "        vertical-align: middle;\n",
       "    }\n",
       "\n",
       "    .dataframe tbody tr th {\n",
       "        vertical-align: top;\n",
       "    }\n",
       "\n",
       "    .dataframe thead th {\n",
       "        text-align: right;\n",
       "    }\n",
       "</style>\n",
       "<table border=\"1\" class=\"dataframe\">\n",
       "  <thead>\n",
       "    <tr style=\"text-align: right;\">\n",
       "      <th></th>\n",
       "      <th>TotalRevenue</th>\n",
       "      <th>DiscountAmount</th>\n",
       "    </tr>\n",
       "  </thead>\n",
       "  <tbody>\n",
       "    <tr>\n",
       "      <th>count</th>\n",
       "      <td>2155.000000</td>\n",
       "      <td>2155.000000</td>\n",
       "    </tr>\n",
       "    <tr>\n",
       "      <th>mean</th>\n",
       "      <td>587.374960</td>\n",
       "      <td>41.144107</td>\n",
       "    </tr>\n",
       "    <tr>\n",
       "      <th>std</th>\n",
       "      <td>969.224235</td>\n",
       "      <td>133.993817</td>\n",
       "    </tr>\n",
       "    <tr>\n",
       "      <th>min</th>\n",
       "      <td>4.800000</td>\n",
       "      <td>0.000000</td>\n",
       "    </tr>\n",
       "    <tr>\n",
       "      <th>25%</th>\n",
       "      <td>147.000000</td>\n",
       "      <td>0.000000</td>\n",
       "    </tr>\n",
       "    <tr>\n",
       "      <th>50%</th>\n",
       "      <td>337.750000</td>\n",
       "      <td>0.000000</td>\n",
       "    </tr>\n",
       "    <tr>\n",
       "      <th>75%</th>\n",
       "      <td>656.000000</td>\n",
       "      <td>30.560000</td>\n",
       "    </tr>\n",
       "    <tr>\n",
       "      <th>max</th>\n",
       "      <td>15810.000000</td>\n",
       "      <td>2108.000000</td>\n",
       "    </tr>\n",
       "  </tbody>\n",
       "</table>\n",
       "</div>"
      ],
      "text/plain": [
       "       TotalRevenue  DiscountAmount\n",
       "count   2155.000000     2155.000000\n",
       "mean     587.374960       41.144107\n",
       "std      969.224235      133.993817\n",
       "min        4.800000        0.000000\n",
       "25%      147.000000        0.000000\n",
       "50%      337.750000        0.000000\n",
       "75%      656.000000       30.560000\n",
       "max    15810.000000     2108.000000"
      ]
     },
     "metadata": {},
     "output_type": "display_data"
    },
    {
     "name": "stdout",
     "output_type": "stream",
     "text": [
      "Sum of\n",
      "--------------------\n",
      "total revenue: 1265793.0395\n",
      "discount amounts: 88665.5505\n",
      "\n",
      "Number of unique\n",
      "--------------------\n",
      "total revenues: 1165\n",
      "discount amounts: 568\n",
      "\n",
      "Potential total revenue if discounts were not applied: 1354458.5899999999\n"
     ]
    }
   ],
   "source": [
    "# create total revenue and discount amount columns in the order detail table\n",
    "orderdetail_df['TotalRevenue'] = orderdetail_df['Quantity'] * orderdetail_df['UnitPrice'] * (1 - orderdetail_df['Discount'])\n",
    "orderdetail_df['DiscountAmount'] = orderdetail_df['Quantity'] * orderdetail_df['UnitPrice'] * orderdetail_df['Discount']\n",
    "print('Descriptive statistics:')\n",
    "display(orderdetail_df.describe()[['TotalRevenue','DiscountAmount']])\n",
    "print('Sum of')\n",
    "print('-'*20)\n",
    "print('total revenue:', orderdetail_df.TotalRevenue.sum())\n",
    "print('discount amounts:', orderdetail_df.DiscountAmount.sum())\n",
    "print('\\nNumber of unique')\n",
    "print('-'*20)\n",
    "print('total revenues:', len(orderdetail_df.TotalRevenue.unique()))\n",
    "print('discount amounts:', len(orderdetail_df.DiscountAmount.unique()))\n",
    "\n",
    "print('\\nPotential total revenue if discounts were not applied:', orderdetail_df.TotalRevenue.sum() + orderdetail_df.DiscountAmount.sum())"
   ]
  },
  {
   "cell_type": "markdown",
   "metadata": {},
   "source": [
    "Now that we have useful financial information, we will turn our attention to modeling answers to company questions with statistical hypothesis testing and interpreting the results.\n",
    "\n",
    "[ToC](#Table-of-Contents:)\n",
    "\n",
    "### 4. Conduct statistical tests"
   ]
  },
  {
   "cell_type": "markdown",
   "metadata": {},
   "source": [
    "## 4.1 Question 1a: \n",
    "\n",
    "### Does discount amount have a statistically significant effect on the quantity of a product in an order?\n",
    "\n",
    "### Hypothesis 1a: \n",
    "\n",
    "- **H0**: There is no difference in the quantity of a product in orders with discounts and orders without discounts. \n",
    "- **H1**: there is a difference in the quantity of a product in orders with discounts and orders without discounts.\n",
    "- **Test Type**: Two-tailed, because we want to determine if there is or is not a difference, regardless of direction.\n",
    "- **Alpha Level**: 0.05.\n",
    "- **Control Group**: *Order Detail* records without discounts.\n",
    "- **Treatment Group**: *Order Detail* records with discounts.\n",
    "- **Statistical Test**: *Welch's unequal variances t-test*. This is a two-sample test used to test the hypothesis that two populations have equal means. It is more reliable than similar tests in situations where the two samples have unequal variances or unequal sample sizes. It should be noted that this test assumes normality in the two populations. \n",
    "\n",
    "To answer this question, let's first find out how many orders were made with the 11 unique discounts offered."
   ]
  },
  {
   "cell_type": "code",
   "execution_count": 87,
   "metadata": {},
   "outputs": [
    {
     "name": "stdout",
     "output_type": "stream",
     "text": [
      "Context\n",
      "----------------------------------------\n",
      "Total number of unique orders: 830\n",
      "Total records in order detail table: 2155\n",
      "Total records without discounts: 1317\n",
      "Total records with discounts: 838\n",
      "\n",
      "Percentage of Discounts at Each Level\n",
      "----------------------------------------\n"
     ]
    },
    {
     "data": {
      "text/plain": [
       "0.00    0.611137\n",
       "0.05    0.085847\n",
       "0.10    0.080278\n",
       "0.20    0.074710\n",
       "0.15    0.072854\n",
       "0.25    0.071462\n",
       "0.03    0.001392\n",
       "0.02    0.000928\n",
       "0.01    0.000464\n",
       "0.04    0.000464\n",
       "0.06    0.000464\n",
       "Name: Discount, dtype: float64"
      ]
     },
     "execution_count": 87,
     "metadata": {},
     "output_type": "execute_result"
    },
    {
     "data": {
      "image/png": "[encoded data removed]",
      "text/plain": [
       "<Figure size 864x576 with 1 Axes>"
      ]
     },
     "metadata": {
      "needs_background": "light"
     },
     "output_type": "display_data"
    }
   ],
   "source": [
    "# discount information in order detail table\n",
    "discount_series = orderdetail_df.Discount.value_counts()\n",
    "\n",
    "fig = plt.figure(figsize=(12, 8))\n",
    "ax = fig.add_subplot(111)\n",
    "pd.value_counts(orderdetail_df.Discount).plot.bar()\n",
    "plt.title('Number of Discounts at Each Level')\n",
    "plt.xlabel('Discount')\n",
    "plt.ylabel('Frequency in Order Detail Table')\n",
    "for i, v in enumerate(orderdetail_df.Discount.value_counts()):\n",
    "    ax.text(i, v+25, \"%d\" %v, ha=\"center\");\n",
    "print('Context')\n",
    "print('-'*40)\n",
    "print('Total number of unique orders:', orderdetail_df.OrderId.nunique())  \n",
    "print('Total records in order detail table:', discount_series.sum())\n",
    "print('Total records without discounts:', discount_series.values[0])\n",
    "print('Total records with discounts:', discount_series.values[1:].sum())\n",
    "print('\\nPercentage of Discounts at Each Level')\n",
    "print('-'*40)\n",
    "orderdetail_df.Discount.value_counts(normalize=True)"
   ]
  },
  {
   "cell_type": "markdown",
   "metadata": {},
   "source": [
    "61% of the 2,155 *Order Detail* rows did not have a discount applied. 39% of the *Order Detail* rows did have a discount applied. This affects 838 rows. The 2,155 *Order Detail* rows map to 830 unique orders.\n",
    "\n",
    "Let's next get an idea of how **Discount** affects **Quantity**."
   ]
  },
  {
   "cell_type": "code",
   "execution_count": 88,
   "metadata": {},
   "outputs": [
    {
     "data": {
      "image/png": "[encoded data removed]",
      "text/plain": [
       "<Figure size 864x576 with 1 Axes>"
      ]
     },
     "metadata": {
      "needs_background": "light"
     },
     "output_type": "display_data"
    },
    {
     "name": "stdout",
     "output_type": "stream",
     "text": [
      "Total sum of quantity: 51317\n",
      "\n",
      "Percentage of Quantity Sum at Each Discount Level\n",
      "--------------------------------------------------\n",
      "Discount\n",
      "0.00    0.557301\n",
      "0.01    0.000039\n",
      "0.02    0.000078\n",
      "0.03    0.000097\n",
      "0.04    0.000019\n",
      "0.05    0.100980\n",
      "0.06    0.000039\n",
      "0.10    0.085079\n",
      "0.15    0.086833\n",
      "0.20    0.084787\n",
      "0.25    0.084748\n",
      "Name: Quantity, dtype: float64\n"
     ]
    }
   ],
   "source": [
    "# sum of quantity ordered by discount\n",
    "fig = plt.figure(figsize=(12, 8))\n",
    "ax = fig.add_subplot(111)\n",
    "orderdetail_df.groupby('Discount').Quantity.sum().plot.bar()\n",
    "plt.title('Sum of Quantity at Each Discount Level')\n",
    "plt.xlabel('Discount')\n",
    "plt.ylabel('Sum of Quantity Ordered')\n",
    "for i, v in enumerate(orderdetail_df.groupby('Discount').Quantity.sum()):\n",
    "    ax.text(i, v+40, \"%d\" %v, ha=\"center\");\n",
    "plt.show();\n",
    "\n",
    "print('Total sum of quantity:', orderdetail_df.Quantity.sum())\n",
    "print('\\nPercentage of Quantity Sum at Each Discount Level')\n",
    "print('-'*50)\n",
    "print(orderdetail_df.groupby('Discount').Quantity.sum() / orderdetail_df.Quantity.sum())"
   ]
  },
  {
   "cell_type": "markdown",
   "metadata": {},
   "source": [
    "Transctions without discounts account for 56% of the total sum of **Quantity** that has been ordered. The *5%* discount is the discount level with the greatest quantity ordered at 10%. The *10%*, *15%*, *20%*, and *25%* discount levels each account for about 8% of the quantity ordered.\n",
    "\n",
    "Let's isolate the *Order Details* rows with discounts and rows without discounts so that we can investigate their distributions."
   ]
  },
  {
   "cell_type": "code",
   "execution_count": 89,
   "metadata": {
    "scrolled": true
   },
   "outputs": [
    {
     "name": "stdout",
     "output_type": "stream",
     "text": [
      "No Discounts - descriptive statistics:\n"
     ]
    },
    {
     "data": {
      "text/html": [
       "<div>\n",
       "<style scoped>\n",
       "    .dataframe tbody tr th:only-of-type {\n",
       "        vertical-align: middle;\n",
       "    }\n",
       "\n",
       "    .dataframe tbody tr th {\n",
       "        vertical-align: top;\n",
       "    }\n",
       "\n",
       "    .dataframe thead th {\n",
       "        text-align: right;\n",
       "    }\n",
       "</style>\n",
       "<table border=\"1\" class=\"dataframe\">\n",
       "  <thead>\n",
       "    <tr style=\"text-align: right;\">\n",
       "      <th></th>\n",
       "      <th>Discount</th>\n",
       "      <th>Quantity</th>\n",
       "    </tr>\n",
       "  </thead>\n",
       "  <tbody>\n",
       "    <tr>\n",
       "      <th>count</th>\n",
       "      <td>1317.0</td>\n",
       "      <td>1317.000000</td>\n",
       "    </tr>\n",
       "    <tr>\n",
       "      <th>mean</th>\n",
       "      <td>0.0</td>\n",
       "      <td>21.715262</td>\n",
       "    </tr>\n",
       "    <tr>\n",
       "      <th>std</th>\n",
       "      <td>0.0</td>\n",
       "      <td>17.507493</td>\n",
       "    </tr>\n",
       "    <tr>\n",
       "      <th>min</th>\n",
       "      <td>0.0</td>\n",
       "      <td>1.000000</td>\n",
       "    </tr>\n",
       "    <tr>\n",
       "      <th>25%</th>\n",
       "      <td>0.0</td>\n",
       "      <td>10.000000</td>\n",
       "    </tr>\n",
       "    <tr>\n",
       "      <th>50%</th>\n",
       "      <td>0.0</td>\n",
       "      <td>18.000000</td>\n",
       "    </tr>\n",
       "    <tr>\n",
       "      <th>75%</th>\n",
       "      <td>0.0</td>\n",
       "      <td>30.000000</td>\n",
       "    </tr>\n",
       "    <tr>\n",
       "      <th>max</th>\n",
       "      <td>0.0</td>\n",
       "      <td>130.000000</td>\n",
       "    </tr>\n",
       "  </tbody>\n",
       "</table>\n",
       "</div>"
      ],
      "text/plain": [
       "       Discount     Quantity\n",
       "count    1317.0  1317.000000\n",
       "mean        0.0    21.715262\n",
       "std         0.0    17.507493\n",
       "min         0.0     1.000000\n",
       "25%         0.0    10.000000\n",
       "50%         0.0    18.000000\n",
       "75%         0.0    30.000000\n",
       "max         0.0   130.000000"
      ]
     },
     "metadata": {},
     "output_type": "display_data"
    },
    {
     "name": "stdout",
     "output_type": "stream",
     "text": [
      "Discounts - descriptive statistics:\n"
     ]
    },
    {
     "data": {
      "text/html": [
       "<div>\n",
       "<style scoped>\n",
       "    .dataframe tbody tr th:only-of-type {\n",
       "        vertical-align: middle;\n",
       "    }\n",
       "\n",
       "    .dataframe tbody tr th {\n",
       "        vertical-align: top;\n",
       "    }\n",
       "\n",
       "    .dataframe thead th {\n",
       "        text-align: right;\n",
       "    }\n",
       "</style>\n",
       "<table border=\"1\" class=\"dataframe\">\n",
       "  <thead>\n",
       "    <tr style=\"text-align: right;\">\n",
       "      <th></th>\n",
       "      <th>Discount</th>\n",
       "      <th>Quantity</th>\n",
       "    </tr>\n",
       "  </thead>\n",
       "  <tbody>\n",
       "    <tr>\n",
       "      <th>count</th>\n",
       "      <td>838.000000</td>\n",
       "      <td>838.000000</td>\n",
       "    </tr>\n",
       "    <tr>\n",
       "      <th>mean</th>\n",
       "      <td>0.144439</td>\n",
       "      <td>27.109785</td>\n",
       "    </tr>\n",
       "    <tr>\n",
       "      <th>std</th>\n",
       "      <td>0.071808</td>\n",
       "      <td>20.771439</td>\n",
       "    </tr>\n",
       "    <tr>\n",
       "      <th>min</th>\n",
       "      <td>0.010000</td>\n",
       "      <td>1.000000</td>\n",
       "    </tr>\n",
       "    <tr>\n",
       "      <th>25%</th>\n",
       "      <td>0.100000</td>\n",
       "      <td>12.000000</td>\n",
       "    </tr>\n",
       "    <tr>\n",
       "      <th>50%</th>\n",
       "      <td>0.150000</td>\n",
       "      <td>20.000000</td>\n",
       "    </tr>\n",
       "    <tr>\n",
       "      <th>75%</th>\n",
       "      <td>0.200000</td>\n",
       "      <td>36.000000</td>\n",
       "    </tr>\n",
       "    <tr>\n",
       "      <th>max</th>\n",
       "      <td>0.250000</td>\n",
       "      <td>130.000000</td>\n",
       "    </tr>\n",
       "  </tbody>\n",
       "</table>\n",
       "</div>"
      ],
      "text/plain": [
       "         Discount    Quantity\n",
       "count  838.000000  838.000000\n",
       "mean     0.144439   27.109785\n",
       "std      0.071808   20.771439\n",
       "min      0.010000    1.000000\n",
       "25%      0.100000   12.000000\n",
       "50%      0.150000   20.000000\n",
       "75%      0.200000   36.000000\n",
       "max      0.250000  130.000000"
      ]
     },
     "metadata": {},
     "output_type": "display_data"
    },
    {
     "data": {
      "image/png": "[encoded data removed]",
      "text/plain": [
       "<Figure size 864x576 with 1 Axes>"
      ]
     },
     "metadata": {
      "needs_background": "light"
     },
     "output_type": "display_data"
    }
   ],
   "source": [
    "# separate discount and non-discount rows into separate dataframes\n",
    "orderdetail_nodiscounts_df = orderdetail_df.loc[orderdetail_df.Discount == 0]\n",
    "print('No Discounts - descriptive statistics:')\n",
    "display(orderdetail_nodiscounts_df.describe()[['Discount', 'Quantity']])\n",
    "\n",
    "orderdetail_discounts_df = orderdetail_df.loc[orderdetail_df['Discount'] > 0]\n",
    "print('Discounts - descriptive statistics:')\n",
    "display(orderdetail_discounts_df.describe()[['Discount', 'Quantity']])\n",
    "\n",
    "# plot\n",
    "f = plt.figure(figsize=(12, 8))\n",
    "sns.distplot(orderdetail_discounts_df.Quantity, label='Discounts')\n",
    "sns.distplot(orderdetail_nodiscounts_df.Quantity, label='No Discounts')\n",
    "plt.title('Distribution of Discounted and Non-Discounted Order Quantitites', fontsize=14)\n",
    "plt.ylabel('Frequency', fontsize=12)\n",
    "plt.xlabel('Quantity', fontsize=12)\n",
    "plt.legend()\n",
    "plt.show();"
   ]
  },
  {
   "cell_type": "markdown",
   "metadata": {},
   "source": [
    "Discount and non-discount quantity distributions appear very similar, visually. The kernel density estimate indicates that the discount distribution has a higher mean than less of a sharp peak than the non-discount distribution.\n",
    "\n",
    "For **Quantity**, the non-discount mean is 21.72 and the discount mean is 27.11. The non-discount standard deviation is 17.51 and the discount standard deviation is 20.77.\n",
    "\n",
    "Our next challenge will be to investigate whether this difference is statistically significant. First, let's determine if our groups meet the normality assumption."
   ]
  },
  {
   "cell_type": "code",
   "execution_count": 90,
   "metadata": {},
   "outputs": [
    {
     "name": "stdout",
     "output_type": "stream",
     "text": [
      "KS Tests\n",
      "----------------------------------------------------------------------\n",
      "[ All Discounts ]: KstestResult(statistic=0.9724765983620833, pvalue=0.0) - n = 838\n",
      "[ No Discounts ]: KstestResult(statistic=0.9673789492970751, pvalue=0.0) - n = 1317\n"
     ]
    }
   ],
   "source": [
    "# KS normality test\n",
    "print('KS Tests')\n",
    "print('-'*70)\n",
    "print('[ All Discounts ]:', stats.kstest(orderdetail_discounts_df.Quantity, 'norm'), '- n =', len(orderdetail_discounts_df.Quantity))\n",
    "print('[ No Discounts ]:', stats.kstest(orderdetail_nodiscounts_df.Quantity, 'norm'), '- n =', len(orderdetail_nodiscounts_df.Quantity))"
   ]
  },
  {
   "cell_type": "markdown",
   "metadata": {},
   "source": [
    "The Kolmogorov–Smirnov test statistic quantifies the distance between the empirical distribution function of the sample and the cumulative distribution function of the normal reference distribution. The null hypothesis is that the sample is drawn from the reference normal distribution. P-values for both the discount and non-discount groups are below our set threshold of 0.05. Therefore, we reject the null hypothesis and conclude that neither sample is normally distributed. Despite the inability to validate this assumption, let's move forward with the statistical test on **Total Revenue** to see what it tells us."
   ]
  },
  {
   "cell_type": "code",
   "execution_count": 91,
   "metadata": {},
   "outputs": [
    {
     "name": "stdout",
     "output_type": "stream",
     "text": [
      "t-Test\n",
      "----------------------------------------------------------------------\n"
     ]
    },
    {
     "data": {
      "text/plain": [
       "Ttest_indResult(statistic=6.239069142123973, pvalue=5.65641429030433e-10)"
      ]
     },
     "execution_count": 91,
     "metadata": {},
     "output_type": "execute_result"
    }
   ],
   "source": [
    "# Welch's t-Test\n",
    "print('t-Test')\n",
    "print('-'*70)\n",
    "stats.ttest_ind(orderdetail_discounts_df.Quantity, orderdetail_nodiscounts_df.Quantity, equal_var=False)"
   ]
  },
  {
   "cell_type": "markdown",
   "metadata": {},
   "source": [
    "The null hypothesis for Welch's t-Test is that the population means are equal. The test statistic's p-value is below the alpha threshold of 0.05. As a result, we reject the null hypothesis that there is no difference in the quantity of a product in orders with discounts and orders without discounts.\n",
    "\n",
    "Now that we've determined a statistically significant difference exists, let's find out the effect size of this difference. Effect sizes provide a quantitative measure of the magnitude of a phenomenon. The effect size measurement we'll use is Cohen's d. Cohen's d is is the difference between two means divided by the pooled standard deviation of the samples. \n",
    "\n",
    "\n",
    "The commonly used definitions for the relationship between statistic value and magnitude description are:\n",
    "\n",
    "<u>Effect size: Cohen's d</u>\n",
    "- Very small: 0.01\t\n",
    "- Small: 0.20\t\n",
    "- Medium: 0.50\t\n",
    "- Large: 0.80\t\n",
    "- Very large: 1.20\n",
    "- Huge: 2.0\t"
   ]
  },
  {
   "cell_type": "code",
   "execution_count": 92,
   "metadata": {},
   "outputs": [
    {
     "name": "stdout",
     "output_type": "stream",
     "text": [
      "Cohen d Measurement\n",
      "-------------------------\n",
      "0.2862776476697577\n"
     ]
    }
   ],
   "source": [
    "# Cohen's d measurement\n",
    "def cohen_d(d1, d2):\n",
    "    \n",
    "    # numerator: mean difference of samples\n",
    "    u1, u2 = np.mean(d1), np.mean(d2)\n",
    "    # denominator: pooled standard deviation    \n",
    "    n1, n2 = len(d1), len(d2)\n",
    "    s1, s2 = np.var(d1, ddof=1), np.var(d2, ddof=1)\n",
    "    s = np.sqrt(((n1 - 1) * s1 + (n2 - 1) * s2) / (n1 + n2 - 2))\n",
    "    # effect size\n",
    "    return (u1 - u2) / s\n",
    "\n",
    "# calculate measurement for our hypothesis\n",
    "print('Cohen d Measurement')\n",
    "print('-'*25)\n",
    "d = cohen_d(orderdetail_discounts_df.Quantity, orderdetail_nodiscounts_df.Quantity)\n",
    "print(d)"
   ]
  },
  {
   "cell_type": "markdown",
   "metadata": {},
   "source": [
    "A value of 0.29 represents a small-to-medium effect size.\n",
    "\n",
    "Let's next compute the statistical power associated with this sample size, effect size, and significance level."
   ]
  },
  {
   "cell_type": "code",
   "execution_count": 93,
   "metadata": {},
   "outputs": [
    {
     "name": "stdout",
     "output_type": "stream",
     "text": [
      "Statistical Power\n",
      "---------------\n"
     ]
    },
    {
     "data": {
      "text/plain": [
       "1.0"
      ]
     },
     "execution_count": 93,
     "metadata": {},
     "output_type": "execute_result"
    }
   ],
   "source": [
    "# statistical power calculation\n",
    "ttp = TTP()\n",
    "power = ttp.solve_power(effect_size=d, nobs1=len(orderdetail_discounts_df.Quantity), alpha=0.05)\n",
    "print('Statistical Power')\n",
    "print('-'*15)\n",
    "power"
   ]
  },
  {
   "cell_type": "markdown",
   "metadata": {},
   "source": [
    "The power of a test of statistical significance is the probability that it will reject a false null hypothesis if the alternative hypothesis is true. The value of power is between 0 and 1. A power value close to 0 means the hypothesis test is very bad at detecting a false null hypothesis. A power value close to 1 means the hypothesis test is good at detecting a false null hypothesis. Our value is 1, indicating excellent statistical power.\n",
    "\n",
    "### Conclusion for Hypothesis 1a:\n",
    "\n",
    "- Discount amount has a statistically significant effect on the quantity of a product in an order. \n",
    "- The difference in the quantity of a product in orders with discounts and orders without discounts has a small-to-medium magnitude (d = 0.29) on increasing order quantity.  \n",
    "- The power level (p = 1.0) indicates a high probability our test will see an effect that is present.\n",
    "\n",
    "### Answer 1a: Discount amount does have a statistically significant effect on the quantity of a product in an order.\n",
    "\n",
    "Now that we've determined a difference exists and quanitified its size, let's move on to the second part of our first question.\n",
    "\n",
    "[ToC](#Table-of-Contents:)"
   ]
  },
  {
   "cell_type": "markdown",
   "metadata": {},
   "source": [
    "## 4.1 Question 1b:\n",
    "\n",
    "### At what levels of discount does discount amount have a statistically significant effect on the quantity of a product in an order?\n",
    "\n",
    "### Hypothesis 1b:\n",
    "\n",
    "- **H0**: There is no difference in the quantity of a product in orders with a specific discount and orders without discounts.\n",
    "- **H1**: there is a difference in the quantity of a product in orders with a specific discount and orders without discounts.\n",
    "- **Test Type**: Two-tailed, because we want to determine if there is or is not a difference, regardless of direction.\n",
    "- **Alpha Level**: 0.05.\n",
    "- **Control Group**: *Order Detail* records without discounts.\n",
    "- **Treatment Group**: *Order Detail* records with a specific discount.\n",
    "- **Statistical Tests**: \n",
    "    - *Welch's Unequal Variances t-Test*. This is a two-sample test used to test the hypothesis that two populations have equal means. It is more reliable than similar tests in situations where the two samples have unequal variances or unequal sample sizes. It should be noted that this test assumes normality in the two populations.\n",
    "    - *Analysis of Variance (ANOVA)*. This test compares the means of 2 or more groups by analyzing  group variances. ANOVA does not describe which treatments are significantly different from each other. A post-hoc comparison is required to determine this information. It should be noted that this test assumes residuals are normally distributed and variances are homogeneous.\n",
    "    - *Tukey Honestly Significant Difference (HSD) Test*. This multiple pairwise comparison analysis can inform if pairs of treatments are significantly different treatments.\n",
    "    \n",
    "Let's start to answer this question by separating the discount levels."
   ]
  },
  {
   "cell_type": "code",
   "execution_count": 94,
   "metadata": {},
   "outputs": [
    {
     "data": {
      "text/plain": [
       "[0.01, 0.02, 0.03, 0.04, 0.05, 0.06, 0.1, 0.15, 0.2, 0.25]"
      ]
     },
     "execution_count": 94,
     "metadata": {},
     "output_type": "execute_result"
    }
   ],
   "source": [
    "# split discounts into levels\n",
    "discounts = orderdetail_df.Discount.unique()[1:]\n",
    "discount_dict = {}\n",
    "for d in discounts:\n",
    "    discount_dict[d] = orderdetail_df.loc[orderdetail_df.Discount == d]\n",
    "sorted(discount_dict.keys())"
   ]
  },
  {
   "cell_type": "markdown",
   "metadata": {},
   "source": [
    "**Quantity** has been separated by the 10 **discount** levels available. Let's assess the normality assumption of our statistical test for each level."
   ]
  },
  {
   "cell_type": "code",
   "execution_count": 95,
   "metadata": {},
   "outputs": [
    {
     "name": "stdout",
     "output_type": "stream",
     "text": [
      "KS Tests\n",
      "----------------------------------------------------------------------\n",
      "[ 0.01 Discount ]: KstestResult(statistic=0.9772498680518208, pvalue=0.04550026389635842) - n = 1\n",
      "[ 0.02 Discount ]: KstestResult(statistic=0.8413447460685429, pvalue=0.05034297920011025) - n = 2\n",
      "[ 0.03 Discount ]: KstestResult(statistic=0.8413447460685429, pvalue=0.007987178148659554) - n = 3\n",
      "[ 0.04 Discount ]: KstestResult(statistic=0.8413447460685429, pvalue=0.31731050786291415) - n = 1\n",
      "[ 0.05 Discount ]: KstestResult(statistic=0.9770284803467483, pvalue=1.3216893025585255e-303) - n = 185\n",
      "[ 0.06 Discount ]: KstestResult(statistic=0.9772498680518208, pvalue=0.04550026389635842) - n = 1\n",
      "[ 0.1 Discount ]: KstestResult(statistic=0.9772498680518208, pvalue=1.1461676096960342e-284) - n = 173\n",
      "[ 0.15 Discount ]: KstestResult(statistic=0.9772498680518208, pvalue=2.225898790736299e-258) - n = 157\n",
      "[ 0.2 Discount ]: KstestResult(statistic=0.9924389218441463, pvalue=0.0) - n = 161\n",
      "[ 0.25 Discount ]: KstestResult(statistic=0.9772498680518208, pvalue=1.8903997620554267e-253) - n = 154\n"
     ]
    }
   ],
   "source": [
    "# KS Test for each discount\n",
    "print('KS Tests')\n",
    "print('-'*70)\n",
    "for i in sorted(discount_dict.keys()):\n",
    "    print('[', i, 'Discount ]:', stats.kstest(discount_dict[i].Quantity, 'norm'), '- n =', len(discount_dict[i].Quantity))"
   ]
  },
  {
   "cell_type": "markdown",
   "metadata": {},
   "source": [
    "Only the 2% and 4% discount appears to validate the normality assumption. Given the extremely low sample sizes, however, little merit should be given to these results. There is low confidence in any discount distribution of quantity having normality."
   ]
  },
  {
   "cell_type": "code",
   "execution_count": 96,
   "metadata": {},
   "outputs": [
    {
     "name": "stdout",
     "output_type": "stream",
     "text": [
      "t-Tests\n",
      "----------------------------------------------------------------------\n",
      "[ 0.01 Discount ]: Ttest_indResult(statistic=nan, pvalue=nan)\n",
      "[ 0.02 Discount ]: Ttest_indResult(statistic=-17.756920246999027, pvalue=0.009590011212746382)\n",
      "[ 0.03 Discount ]: Ttest_indResult(statistic=-34.190207077375554, pvalue=1.5105620137031727e-18)\n",
      "[ 0.04 Discount ]: Ttest_indResult(statistic=nan, pvalue=nan)\n",
      "[ 0.05 Discount ]: Ttest_indResult(statistic=3.700844260760871, pvalue=0.00027233494432847593)\n",
      "[ 0.06 Discount ]: Ttest_indResult(statistic=nan, pvalue=nan)\n",
      "[ 0.1 Discount ]: Ttest_indResult(statistic=2.094434281933477, pvalue=0.0374559661063408)\n",
      "[ 0.15 Discount ]: Ttest_indResult(statistic=3.8356620426605934, pvalue=0.00017220729443627393)\n",
      "[ 0.2 Discount ]: Ttest_indResult(statistic=3.4021239132172787, pvalue=0.0008110033254043408)\n",
      "[ 0.25 Discount ]: Ttest_indResult(statistic=3.8572676240072523, pvalue=0.00015923050922125637)\n"
     ]
    },
    {
     "name": "stderr",
     "output_type": "stream",
     "text": [
      "C:\\Users\\IBM\\Anaconda3\\lib\\site-packages\\numpy\\core\\fromnumeric.py:3506: RuntimeWarning: Degrees of freedom <= 0 for slice\n",
      "  **kwargs)\n",
      "C:\\Users\\IBM\\Anaconda3\\lib\\site-packages\\numpy\\core\\_methods.py:209: RuntimeWarning: invalid value encountered in double_scalars\n",
      "  ret = ret.dtype.type(ret / rcount)\n",
      "C:\\Users\\IBM\\Anaconda3\\lib\\site-packages\\scipy\\stats\\_distn_infrastructure.py:877: RuntimeWarning: invalid value encountered in greater\n",
      "  return (self.a < x) & (x < self.b)\n",
      "C:\\Users\\IBM\\Anaconda3\\lib\\site-packages\\scipy\\stats\\_distn_infrastructure.py:877: RuntimeWarning: invalid value encountered in less\n",
      "  return (self.a < x) & (x < self.b)\n",
      "C:\\Users\\IBM\\Anaconda3\\lib\\site-packages\\scipy\\stats\\_distn_infrastructure.py:1831: RuntimeWarning: invalid value encountered in less_equal\n",
      "  cond2 = cond0 & (x <= self.a)\n"
     ]
    }
   ],
   "source": [
    "# Welch's t-Test for each discount\n",
    "print('t-Tests')\n",
    "print('-'*70)\n",
    "for i in sorted(discount_dict.keys()):\n",
    "    print('[', i, 'Discount ]:', stats.ttest_ind(discount_dict[i].Quantity, orderdetail_nodiscounts_df.Quantity, equal_var=False));"
   ]
  },
  {
   "cell_type": "markdown",
   "metadata": {},
   "source": [
    "The test statistic's p-value is below the alpha significance level of 0.05, causing us to reject the null hypothesis of equal popuation means for the following discount levels:\n",
    "\n",
    "- 25%\n",
    "- 20%\n",
    "- 15%\n",
    "- 10%\n",
    "- 5%\n",
    "- 3%\n",
    "- 2%\n",
    "\n",
    "For these tests we reject the null hypothesis that there is no difference in the quantity of a product in orders with that discount and orders without discounts. There is not enough data for the 1%, 4%, and 6% discounts to assess whether a difference in quantity ordered exists. None of the 10 available discounts have a test statistic claiming equal means with the control group.\n",
    "\n",
    "Let's validate our conclusion by looking at results for ANOVA. Before we do that, ANOVA assumes homogeneity of variances. Let's see if that is the case here."
   ]
  },
  {
   "cell_type": "code",
   "execution_count": 97,
   "metadata": {},
   "outputs": [
    {
     "name": "stdout",
     "output_type": "stream",
     "text": [
      "Levene Test\n",
      "----------------------------------------------------------------------\n"
     ]
    },
    {
     "data": {
      "text/plain": [
       "LeveneResult(statistic=0.8165227769524005, pvalue=0.6010242177713482)"
      ]
     },
     "execution_count": 97,
     "metadata": {},
     "output_type": "execute_result"
    }
   ],
   "source": [
    "# Levene test \n",
    "print('Levene Test')\n",
    "print('-'*70)\n",
    "stats.levene(discount_dict[0.01].Quantity, discount_dict[0.02].Quantity, discount_dict[0.03].Quantity,\n",
    "             discount_dict[0.04].Quantity, discount_dict[0.05].Quantity, discount_dict[0.06].Quantity, \n",
    "             discount_dict[0.1].Quantity, discount_dict[0.15].Quantity, discount_dict[0.2].Quantity,\n",
    "             discount_dict[0.25].Quantity)"
   ]
  },
  {
   "cell_type": "markdown",
   "metadata": {},
   "source": [
    "The null hypothesis of the Levene Test is that the samples are  from populations that have equal variances. The p-value is not significant (p = 0.6) and we fail to reject the null hypothesis. We conclude that discount levels have equal variances for quantity.\n",
    "\n",
    "Let's look at the ANOVA results and the second assumption that residuals are normally distributed."
   ]
  },
  {
   "cell_type": "code",
   "execution_count": 98,
   "metadata": {},
   "outputs": [
    {
     "name": "stdout",
     "output_type": "stream",
     "text": [
      "ANOVA table\n",
      "------------------------------------------------------------\n",
      "                    sum_sq      df         F        PR(>F)\n",
      "C(Discount)   21258.403604    10.0  6.011811  4.704231e-09\n",
      "Residual     758141.232591  2144.0       NaN           NaN\n",
      "\n",
      "Shapiro-Wilk Test\n",
      "----------------------------------------\n",
      "(0.8610877990722656, 4.822358470204209e-40)\n"
     ]
    }
   ],
   "source": [
    "# ANOVA\n",
    "print('ANOVA table')\n",
    "print('-'*60)\n",
    "formula = 'Quantity ~ C(Discount)'\n",
    "model = ols(formula, orderdetail_df).fit()\n",
    "table = sm.stats.anova_lm(model, typ=2)\n",
    "print(table)\n",
    "\n",
    "# Shapiro-Wilk test\n",
    "print('\\nShapiro-Wilk Test')\n",
    "print('-'*40)\n",
    "print(stats.shapiro(model.resid))"
   ]
  },
  {
   "cell_type": "markdown",
   "metadata": {},
   "source": [
    "The p-value obtained from the ANOVA analysis is significant (p = 5e-09), and therefore, we conclude that there are significant differences among **Discount** levels on **Quantity**. \n",
    "\n",
    "The assumption that residuals are drawn from a normal distribution, however, does not appear to apply here. The p-value is significant (p = 5e-40) causing us to reject the null hypothesis of residual normality.\n",
    "\n",
    "Since ANOVA does not tell us which treatments are significantly different from each other, let's use the multiple pariwise comparison Tukey HSD test to find the pairs of significantly different discount levels."
   ]
  },
  {
   "cell_type": "code",
   "execution_count": 99,
   "metadata": {},
   "outputs": [
    {
     "name": "stdout",
     "output_type": "stream",
     "text": [
      "Tukey HSD test\n",
      "--------------------------------------------------\n"
     ]
    },
    {
     "data": {
      "text/html": [
       "<div>\n",
       "<style scoped>\n",
       "    .dataframe tbody tr th:only-of-type {\n",
       "        vertical-align: middle;\n",
       "    }\n",
       "\n",
       "    .dataframe tbody tr th {\n",
       "        vertical-align: top;\n",
       "    }\n",
       "\n",
       "    .dataframe thead th {\n",
       "        text-align: right;\n",
       "    }\n",
       "</style>\n",
       "<table border=\"1\" class=\"dataframe\">\n",
       "  <thead>\n",
       "    <tr style=\"text-align: right;\">\n",
       "      <th></th>\n",
       "      <th>group1</th>\n",
       "      <th>group2</th>\n",
       "      <th>meandiff</th>\n",
       "      <th>lower</th>\n",
       "      <th>upper</th>\n",
       "      <th>reject</th>\n",
       "    </tr>\n",
       "  </thead>\n",
       "  <tbody>\n",
       "    <tr>\n",
       "      <th>0</th>\n",
       "      <td>0.0</td>\n",
       "      <td>0.01</td>\n",
       "      <td>-19.7153</td>\n",
       "      <td>-80.3306</td>\n",
       "      <td>40.9001</td>\n",
       "      <td>False</td>\n",
       "    </tr>\n",
       "    <tr>\n",
       "      <th>1</th>\n",
       "      <td>0.0</td>\n",
       "      <td>0.02</td>\n",
       "      <td>-19.7153</td>\n",
       "      <td>-62.593</td>\n",
       "      <td>23.1625</td>\n",
       "      <td>False</td>\n",
       "    </tr>\n",
       "    <tr>\n",
       "      <th>2</th>\n",
       "      <td>0.0</td>\n",
       "      <td>0.03</td>\n",
       "      <td>-20.0486</td>\n",
       "      <td>-55.0714</td>\n",
       "      <td>14.9742</td>\n",
       "      <td>False</td>\n",
       "    </tr>\n",
       "    <tr>\n",
       "      <th>3</th>\n",
       "      <td>0.0</td>\n",
       "      <td>0.04</td>\n",
       "      <td>-20.7153</td>\n",
       "      <td>-81.3306</td>\n",
       "      <td>39.9001</td>\n",
       "      <td>False</td>\n",
       "    </tr>\n",
       "    <tr>\n",
       "      <th>4</th>\n",
       "      <td>0.0</td>\n",
       "      <td>0.05</td>\n",
       "      <td>6.2955</td>\n",
       "      <td>1.5381</td>\n",
       "      <td>11.053</td>\n",
       "      <td>True</td>\n",
       "    </tr>\n",
       "    <tr>\n",
       "      <th>5</th>\n",
       "      <td>0.0</td>\n",
       "      <td>0.06</td>\n",
       "      <td>-19.7153</td>\n",
       "      <td>-80.3306</td>\n",
       "      <td>40.9001</td>\n",
       "      <td>False</td>\n",
       "    </tr>\n",
       "    <tr>\n",
       "      <th>6</th>\n",
       "      <td>0.0</td>\n",
       "      <td>0.1</td>\n",
       "      <td>3.5217</td>\n",
       "      <td>-1.3783</td>\n",
       "      <td>8.4217</td>\n",
       "      <td>False</td>\n",
       "    </tr>\n",
       "    <tr>\n",
       "      <th>7</th>\n",
       "      <td>0.0</td>\n",
       "      <td>0.15</td>\n",
       "      <td>6.6669</td>\n",
       "      <td>1.551</td>\n",
       "      <td>11.7828</td>\n",
       "      <td>True</td>\n",
       "    </tr>\n",
       "    <tr>\n",
       "      <th>8</th>\n",
       "      <td>0.0</td>\n",
       "      <td>0.2</td>\n",
       "      <td>5.3096</td>\n",
       "      <td>0.2508</td>\n",
       "      <td>10.3684</td>\n",
       "      <td>True</td>\n",
       "    </tr>\n",
       "    <tr>\n",
       "      <th>9</th>\n",
       "      <td>0.0</td>\n",
       "      <td>0.25</td>\n",
       "      <td>6.525</td>\n",
       "      <td>1.3647</td>\n",
       "      <td>11.6852</td>\n",
       "      <td>True</td>\n",
       "    </tr>\n",
       "  </tbody>\n",
       "</table>\n",
       "</div>"
      ],
      "text/plain": [
       "0 group1 group2  meandiff     lower    upper reject\n",
       "0    0.0   0.01  -19.7153  -80.3306  40.9001  False\n",
       "1    0.0   0.02  -19.7153   -62.593  23.1625  False\n",
       "2    0.0   0.03  -20.0486  -55.0714  14.9742  False\n",
       "3    0.0   0.04  -20.7153  -81.3306  39.9001  False\n",
       "4    0.0   0.05    6.2955    1.5381   11.053   True\n",
       "5    0.0   0.06  -19.7153  -80.3306  40.9001  False\n",
       "6    0.0    0.1    3.5217   -1.3783   8.4217  False\n",
       "7    0.0   0.15    6.6669     1.551  11.7828   True\n",
       "8    0.0    0.2    5.3096    0.2508  10.3684   True\n",
       "9    0.0   0.25     6.525    1.3647  11.6852   True"
      ]
     },
     "execution_count": 99,
     "metadata": {},
     "output_type": "execute_result"
    }
   ],
   "source": [
    "# Tukey HSD test\n",
    "m_comp = pairwise_tukeyhsd(endog=orderdetail_df.Quantity, groups=orderdetail_df.Discount, alpha=0.05)\n",
    "df = pd.DataFrame(m_comp.summary())\n",
    "headers = df.iloc[0]\n",
    "m_comp_df  = pd.DataFrame(df.values[1:], columns=headers)\n",
    "print('Tukey HSD test')\n",
    "print('-'*50)\n",
    "m_comp_df[:10]"
   ]
  },
  {
   "cell_type": "markdown",
   "metadata": {},
   "source": [
    "The Tukey HSD test results suggest that the only discount levels with means statistically different from the no discount mean are *5%*, *15%*, *20%*, and *25%*. The Tukey HSD results differ from Welch's t-Test for the *2%*, *3%*, and *10%* discounts levels.\n",
    "\n",
    "Our next task is to inspect the magnitude of the effect for our discount-no discount pairs. "
   ]
  },
  {
   "cell_type": "code",
   "execution_count": 100,
   "metadata": {},
   "outputs": [
    {
     "name": "stdout",
     "output_type": "stream",
     "text": [
      "Cohen d Measurement\n",
      "-------------------------\n",
      "[ 0.01 Discount ]: nan\n",
      "[ 0.02 Discount ]: -1.1265291787182905\n",
      "[ 0.03 Discount ]: -1.14601256056148\n",
      "[ 0.04 Discount ]: nan\n",
      "[ 0.05 Discount ]: 0.3469259331213806\n",
      "[ 0.06 Discount ]: nan\n",
      "[ 0.1 Discount ]: 0.19596431111215445\n",
      "[ 0.15 Discount ]: 0.3724449105051501\n",
      "[ 0.2 Discount ]: 0.3007245635324175\n",
      "[ 0.25 Discount ]: 0.3666231778382251\n"
     ]
    }
   ],
   "source": [
    "# Cohen's d for each discount\n",
    "print('Cohen d Measurement')\n",
    "print('-'*25)\n",
    "d = {}\n",
    "for i in sorted(discount_dict.keys()):\n",
    "    d[i] = cohen_d(discount_dict[i].Quantity, orderdetail_nodiscounts_df.Quantity)\n",
    "    print('[', i, 'Discount ]:', d[i])"
   ]
  },
  {
   "cell_type": "markdown",
   "metadata": {},
   "source": [
    "Values in the 0.30 - 0.40 range represent small-to-medium effect sizes. The 10% discount value of 0.20 is a small effect size. Negative effect sizes indicate an inverse relationship with the target variable. The negative discount levels here are of insufficient size to trust these conclusions.\n",
    " \n",
    "Let's next compute the statistical power associated with these sample sizes, effect sizes, and significance level."
   ]
  },
  {
   "cell_type": "code",
   "execution_count": 101,
   "metadata": {},
   "outputs": [
    {
     "name": "stdout",
     "output_type": "stream",
     "text": [
      "Statistical Power\n",
      "---------------\n",
      "[ 0.01 Discount ] nan\n",
      "[ 0.02 Discount ] 0.10699255300790395\n",
      "[ 0.03 Discount ] 0.1930539213638947\n",
      "[ 0.04 Discount ] nan\n",
      "[ 0.05 Discount ] 0.9143350299479911\n",
      "[ 0.06 Discount ] nan\n",
      "[ 0.1 Discount ] 0.4434299096433696\n",
      "[ 0.15 Discount ] 0.9081967665759112\n",
      "[ 0.2 Discount ] 0.7673324966379401\n",
      "[ 0.25 Discount ] 0.893806545194106\n"
     ]
    }
   ],
   "source": [
    "# statistical power calculation\n",
    "ttp = TTP()\n",
    "print('Statistical Power')\n",
    "print('-'*15)\n",
    "for i in d:\n",
    "    print('[', i, 'Discount ]', ttp.solve_power(effect_size=d[i], nobs1=len(discount_dict[i].Quantity), alpha=0.05))"
   ]
  },
  {
   "cell_type": "markdown",
   "metadata": {},
   "source": [
    "The *5%*, *15%*, *20%*, and *25%* discount levels have high power values able to detect effects if they are present. The *10%* discount level has a moderate ability to detect effects. The *2%* and *3%* discount levesl have a low ability to detect effects.\n",
    "\n",
    "### Conclusion for Hypothesis 1b:\n",
    "\n",
    "- The *25%*, *20%*, *15%*, and *5%* discount levels have a statistically significant effect on the quantity of a product in an order in two tests (Welch's t-Test and ANOVA).\n",
    "- The *10%*, *3%*, and *2%* discount levels have a statistically significant effect on the quantity of a product in an order in one test (Welch's t-Test).\n",
    "- The *6%*, *4%*, and *1%* discount levels do not possess enough data to make a claim one way or the other. \n",
    "- The difference in the quantity of a product in orders with discounts and orders without discounts has a small-to-medium magnitude  effect (d = 0.3) on increasing quantity for the *25%*, *20%*, *15%*, and *5%* discount levels; a small magnitude effect (d = 0.2) on increasing quantity for the *10%* discount level; and,  potentially a very large effect (d = -1) on decreasing quantity for the *3%* and *2%* discount levels. This last claim, however, should be vetted by the application of more data. \n",
    "- The power level of the discount levels ANOVA identified as statistically significant have a high probability of tests being able to detect an effect that is present.\n",
    "\n",
    "### Answer 1b: Discount amount has a statistically significant effect on increasing the quantity of a product in an order in the 5%, 10%, 15%, 20%, and 25% levels.\n",
    "\n",
    "This finishes our work on Question 1. Let's move on to Question 2.\n",
    "\n",
    "[ToC](#Table-of-Contents:)"
   ]
  },
  {
   "cell_type": "markdown",
   "metadata": {},
   "source": [
    "## 4.2 Question 2:\n",
    "\n",
    "### Does discount amount have a statistically significant effect on the total revenue in an order? \n",
    "### If so, at what levels?\n",
    "\n",
    "### Hypothesis 2:\n",
    "\n",
    "- **H0**: There is no difference in the total revenue in orders with discounts and orders without discounts.\n",
    "- **H1**: there is a difference in the total revenue in orders with discounts and orders without discounts.\n",
    "- **Test Type**: Two-tailed, because we want to determine if there is or is not a difference, regardless of direction.\n",
    "- **Alpha Level**: 0.05.\n",
    "- **Control Group**: *Order Detail* records without discounts.\n",
    "- **Treatment Group**: *Order Detail* records with discounts.\n",
    "- **Statistical Tests**: \n",
    "    - *Welch's Unequal Variances t-Test*. This is a two-sample test used to test the hypothesis that two populations have equal means. It is more reliable than similar tests in situations where the two samples have unequal variances or unequal sample sizes. It should be noted that this test assumes normality in the two populations.\n",
    "    - *Analysis of Variance (ANOVA)*. This test compares the means of 2 or more groups by analyzing  group variances. ANOVA does not describe which treatments are significantly different from each other. A post-hoc comparison is required to determine this information. It should be noted that this test assumes residuals are normally distributed and variances are homogeneous.\n",
    "    - *Tukey Honestly Significant Difference (HSD) Test*. This multiple pairwise comparison analysis can inform if pairs of treatments are significantly different treatments.\n",
    "    \n",
    "Let's start to answer this question by describing the data we're interested in."
   ]
  },
  {
   "cell_type": "code",
   "execution_count": 102,
   "metadata": {},
   "outputs": [
    {
     "name": "stdout",
     "output_type": "stream",
     "text": [
      "No Discounts- descriptive statistics:\n"
     ]
    },
    {
     "data": {
      "text/html": [
       "<div>\n",
       "<style scoped>\n",
       "    .dataframe tbody tr th:only-of-type {\n",
       "        vertical-align: middle;\n",
       "    }\n",
       "\n",
       "    .dataframe tbody tr th {\n",
       "        vertical-align: top;\n",
       "    }\n",
       "\n",
       "    .dataframe thead th {\n",
       "        text-align: right;\n",
       "    }\n",
       "</style>\n",
       "<table border=\"1\" class=\"dataframe\">\n",
       "  <thead>\n",
       "    <tr style=\"text-align: right;\">\n",
       "      <th></th>\n",
       "      <th>Discount</th>\n",
       "      <th>TotalRevenue</th>\n",
       "    </tr>\n",
       "  </thead>\n",
       "  <tbody>\n",
       "    <tr>\n",
       "      <th>count</th>\n",
       "      <td>1317.0</td>\n",
       "      <td>1317.000000</td>\n",
       "    </tr>\n",
       "    <tr>\n",
       "      <th>mean</th>\n",
       "      <td>0.0</td>\n",
       "      <td>570.006538</td>\n",
       "    </tr>\n",
       "    <tr>\n",
       "      <th>std</th>\n",
       "      <td>0.0</td>\n",
       "      <td>961.375030</td>\n",
       "    </tr>\n",
       "    <tr>\n",
       "      <th>min</th>\n",
       "      <td>0.0</td>\n",
       "      <td>4.800000</td>\n",
       "    </tr>\n",
       "    <tr>\n",
       "      <th>25%</th>\n",
       "      <td>0.0</td>\n",
       "      <td>142.500000</td>\n",
       "    </tr>\n",
       "    <tr>\n",
       "      <th>50%</th>\n",
       "      <td>0.0</td>\n",
       "      <td>325.000000</td>\n",
       "    </tr>\n",
       "    <tr>\n",
       "      <th>75%</th>\n",
       "      <td>0.0</td>\n",
       "      <td>640.000000</td>\n",
       "    </tr>\n",
       "    <tr>\n",
       "      <th>max</th>\n",
       "      <td>0.0</td>\n",
       "      <td>15810.000000</td>\n",
       "    </tr>\n",
       "  </tbody>\n",
       "</table>\n",
       "</div>"
      ],
      "text/plain": [
       "       Discount  TotalRevenue\n",
       "count    1317.0   1317.000000\n",
       "mean        0.0    570.006538\n",
       "std         0.0    961.375030\n",
       "min         0.0      4.800000\n",
       "25%         0.0    142.500000\n",
       "50%         0.0    325.000000\n",
       "75%         0.0    640.000000\n",
       "max         0.0  15810.000000"
      ]
     },
     "metadata": {},
     "output_type": "display_data"
    },
    {
     "name": "stdout",
     "output_type": "stream",
     "text": [
      "Discounts - descriptive statistics:\n"
     ]
    },
    {
     "data": {
      "text/html": [
       "<div>\n",
       "<style scoped>\n",
       "    .dataframe tbody tr th:only-of-type {\n",
       "        vertical-align: middle;\n",
       "    }\n",
       "\n",
       "    .dataframe tbody tr th {\n",
       "        vertical-align: top;\n",
       "    }\n",
       "\n",
       "    .dataframe thead th {\n",
       "        text-align: right;\n",
       "    }\n",
       "</style>\n",
       "<table border=\"1\" class=\"dataframe\">\n",
       "  <thead>\n",
       "    <tr style=\"text-align: right;\">\n",
       "      <th></th>\n",
       "      <th>Discount</th>\n",
       "      <th>TotalRevenue</th>\n",
       "    </tr>\n",
       "  </thead>\n",
       "  <tbody>\n",
       "    <tr>\n",
       "      <th>count</th>\n",
       "      <td>838.000000</td>\n",
       "      <td>838.000000</td>\n",
       "    </tr>\n",
       "    <tr>\n",
       "      <th>mean</th>\n",
       "      <td>0.144439</td>\n",
       "      <td>614.671157</td>\n",
       "    </tr>\n",
       "    <tr>\n",
       "      <th>std</th>\n",
       "      <td>0.071808</td>\n",
       "      <td>981.388386</td>\n",
       "    </tr>\n",
       "    <tr>\n",
       "      <th>min</th>\n",
       "      <td>0.010000</td>\n",
       "      <td>8.500000</td>\n",
       "    </tr>\n",
       "    <tr>\n",
       "      <th>25%</th>\n",
       "      <td>0.100000</td>\n",
       "      <td>162.000000</td>\n",
       "    </tr>\n",
       "    <tr>\n",
       "      <th>50%</th>\n",
       "      <td>0.150000</td>\n",
       "      <td>347.775000</td>\n",
       "    </tr>\n",
       "    <tr>\n",
       "      <th>75%</th>\n",
       "      <td>0.200000</td>\n",
       "      <td>693.600000</td>\n",
       "    </tr>\n",
       "    <tr>\n",
       "      <th>max</th>\n",
       "      <td>0.250000</td>\n",
       "      <td>15019.500000</td>\n",
       "    </tr>\n",
       "  </tbody>\n",
       "</table>\n",
       "</div>"
      ],
      "text/plain": [
       "         Discount  TotalRevenue\n",
       "count  838.000000    838.000000\n",
       "mean     0.144439    614.671157\n",
       "std      0.071808    981.388386\n",
       "min      0.010000      8.500000\n",
       "25%      0.100000    162.000000\n",
       "50%      0.150000    347.775000\n",
       "75%      0.200000    693.600000\n",
       "max      0.250000  15019.500000"
      ]
     },
     "metadata": {},
     "output_type": "display_data"
    },
    {
     "data": {
      "image/png": "[encoded data removed]",
      "text/plain": [
       "<Figure size 864x576 with 1 Axes>"
      ]
     },
     "metadata": {
      "needs_background": "light"
     },
     "output_type": "display_data"
    },
    {
     "name": "stdout",
     "output_type": "stream",
     "text": [
      "Total sum of revenue: 1265793.0395\n",
      "\n",
      "Percentage of Total Revenue Sum at Each Discount Level\n",
      "------------------------------------------------------------\n",
      "Discount\n",
      "0.00    0.593066\n",
      "0.01    0.000023\n",
      "0.02    0.000047\n",
      "0.03    0.000096\n",
      "0.04    0.000061\n",
      "0.05    0.116620\n",
      "0.06    0.000050\n",
      "0.10    0.072286\n",
      "0.15    0.069132\n",
      "0.20    0.070455\n",
      "0.25    0.078163\n",
      "Name: TotalRevenue, dtype: float64\n"
     ]
    },
    {
     "data": {
      "image/png": "[encoded data removed]",
      "text/plain": [
       "<Figure size 864x576 with 1 Axes>"
      ]
     },
     "metadata": {
      "needs_background": "light"
     },
     "output_type": "display_data"
    }
   ],
   "source": [
    "# statistics for discount and non-discount rows\n",
    "print('No Discounts- descriptive statistics:')\n",
    "display(orderdetail_nodiscounts_df.describe()[['Discount', 'TotalRevenue']])\n",
    "print('Discounts - descriptive statistics:')\n",
    "display(orderdetail_discounts_df.describe()[['Discount', 'TotalRevenue']])\n",
    "\n",
    "#plots\n",
    "\n",
    "# sum of total revenue by discount\n",
    "fig = plt.figure(figsize=(12, 8))\n",
    "ax = fig.add_subplot(111)\n",
    "orderdetail_df.groupby('Discount').TotalRevenue.sum().plot.bar()\n",
    "plt.title('Sum of Total Revenue at Each Discount Level')\n",
    "plt.xlabel('Discount')\n",
    "plt.ylabel('Sum of Total Revenue')\n",
    "for i, v in enumerate(orderdetail_df.groupby('Discount').TotalRevenue.sum()):\n",
    "    ax.text(i, v+40, \"%d\" %v, ha=\"center\");\n",
    "plt.show();\n",
    "\n",
    "# distributions\n",
    "print('Total sum of revenue:', orderdetail_df.TotalRevenue.sum())\n",
    "print('\\nPercentage of Total Revenue Sum at Each Discount Level')\n",
    "print('-'*60)\n",
    "print(orderdetail_df.groupby('Discount').TotalRevenue.sum() / orderdetail_df.TotalRevenue.sum())\n",
    "\n",
    "f = plt.figure(figsize=(12, 8))\n",
    "sns.distplot(orderdetail_discounts_df.TotalRevenue, label='Discounts')\n",
    "sns.distplot(orderdetail_nodiscounts_df.TotalRevenue, label='No Discounts')\n",
    "plt.title('Distribution of Discounted and Non-Discounted Order Total Revenues', fontsize=14)\n",
    "plt.ylabel('Frequency', fontsize=12)\n",
    "plt.xlabel('Total Revenue', fontsize=12)\n",
    "plt.legend()\n",
    "plt.show();"
   ]
  },
  {
   "cell_type": "markdown",
   "metadata": {},
   "source": [
    "For **Total Revenue**, the non-discount mean is 570 and the discount mean is 614. The non-discount standard deviation is 961 and the discount standard deviation is 981.\n",
    "\n",
    "The bar chart informs us that transactions without discounts account for 59% of the total sum of revenue that has been received. The 5% discount is the discount level with the greatest revenue received at 12%. The 10%, 15%, 20%, and 25% discount levels each account for about 7% of total revenue.\n",
    "\n",
    "The distribution plot provide some interesting information about the orders within the dataset. Discount and non-discount total revenue distributions appear very similar, visually. The kernel density estimate indicates that the discount distribution has a nearly identical mean but less of a sharp peak than the non-discount distribution.\n",
    "\n",
    "Our next challenge will be to investigate whether this difference is statistically significant. First, however, let's determine if our groups meet the normality assumption of our tests."
   ]
  },
  {
   "cell_type": "code",
   "execution_count": 103,
   "metadata": {},
   "outputs": [
    {
     "name": "stdout",
     "output_type": "stream",
     "text": [
      "KS Tests\n",
      "----------------------------------------------------------------------\n",
      "[ No Discounts ]: KstestResult(statistic=0.999999206671848, pvalue=0.0)  - n = 1317\n",
      "[ All Discounts ]: KstestResult(statistic=1.0, pvalue=0.0)  - n = 838\n",
      "\n",
      "[ 0.01 Discount ]: KstestResult(statistic=1.0, pvalue=0.0)  - n = 1\n",
      "[ 0.02 Discount ]: KstestResult(statistic=1.0, pvalue=0.0)  - n = 2\n",
      "[ 0.03 Discount ]: KstestResult(statistic=1.0, pvalue=0.0)  - n = 3\n",
      "[ 0.04 Discount ]: KstestResult(statistic=1.0, pvalue=0.0)  - n = 1\n",
      "[ 0.05 Discount ]: KstestResult(statistic=1.0, pvalue=0.0)  - n = 185\n",
      "[ 0.06 Discount ]: KstestResult(statistic=1.0, pvalue=0.0)  - n = 1\n",
      "[ 0.1 Discount ]: KstestResult(statistic=1.0, pvalue=0.0)  - n = 173\n",
      "[ 0.15 Discount ]: KstestResult(statistic=1.0, pvalue=0.0)  - n = 157\n",
      "[ 0.2 Discount ]: KstestResult(statistic=1.0, pvalue=0.0)  - n = 161\n",
      "[ 0.25 Discount ]: KstestResult(statistic=1.0, pvalue=0.0)  - n = 154\n"
     ]
    }
   ],
   "source": [
    "# KS normality tests\n",
    "print('KS Tests')\n",
    "print('-'*70)\n",
    "print('[ No Discounts ]:', stats.kstest(orderdetail_nodiscounts_df.TotalRevenue, 'norm'), ' - n =', len(orderdetail_nodiscounts_df.TotalRevenue))\n",
    "print('[ All Discounts ]:', stats.kstest(orderdetail_discounts_df.TotalRevenue, 'norm'), ' - n =', len(orderdetail_discounts_df.TotalRevenue))\n",
    "print('')\n",
    "for i in sorted(discount_dict.keys()):\n",
    "    print('[', i, 'Discount ]:', stats.kstest(discount_dict[i].TotalRevenue, 'norm'), ' - n =', len(discount_dict[i].TotalRevenue))"
   ]
  },
  {
   "cell_type": "markdown",
   "metadata": {},
   "source": [
    "None of the **Total Revenue** groups are normally distributed. Despite this, let's next compute the test statistic for each group."
   ]
  },
  {
   "cell_type": "code",
   "execution_count": 104,
   "metadata": {},
   "outputs": [
    {
     "name": "stdout",
     "output_type": "stream",
     "text": [
      "t-Tests\n",
      "----------------------------------------------------------------------\n",
      "[ All Discounts ]: Ttest_indResult(statistic=1.0381255545690475, pvalue=0.2993546075168257)\n",
      "\n",
      "[ 0.01 Discount ]: Ttest_indResult(statistic=nan, pvalue=nan)\n",
      "[ 0.02 Discount ]: Ttest_indResult(statistic=-19.97925036355278, pvalue=1.2926858378608765e-63)\n",
      "[ 0.03 Discount ]: Ttest_indResult(statistic=-18.074831856605893, pvalue=1.6413462570428332e-25)\n",
      "[ 0.04 Discount ]: Ttest_indResult(statistic=nan, pvalue=nan)\n",
      "[ 0.05 Discount ]: Ttest_indResult(statistic=2.0913780231378394, pvalue=0.037709870639518736)\n",
      "[ 0.06 Discount ]: Ttest_indResult(statistic=nan, pvalue=nan)\n",
      "[ 0.1 Discount ]: Ttest_indResult(statistic=-0.7985572842232317, pvalue=0.4251528332676521)\n",
      "[ 0.15 Discount ]: Ttest_indResult(statistic=-0.23711428362146267, pvalue=0.8127469012101085)\n",
      "[ 0.2 Discount ]: Ttest_indResult(statistic=-0.19725929833636272, pvalue=0.8438253153501999)\n",
      "[ 0.25 Discount ]: Ttest_indResult(statistic=0.859880240014702, pvalue=0.39094940142164647)\n"
     ]
    },
    {
     "name": "stderr",
     "output_type": "stream",
     "text": [
      "C:\\Users\\IBM\\Anaconda3\\lib\\site-packages\\numpy\\core\\fromnumeric.py:3506: RuntimeWarning: Degrees of freedom <= 0 for slice\n",
      "  **kwargs)\n",
      "C:\\Users\\IBM\\Anaconda3\\lib\\site-packages\\numpy\\core\\_methods.py:209: RuntimeWarning: invalid value encountered in double_scalars\n",
      "  ret = ret.dtype.type(ret / rcount)\n",
      "C:\\Users\\IBM\\Anaconda3\\lib\\site-packages\\scipy\\stats\\_distn_infrastructure.py:877: RuntimeWarning: invalid value encountered in greater\n",
      "  return (self.a < x) & (x < self.b)\n",
      "C:\\Users\\IBM\\Anaconda3\\lib\\site-packages\\scipy\\stats\\_distn_infrastructure.py:877: RuntimeWarning: invalid value encountered in less\n",
      "  return (self.a < x) & (x < self.b)\n",
      "C:\\Users\\IBM\\Anaconda3\\lib\\site-packages\\scipy\\stats\\_distn_infrastructure.py:1831: RuntimeWarning: invalid value encountered in less_equal\n",
      "  cond2 = cond0 & (x <= self.a)\n"
     ]
    }
   ],
   "source": [
    "# Welch's t-Test for each discount\n",
    "print('t-Tests')\n",
    "print('-'*70)\n",
    "print('[ All Discounts ]:', stats.ttest_ind(orderdetail_discounts_df.TotalRevenue, orderdetail_nodiscounts_df.TotalRevenue, equal_var=False));\n",
    "print('')\n",
    "for i in sorted(discount_dict.keys()):\n",
    "    print('[', i, 'Discount ]:', stats.ttest_ind(discount_dict[i].TotalRevenue, orderdetail_nodiscounts_df.TotalRevenue, equal_var=False));"
   ]
  },
  {
   "cell_type": "markdown",
   "metadata": {},
   "source": [
    "The test statistic's p-value is above the alpha threshold of 0.05, causing us to fail to reject the null hypothesis of equal popuation means for the following discounts:\n",
    "\n",
    "- All Discounts\n",
    "- 25%\n",
    "- 20%\n",
    "- 15%\n",
    "- 10%\n",
    "\n",
    "For these discount levels, there is no difference in the total revenue from orders with that discount and orders without discounts. \n",
    "\n",
    "The test statistic's p-value is below the alpha threshold of 0.05, causing us to reject the null hypothesis of equal popuation means for the following discounts:\n",
    "\n",
    "- 5%\n",
    "- 3%\n",
    "- 2%\n",
    "\n",
    "For these discount levels, there is a difference in the total revenue from orders with that discount and orders without discounts. The sample sizes of the 2% and 3% discount levels are, however, low. This decreases our confidence in the merit of their results.\n",
    "\n",
    "There is not enough data for the 1%, 4%, and 6% discounts to assess whether a difference in total revenue exists. \n",
    "\n",
    "Let's validate our conclusion by looking at results for ANOVA. Before we do that, ANOVA assumes homogeneity of variances. Let's see if that is the case here."
   ]
  },
  {
   "cell_type": "code",
   "execution_count": 105,
   "metadata": {},
   "outputs": [
    {
     "name": "stdout",
     "output_type": "stream",
     "text": [
      "Levene Test\n",
      "----------------------------------------------------------------------\n"
     ]
    },
    {
     "data": {
      "text/plain": [
       "LeveneResult(statistic=1.0234261583013282, pvalue=0.41914547814717185)"
      ]
     },
     "execution_count": 105,
     "metadata": {},
     "output_type": "execute_result"
    }
   ],
   "source": [
    "# Levene test \n",
    "print('Levene Test')\n",
    "print('-'*70)\n",
    "stats.levene(discount_dict[0.01].TotalRevenue, discount_dict[0.02].TotalRevenue, discount_dict[0.03].TotalRevenue,\n",
    "             discount_dict[0.04].TotalRevenue, discount_dict[0.05].TotalRevenue, discount_dict[0.06].TotalRevenue, \n",
    "             discount_dict[0.1].TotalRevenue, discount_dict[0.15].TotalRevenue, discount_dict[0.2].TotalRevenue,\n",
    "             discount_dict[0.25].TotalRevenue)"
   ]
  },
  {
   "cell_type": "markdown",
   "metadata": {},
   "source": [
    "The null hypothesis of the Levene Test is that the samples are from populations that have equal variances. The p-value is not significant (p = 0.4) and we fail to reject the null hypothesis. We conclude that discount levels have equal variances for quantity.\n",
    "\n",
    "Let's look at the ANOVA results and the second assumption that residuals are normally distributed."
   ]
  },
  {
   "cell_type": "code",
   "execution_count": 106,
   "metadata": {},
   "outputs": [
    {
     "name": "stdout",
     "output_type": "stream",
     "text": [
      "ANOVA table\n",
      "------------------------------------------------------------\n",
      "                   sum_sq      df         F    PR(>F)\n",
      "C(Discount)  1.234373e+07    10.0  1.315935  0.215754\n",
      "Residual     2.011114e+09  2144.0       NaN       NaN\n",
      "\n",
      "Shapiro-Wilk Test\n",
      "----------------------------------------\n",
      "(0.47953104972839355, 0.0)\n"
     ]
    }
   ],
   "source": [
    "# ANOVA\n",
    "print('ANOVA table')\n",
    "print('-'*60)\n",
    "formula = 'TotalRevenue ~ C(Discount)'\n",
    "model = ols(formula, orderdetail_df).fit()\n",
    "table = sm.stats.anova_lm(model, typ=2)\n",
    "print(table)\n",
    "\n",
    "# Shapiro-Wilk test\n",
    "print('\\nShapiro-Wilk Test')\n",
    "print('-'*40)\n",
    "print(stats.shapiro(model.resid))"
   ]
  },
  {
   "cell_type": "markdown",
   "metadata": {},
   "source": [
    "The p-value obtained from the ANOVA analysis is not significant (p = 0.22), and therefore, we conclude that there are no significant differences among Discount levels on Total Revenue.\n",
    "\n",
    "The assumption that residuals are drawn from a normal distribution, however, does not appear to apply here. The p-value is significant (p = 0) causing us to reject the null hypothesis of residual normality.\n",
    "\n",
    "Since ANOVA does not tell us which treatments are significantly different from each other, let's use the multiple pariwise comparison Tukey HSD test to find the pairs of significantly different discount levels."
   ]
  },
  {
   "cell_type": "code",
   "execution_count": 107,
   "metadata": {},
   "outputs": [
    {
     "name": "stdout",
     "output_type": "stream",
     "text": [
      "Tukey HSD test\n",
      "--------------------------------------------------\n"
     ]
    },
    {
     "data": {
      "text/html": [
       "<div>\n",
       "<style scoped>\n",
       "    .dataframe tbody tr th:only-of-type {\n",
       "        vertical-align: middle;\n",
       "    }\n",
       "\n",
       "    .dataframe tbody tr th {\n",
       "        vertical-align: top;\n",
       "    }\n",
       "\n",
       "    .dataframe thead th {\n",
       "        text-align: right;\n",
       "    }\n",
       "</style>\n",
       "<table border=\"1\" class=\"dataframe\">\n",
       "  <thead>\n",
       "    <tr style=\"text-align: right;\">\n",
       "      <th></th>\n",
       "      <th>group1</th>\n",
       "      <th>group2</th>\n",
       "      <th>meandiff</th>\n",
       "      <th>lower</th>\n",
       "      <th>upper</th>\n",
       "      <th>reject</th>\n",
       "    </tr>\n",
       "  </thead>\n",
       "  <tbody>\n",
       "    <tr>\n",
       "      <th>0</th>\n",
       "      <td>0.0</td>\n",
       "      <td>0.01</td>\n",
       "      <td>-540.3065</td>\n",
       "      <td>-3662.2549</td>\n",
       "      <td>2581.6418</td>\n",
       "      <td>False</td>\n",
       "    </tr>\n",
       "    <tr>\n",
       "      <th>1</th>\n",
       "      <td>0.0</td>\n",
       "      <td>0.02</td>\n",
       "      <td>-540.1165</td>\n",
       "      <td>-2748.5047</td>\n",
       "      <td>1668.2716</td>\n",
       "      <td>False</td>\n",
       "    </tr>\n",
       "    <tr>\n",
       "      <th>2</th>\n",
       "      <td>0.0</td>\n",
       "      <td>0.03</td>\n",
       "      <td>-529.703</td>\n",
       "      <td>-2333.5278</td>\n",
       "      <td>1274.1217</td>\n",
       "      <td>False</td>\n",
       "    </tr>\n",
       "    <tr>\n",
       "      <th>3</th>\n",
       "      <td>0.0</td>\n",
       "      <td>0.04</td>\n",
       "      <td>-492.2465</td>\n",
       "      <td>-3614.1949</td>\n",
       "      <td>2629.7018</td>\n",
       "      <td>False</td>\n",
       "    </tr>\n",
       "    <tr>\n",
       "      <th>4</th>\n",
       "      <td>0.0</td>\n",
       "      <td>0.05</td>\n",
       "      <td>227.9252</td>\n",
       "      <td>-17.1036</td>\n",
       "      <td>472.954</td>\n",
       "      <td>False</td>\n",
       "    </tr>\n",
       "    <tr>\n",
       "      <th>5</th>\n",
       "      <td>0.0</td>\n",
       "      <td>0.06</td>\n",
       "      <td>-506.0865</td>\n",
       "      <td>-3628.0349</td>\n",
       "      <td>2615.8618</td>\n",
       "      <td>False</td>\n",
       "    </tr>\n",
       "    <tr>\n",
       "      <th>6</th>\n",
       "      <td>0.0</td>\n",
       "      <td>0.1</td>\n",
       "      <td>-41.1098</td>\n",
       "      <td>-293.48</td>\n",
       "      <td>211.2604</td>\n",
       "      <td>False</td>\n",
       "    </tr>\n",
       "    <tr>\n",
       "      <th>7</th>\n",
       "      <td>0.0</td>\n",
       "      <td>0.15</td>\n",
       "      <td>-12.6424</td>\n",
       "      <td>-276.1341</td>\n",
       "      <td>250.8493</td>\n",
       "      <td>False</td>\n",
       "    </tr>\n",
       "    <tr>\n",
       "      <th>8</th>\n",
       "      <td>0.0</td>\n",
       "      <td>0.2</td>\n",
       "      <td>-16.0866</td>\n",
       "      <td>-276.6374</td>\n",
       "      <td>244.4641</td>\n",
       "      <td>False</td>\n",
       "    </tr>\n",
       "    <tr>\n",
       "      <th>9</th>\n",
       "      <td>0.0</td>\n",
       "      <td>0.25</td>\n",
       "      <td>72.4517</td>\n",
       "      <td>-193.3232</td>\n",
       "      <td>338.2266</td>\n",
       "      <td>False</td>\n",
       "    </tr>\n",
       "  </tbody>\n",
       "</table>\n",
       "</div>"
      ],
      "text/plain": [
       "0 group1 group2   meandiff       lower      upper reject\n",
       "0    0.0   0.01  -540.3065  -3662.2549  2581.6418  False\n",
       "1    0.0   0.02  -540.1165  -2748.5047  1668.2716  False\n",
       "2    0.0   0.03   -529.703  -2333.5278  1274.1217  False\n",
       "3    0.0   0.04  -492.2465  -3614.1949  2629.7018  False\n",
       "4    0.0   0.05   227.9252    -17.1036    472.954  False\n",
       "5    0.0   0.06  -506.0865  -3628.0349  2615.8618  False\n",
       "6    0.0    0.1   -41.1098     -293.48   211.2604  False\n",
       "7    0.0   0.15   -12.6424   -276.1341   250.8493  False\n",
       "8    0.0    0.2   -16.0866   -276.6374   244.4641  False\n",
       "9    0.0   0.25    72.4517   -193.3232   338.2266  False"
      ]
     },
     "execution_count": 107,
     "metadata": {},
     "output_type": "execute_result"
    }
   ],
   "source": [
    "# Tukey HSD test\n",
    "m_comp = pairwise_tukeyhsd(endog=orderdetail_df.TotalRevenue, groups=orderdetail_df.Discount, alpha=0.05)\n",
    "df = pd.DataFrame(m_comp.summary())\n",
    "headers = df.iloc[0]\n",
    "m_comp_df  = pd.DataFrame(df.values[1:], columns=headers)\n",
    "print('Tukey HSD test')\n",
    "print('-'*50)\n",
    "m_comp_df[:10]"
   ]
  },
  {
   "cell_type": "markdown",
   "metadata": {},
   "source": [
    "The Tukey HSD test results suggest that there are no discount levels with means statistically different from the no discount mean. The Tukey HSD results differ from Welch's t-Test for the 2%, 3%, and 5% discounts levels.\n",
    "\n",
    "Our next task is to inspect the magnitude of the effect for the 3 discount level-no discount pairs identified by the t-Test. "
   ]
  },
  {
   "cell_type": "code",
   "execution_count": 108,
   "metadata": {},
   "outputs": [
    {
     "name": "stdout",
     "output_type": "stream",
     "text": [
      "Cohen d Measurement\n",
      "-------------------------\n",
      "[ 0.02 Discount ]: -0.5620300924440608\n",
      "[ 0.03 Discount ]: -0.5514031180288775\n",
      "[ 0.05 Discount ]: 0.220914265900463\n"
     ]
    }
   ],
   "source": [
    "# Cohen's d for each discount\n",
    "print('Cohen d Measurement')\n",
    "print('-'*25)\n",
    "d = {}\n",
    "d[0.02] = cohen_d(discount_dict[0.02].TotalRevenue, orderdetail_nodiscounts_df.TotalRevenue)\n",
    "d[0.03] = cohen_d(discount_dict[0.03].TotalRevenue, orderdetail_nodiscounts_df.TotalRevenue)\n",
    "d[0.05] = cohen_d(discount_dict[0.05].TotalRevenue, orderdetail_nodiscounts_df.TotalRevenue)\n",
    "print('[ 0.02 Discount ]:', d[0.02])\n",
    "print('[ 0.03 Discount ]:', d[0.03])\n",
    "print('[ 0.05 Discount ]:', d[0.05])"
   ]
  },
  {
   "cell_type": "markdown",
   "metadata": {},
   "source": [
    "A value of -0.50 represents a medium negative effect size for the 2% and 3% discount levels. The 10% discount value of 0.20 is a small positive effect size. The negative discount levels here are of insufficient size to trust these conclusions.\n",
    "\n",
    "Let's next compute the statistical power associated with these sample sizes, effect sizes, and significance level."
   ]
  },
  {
   "cell_type": "code",
   "execution_count": 109,
   "metadata": {},
   "outputs": [
    {
     "name": "stdout",
     "output_type": "stream",
     "text": [
      "Statistical Power\n",
      "---------------\n",
      "[ 0.02 Discount ] 0.0645170306872756\n",
      "[ 0.03 Discount ] 0.08270131765273339\n",
      "[ 0.05 Discount ] 0.5632569053311889\n"
     ]
    }
   ],
   "source": [
    "# statistical power calculation\n",
    "ttp = TTP()\n",
    "print('Statistical Power')\n",
    "print('-'*15)\n",
    "for i in d:\n",
    "    print('[', i, 'Discount ]', ttp.solve_power(effect_size=d[i], nobs1=len(discount_dict[i].TotalRevenue), alpha=0.05))"
   ]
  },
  {
   "cell_type": "markdown",
   "metadata": {},
   "source": [
    "The *5%* discount level has a moderate power value able to detect effects if they are present. The *2%* and *3%* discount levesl have a low ability to detect effects.\n",
    "\n",
    "### Conclusion for Hypothesis 2:\n",
    "\n",
    "- The *5%*, *3%*, and *2%* discount levels have a statistically significant effect on the total revenue of orders in one of our two statistical tests (Welch's t-Test).\n",
    "- The *6%*, *4%*, and *1%* discount levels do not possess enough data to make a claim one way or the other. The remaining disocunt levels do not show test results with statistically significant effects on total revenue.\n",
    "- The difference in the total revenue of a product in orders with discounts and orders without discounts has a small magnitude  effect (d = 0.2) on increasing total revenue for the *5%* discount level; and, potentially a medium effect (d = -0.5) on decreasing total revenue for the *3%* and *2%* discount levels. This last claim, however, should be vetted by the application of more data. \n",
    "- The power level of the *5%* discount level indicates a moderate probability of tests being able to detect an effect that is present. The power level of the *3%* and *2%* discount levels indicate a very low ability to detect an effect.\n",
    "\n",
    "### Answer 2: Discount amount has  a statistically significant effect on increasing the total revenue in an order for the 5% discount level.\n",
    "\n",
    "This finishes our work on Question 2. Let's move on to Question 3.\n",
    "\n",
    "[ToC](#Table-of-Contents:)"
   ]
  },
  {
   "cell_type": "markdown",
   "metadata": {},
   "source": [
    "## 4.3 Question 3:\n",
    "\n",
    "### Does product category have a statistically significant effect on the total revenue in an order? \n",
    "### If so, at what levels?\n",
    "\n",
    "### Hypothesis 3:\n",
    "\n",
    "- **H0**: There is no difference in the total revenue for orders in a specific category and all orders.\n",
    "- **H1**: there is a difference in the total revenue for orders in a specific category and all orders.\n",
    "- **Test Type**: Two-tailed, because we want to determine if there is or is not a difference, regardless of direction.\n",
    "- **Alpha Level**: 0.05.\n",
    "- **Control Group**: Merged *Category, Product, and Order Detail* records.\n",
    "- **Treatment Group**: Merged *Category, Product, and Order Detail* records for each category.\n",
    "- **Statistical Tests**: \n",
    "    - *Welch's Unequal Variances t-Test*. This is a two-sample test used to test the hypothesis that two populations have equal means. It is more reliable than similar tests in situations where the two samples have unequal variances or unequal sample sizes. It should be noted that this test assumes normality in the two populations.\n",
    "    - *Analysis of Variance (ANOVA)*. This test compares the means of 2 or more groups by analyzing  group variances. ANOVA does not describe which treatments are significantly different from each other. A post-hoc comparison is required to determine this information. It should be noted that this test assumes residuals are normally distributed and variances are homogeneous.\n",
    "    - *Tukey Honestly Significant Difference (HSD) Test*. This multiple pairwise comparison analysis can inform if pairs of treatments are significantly different treatments.\n",
    "    \n",
    "Let's start to answer this question by merging together the pieces of the dataset we need."
   ]
  },
  {
   "cell_type": "code",
   "execution_count": 110,
   "metadata": {
    "scrolled": false
   },
   "outputs": [
    {
     "name": "stdout",
     "output_type": "stream",
     "text": [
      "Table shapes\n",
      "---------------\n",
      "product: (77, 13)\n",
      "order detail: (2155, 8)\n",
      "category: (8, 3)\n",
      "merged category-product-order detail: (2155, 24)\n",
      "\n",
      "Sample rows:\n"
     ]
    },
    {
     "data": {
      "text/html": [
       "<div>\n",
       "<style scoped>\n",
       "    .dataframe tbody tr th:only-of-type {\n",
       "        vertical-align: middle;\n",
       "    }\n",
       "\n",
       "    .dataframe tbody tr th {\n",
       "        vertical-align: top;\n",
       "    }\n",
       "\n",
       "    .dataframe thead th {\n",
       "        text-align: right;\n",
       "    }\n",
       "</style>\n",
       "<table border=\"1\" class=\"dataframe\">\n",
       "  <thead>\n",
       "    <tr style=\"text-align: right;\">\n",
       "      <th></th>\n",
       "      <th>CategoryId</th>\n",
       "      <th>CategoryName</th>\n",
       "      <th>TotalRevenue</th>\n",
       "    </tr>\n",
       "  </thead>\n",
       "  <tbody>\n",
       "    <tr>\n",
       "      <th>0</th>\n",
       "      <td>1</td>\n",
       "      <td>Beverages</td>\n",
       "      <td>518.4</td>\n",
       "    </tr>\n",
       "    <tr>\n",
       "      <th>1</th>\n",
       "      <td>1</td>\n",
       "      <td>Beverages</td>\n",
       "      <td>259.2</td>\n",
       "    </tr>\n",
       "    <tr>\n",
       "      <th>2</th>\n",
       "      <td>1</td>\n",
       "      <td>Beverages</td>\n",
       "      <td>288.0</td>\n",
       "    </tr>\n",
       "    <tr>\n",
       "      <th>3</th>\n",
       "      <td>1</td>\n",
       "      <td>Beverages</td>\n",
       "      <td>183.6</td>\n",
       "    </tr>\n",
       "    <tr>\n",
       "      <th>4</th>\n",
       "      <td>1</td>\n",
       "      <td>Beverages</td>\n",
       "      <td>172.8</td>\n",
       "    </tr>\n",
       "  </tbody>\n",
       "</table>\n",
       "</div>"
      ],
      "text/plain": [
       "   CategoryId CategoryName  TotalRevenue\n",
       "0           1    Beverages         518.4\n",
       "1           1    Beverages         259.2\n",
       "2           1    Beverages         288.0\n",
       "3           1    Beverages         183.6\n",
       "4           1    Beverages         172.8"
      ]
     },
     "execution_count": 110,
     "metadata": {},
     "output_type": "execute_result"
    }
   ],
   "source": [
    "# merge the category, product, and order detail tables\n",
    "merge_product_orderdetail_df = pd.merge(product_df, orderdetail_df, left_on=\"Id\", right_on=\"ProductId\", how=\"left\")\n",
    "merge_catprodord_df = pd.merge(category_df, merge_product_orderdetail_df, left_on=\"Id\", right_on=\"CategoryId\", how=\"left\")\n",
    "print('Table shapes')\n",
    "print('-'*15)\n",
    "print('product:', product_df.shape)\n",
    "print('order detail:', orderdetail_df.shape)\n",
    "print('category:', category_df.shape)\n",
    "print('merged category-product-order detail:', merge_catprodord_df.shape)\n",
    "print('\\nSample rows:')\n",
    "merge_catprodord_df[['CategoryId','CategoryName','TotalRevenue']].head()"
   ]
  },
  {
   "cell_type": "markdown",
   "metadata": {},
   "source": [
    "There are 2,155 orders that split into 8 different categories. Let's split our dataframe into these category groups."
   ]
  },
  {
   "cell_type": "code",
   "execution_count": 111,
   "metadata": {},
   "outputs": [
    {
     "data": {
      "text/plain": [
       "['Beverages',\n",
       " 'Condiments',\n",
       " 'Confections',\n",
       " 'Dairy Products',\n",
       " 'Grains/Cereals',\n",
       " 'Meat/Poultry',\n",
       " 'Produce',\n",
       " 'Seafood']"
      ]
     },
     "execution_count": 111,
     "metadata": {},
     "output_type": "execute_result"
    }
   ],
   "source": [
    "# split dataframe into the product categories\n",
    "cats = merge_catprodord_df.CategoryName.unique()\n",
    "cat_dict = {}\n",
    "for c in cats:\n",
    "    cat_dict[c] = merge_catprodord_df.loc[merge_catprodord_df.CategoryName == c]\n",
    "sorted(cat_dict.keys())"
   ]
  },
  {
   "cell_type": "markdown",
   "metadata": {},
   "source": [
    "Our 8 categories are now stored as dataframes within a greater dictionary. Let's describe the variables we're interested in next."
   ]
  },
  {
   "cell_type": "code",
   "execution_count": 112,
   "metadata": {
    "scrolled": true
   },
   "outputs": [
    {
     "name": "stdout",
     "output_type": "stream",
     "text": [
      "Descriptive statistics:\n"
     ]
    },
    {
     "data": {
      "text/html": [
       "<div>\n",
       "<style scoped>\n",
       "    .dataframe tbody tr th:only-of-type {\n",
       "        vertical-align: middle;\n",
       "    }\n",
       "\n",
       "    .dataframe tbody tr th {\n",
       "        vertical-align: top;\n",
       "    }\n",
       "\n",
       "    .dataframe thead tr th {\n",
       "        text-align: left;\n",
       "    }\n",
       "\n",
       "    .dataframe thead tr:last-of-type th {\n",
       "        text-align: right;\n",
       "    }\n",
       "</style>\n",
       "<table border=\"1\" class=\"dataframe\">\n",
       "  <thead>\n",
       "    <tr>\n",
       "      <th></th>\n",
       "      <th colspan=\"8\" halign=\"left\">TotalRevenue</th>\n",
       "    </tr>\n",
       "    <tr>\n",
       "      <th></th>\n",
       "      <th>count</th>\n",
       "      <th>mean</th>\n",
       "      <th>std</th>\n",
       "      <th>min</th>\n",
       "      <th>25%</th>\n",
       "      <th>50%</th>\n",
       "      <th>75%</th>\n",
       "      <th>max</th>\n",
       "    </tr>\n",
       "    <tr>\n",
       "      <th>CategoryName</th>\n",
       "      <th></th>\n",
       "      <th></th>\n",
       "      <th></th>\n",
       "      <th></th>\n",
       "      <th></th>\n",
       "      <th></th>\n",
       "      <th></th>\n",
       "      <th></th>\n",
       "    </tr>\n",
       "  </thead>\n",
       "  <tbody>\n",
       "    <tr>\n",
       "      <th>Beverages</th>\n",
       "      <td>404.0</td>\n",
       "      <td>663.040050</td>\n",
       "      <td>1685.811331</td>\n",
       "      <td>13.5000</td>\n",
       "      <td>108.000000</td>\n",
       "      <td>251.550</td>\n",
       "      <td>504.00</td>\n",
       "      <td>15810.0</td>\n",
       "    </tr>\n",
       "    <tr>\n",
       "      <th>Condiments</th>\n",
       "      <td>216.0</td>\n",
       "      <td>490.958727</td>\n",
       "      <td>462.281963</td>\n",
       "      <td>17.0000</td>\n",
       "      <td>195.000000</td>\n",
       "      <td>340.625</td>\n",
       "      <td>604.00</td>\n",
       "      <td>2565.0</td>\n",
       "    </tr>\n",
       "    <tr>\n",
       "      <th>Confections</th>\n",
       "      <td>334.0</td>\n",
       "      <td>501.069536</td>\n",
       "      <td>618.259773</td>\n",
       "      <td>7.3000</td>\n",
       "      <td>139.875000</td>\n",
       "      <td>321.000</td>\n",
       "      <td>589.25</td>\n",
       "      <td>5268.0</td>\n",
       "    </tr>\n",
       "    <tr>\n",
       "      <th>Dairy Products</th>\n",
       "      <td>366.0</td>\n",
       "      <td>640.730287</td>\n",
       "      <td>691.701096</td>\n",
       "      <td>8.5000</td>\n",
       "      <td>190.500000</td>\n",
       "      <td>436.350</td>\n",
       "      <td>858.75</td>\n",
       "      <td>6050.0</td>\n",
       "    </tr>\n",
       "    <tr>\n",
       "      <th>Grains/Cereals</th>\n",
       "      <td>196.0</td>\n",
       "      <td>488.492793</td>\n",
       "      <td>531.827940</td>\n",
       "      <td>14.0000</td>\n",
       "      <td>126.000000</td>\n",
       "      <td>374.300</td>\n",
       "      <td>665.00</td>\n",
       "      <td>4322.5</td>\n",
       "    </tr>\n",
       "    <tr>\n",
       "      <th>Meat/Poultry</th>\n",
       "      <td>173.0</td>\n",
       "      <td>942.325777</td>\n",
       "      <td>1296.746872</td>\n",
       "      <td>17.8800</td>\n",
       "      <td>196.800000</td>\n",
       "      <td>472.000</td>\n",
       "      <td>1170.00</td>\n",
       "      <td>9903.2</td>\n",
       "    </tr>\n",
       "    <tr>\n",
       "      <th>Produce</th>\n",
       "      <td>136.0</td>\n",
       "      <td>735.180735</td>\n",
       "      <td>768.655001</td>\n",
       "      <td>22.5525</td>\n",
       "      <td>217.040625</td>\n",
       "      <td>511.300</td>\n",
       "      <td>1060.00</td>\n",
       "      <td>6042.0</td>\n",
       "    </tr>\n",
       "    <tr>\n",
       "      <th>Seafood</th>\n",
       "      <td>330.0</td>\n",
       "      <td>397.762841</td>\n",
       "      <td>426.114617</td>\n",
       "      <td>4.8000</td>\n",
       "      <td>115.800000</td>\n",
       "      <td>287.100</td>\n",
       "      <td>501.65</td>\n",
       "      <td>3125.0</td>\n",
       "    </tr>\n",
       "  </tbody>\n",
       "</table>\n",
       "</div>"
      ],
      "text/plain": [
       "               TotalRevenue                                                \\\n",
       "                      count        mean          std      min         25%   \n",
       "CategoryName                                                                \n",
       "Beverages             404.0  663.040050  1685.811331  13.5000  108.000000   \n",
       "Condiments            216.0  490.958727   462.281963  17.0000  195.000000   \n",
       "Confections           334.0  501.069536   618.259773   7.3000  139.875000   \n",
       "Dairy Products        366.0  640.730287   691.701096   8.5000  190.500000   \n",
       "Grains/Cereals        196.0  488.492793   531.827940  14.0000  126.000000   \n",
       "Meat/Poultry          173.0  942.325777  1296.746872  17.8800  196.800000   \n",
       "Produce               136.0  735.180735   768.655001  22.5525  217.040625   \n",
       "Seafood               330.0  397.762841   426.114617   4.8000  115.800000   \n",
       "\n",
       "                                           \n",
       "                    50%      75%      max  \n",
       "CategoryName                               \n",
       "Beverages       251.550   504.00  15810.0  \n",
       "Condiments      340.625   604.00   2565.0  \n",
       "Confections     321.000   589.25   5268.0  \n",
       "Dairy Products  436.350   858.75   6050.0  \n",
       "Grains/Cereals  374.300   665.00   4322.5  \n",
       "Meat/Poultry    472.000  1170.00   9903.2  \n",
       "Produce         511.300  1060.00   6042.0  \n",
       "Seafood         287.100   501.65   3125.0  "
      ]
     },
     "metadata": {},
     "output_type": "display_data"
    },
    {
     "data": {
      "image/png": "[encoded data removed]",
      "text/plain": [
       "<Figure size 864x576 with 1 Axes>"
      ]
     },
     "metadata": {
      "needs_background": "light"
     },
     "output_type": "display_data"
    },
    {
     "name": "stdout",
     "output_type": "stream",
     "text": [
      "Total sum of revenue: 1265793.0395\n",
      "\n",
      "Percentage of total revenue sum for each category:\n",
      "CategoryName\n",
      "Beverages         0.211621\n",
      "Condiments        0.083779\n",
      "Confections       0.132215\n",
      "Dairy Products    0.185265\n",
      "Grains/Cereals    0.075640\n",
      "Meat/Poultry      0.128791\n",
      "Produce           0.078990\n",
      "Seafood           0.103699\n",
      "Name: TotalRevenue, dtype: float64\n"
     ]
    },
    {
     "data": {
      "image/png": "[encoded data removed]",
      "text/plain": [
       "<Figure size 864x576 with 1 Axes>"
      ]
     },
     "metadata": {
      "needs_background": "light"
     },
     "output_type": "display_data"
    }
   ],
   "source": [
    "# statistics for rows by category\n",
    "print('Descriptive statistics:')\n",
    "display(merge_catprodord_df.groupby('CategoryName').describe()[['TotalRevenue']])\n",
    "\n",
    "#plots\n",
    "\n",
    "# sum of total revenue by category\n",
    "fig = plt.figure(figsize=(12, 8))\n",
    "ax = fig.add_subplot(111)\n",
    "merge_catprodord_df.groupby('CategoryName').TotalRevenue.sum().plot.bar()\n",
    "plt.title('Sum of Total Revenue for Each Category')\n",
    "plt.xlabel('Category')\n",
    "plt.ylabel('Sum of Total Revenue')\n",
    "for i, v in enumerate(merge_catprodord_df.groupby('CategoryName').TotalRevenue.sum()):\n",
    "    ax.text(i, v+40, \"%d\" %v, ha=\"center\");\n",
    "plt.show();\n",
    "\n",
    "# distributions\n",
    "print('Total sum of revenue:', merge_catprodord_df.TotalRevenue.sum())\n",
    "print('\\nPercentage of total revenue sum for each category:')\n",
    "print(merge_catprodord_df.groupby('CategoryName').TotalRevenue.sum() / merge_catprodord_df.TotalRevenue.sum())\n",
    "\n",
    "f = plt.figure(figsize=(12, 8))\n",
    "for c in cats:\n",
    "    sns.distplot(merge_catprodord_df[merge_catprodord_df.CategoryName == c].TotalRevenue, hist=False, rug=True, label=c)\n",
    "plt.title('Distribution of Total Revenue by Category', fontsize=14)\n",
    "plt.ylabel('Frequency', fontsize=12)\n",
    "plt.xlabel('Total Revenue', fontsize=12)\n",
    "plt.legend()\n",
    "plt.show();"
   ]
  },
  {
   "cell_type": "markdown",
   "metadata": {},
   "source": [
    "For Total Revenue, the Beverage category mean is highest at 404 and the Produce category is lowest at 136. The Meat/Poultry category has the highest standard deviation at 942 and the Seafood category has the lowest standard deviation at 397.\n",
    "\n",
    "The bar chart informs us that transactions with the beverages category account for 21% of the total sum of revenue that has been received. The Dairy Products category is next at 18% of revenue received. The Grains/Cereal category is accounts for the least revenue received at 7.5%.\n",
    "\n",
    "The distribution plot provide some interesting information about the orders within the dataset. Category total revenue distributions appear to have similar means but widely different variations and frequencies. The kernel density estimate indicates that the Beverage category has the sharpest, highest peaked distribution. On the opposite end is Produce category with a lower, wider curve. \n",
    "\n",
    "Our next challenge will be to investigate whether this difference is statistically significant. First, however, let's determine if our groups meet the normality assumption of our tests."
   ]
  },
  {
   "cell_type": "code",
   "execution_count": 113,
   "metadata": {},
   "outputs": [
    {
     "name": "stdout",
     "output_type": "stream",
     "text": [
      "KS Tests\n",
      "----------------------------------------------------------------------\n",
      "[ All Categories ]: KstestResult(statistic=0.999999206671848, pvalue=0.0)  - n = 2155\n",
      "\n",
      "[ Beverages Category ]: KstestResult(statistic=1.0, pvalue=0.0)  - n = 404\n",
      "[ Condiments Category ]: KstestResult(statistic=1.0, pvalue=0.0)  - n = 216\n",
      "[ Confections Category ]: KstestResult(statistic=0.9999999999998561, pvalue=0.0)  - n = 334\n",
      "[ Dairy Products Category ]: KstestResult(statistic=1.0, pvalue=0.0)  - n = 366\n",
      "[ Grains/Cereals Category ]: KstestResult(statistic=1.0, pvalue=0.0)  - n = 196\n",
      "[ Meat/Poultry Category ]: KstestResult(statistic=1.0, pvalue=0.0)  - n = 173\n",
      "[ Produce Category ]: KstestResult(statistic=1.0, pvalue=0.0)  - n = 136\n",
      "[ Seafood Category ]: KstestResult(statistic=0.999999206671848, pvalue=0.0)  - n = 330\n"
     ]
    }
   ],
   "source": [
    "# KS normality tests\n",
    "print('KS Tests')\n",
    "print('-'*70)\n",
    "print('[ All Categories ]:', stats.kstest(merge_catprodord_df.TotalRevenue, 'norm'), ' - n =', len(merge_catprodord_df.TotalRevenue))\n",
    "print('')\n",
    "for i in sorted(cat_dict.keys()):\n",
    "    print('[', i, 'Category ]:', stats.kstest(cat_dict[i].TotalRevenue, 'norm'), ' - n =', len(cat_dict[i].TotalRevenue))"
   ]
  },
  {
   "cell_type": "markdown",
   "metadata": {},
   "source": [
    "None of the **Total Revenue** groups are normally distributed. Despite this, let's next compute the test statistic for each group."
   ]
  },
  {
   "cell_type": "code",
   "execution_count": 114,
   "metadata": {},
   "outputs": [
    {
     "name": "stdout",
     "output_type": "stream",
     "text": [
      "t-Tests\n",
      "----------------------------------------------------------------------\n",
      "[ Beverages Category ]: Ttest_indResult(statistic=0.8754304095815261, pvalue=0.38180249879091177)\n",
      "[ Condiments Category ]: Ttest_indResult(statistic=-2.553870670746245, pvalue=0.010991089820260518)\n",
      "[ Confections Category ]: Ttest_indResult(statistic=-2.17100059351102, pvalue=0.030309127689600215)\n",
      "[ Dairy Products Category ]: Ttest_indResult(statistic=1.2779376237637516, pvalue=0.20173690501274558)\n",
      "[ Grains/Cereals Category ]: Ttest_indResult(statistic=-2.281165699156611, pvalue=0.023179528780446306)\n",
      "[ Meat/Poultry Category ]: Ttest_indResult(statistic=3.5221641841308204, pvalue=0.0005374001748455719)\n",
      "[ Produce Category ]: Ttest_indResult(statistic=2.137793762651854, pvalue=0.03402088542145878)\n",
      "[ Seafood Category ]: Ttest_indResult(statistic=-6.038058519193305, pvalue=2.2233924364791357e-09)\n"
     ]
    }
   ],
   "source": [
    "# Welch's t-Test for each category\n",
    "print('t-Tests')\n",
    "print('-'*70)\n",
    "for i in sorted(cat_dict.keys()):\n",
    "    print('[', i, 'Category ]:', stats.ttest_ind(cat_dict[i].TotalRevenue, merge_catprodord_df.TotalRevenue, equal_var=False));"
   ]
  },
  {
   "cell_type": "markdown",
   "metadata": {},
   "source": [
    "The test statistic's p-value is above the alpha significance level of 0.05, causing us to fail to reject the null hypothesis of equal popuation means for the following categories:\n",
    "\n",
    "- Beverages\n",
    "- Dairy Products\n",
    "\n",
    "For these categories, there is no difference in the total revenue from orders with that specific category and all orders.\n",
    "\n",
    "The test statistic's p-value is below the alpha threshold of 0.05, causing us to reject the null hypothesis of equal popuation means for the following categories:\n",
    "\n",
    "- Condiments\n",
    "- Confections\n",
    "- Grains/Cereals\n",
    "- Meat/Poultry\n",
    "- Produce\n",
    "- Seafood\n",
    "\n",
    "For these categories, there is a difference in the total revenue from orders with that category and all orders.\n",
    "\n",
    "Let's validate our conclusion by looking at results for ANOVA. Before we do that, ANOVA assumes homogeneity of variances. Let's see if that is the case here."
   ]
  },
  {
   "cell_type": "code",
   "execution_count": 115,
   "metadata": {},
   "outputs": [
    {
     "name": "stdout",
     "output_type": "stream",
     "text": [
      "Levene Test\n",
      "----------------------------------------------------------------------\n"
     ]
    },
    {
     "data": {
      "text/plain": [
       "LeveneResult(statistic=6.797438168299644, pvalue=5.295880990914624e-08)"
      ]
     },
     "execution_count": 115,
     "metadata": {},
     "output_type": "execute_result"
    }
   ],
   "source": [
    "# Levene test \n",
    "print('Levene Test')\n",
    "print('-'*70)\n",
    "stats.levene(cat_dict['Beverages'].TotalRevenue, cat_dict['Condiments'].TotalRevenue, cat_dict['Confections'].TotalRevenue,\n",
    "             cat_dict['Dairy Products'].TotalRevenue, cat_dict['Grains/Cereals'].TotalRevenue, \n",
    "             cat_dict['Meat/Poultry'].TotalRevenue, cat_dict['Produce'].TotalRevenue, cat_dict['Seafood'].TotalRevenue)"
   ]
  },
  {
   "cell_type": "markdown",
   "metadata": {},
   "source": [
    "The null hypothesis of the Levene Test is that the samples are from populations that have equal variances. The p-value is significant (p = 5e-08) and we reject the null hypothesis. We conclude that categories do not have equal variances for total revenue.\n",
    "\n",
    "Despite this, let's look at the ANOVA results and the second assumption that residuals are normally distributed."
   ]
  },
  {
   "cell_type": "code",
   "execution_count": 116,
   "metadata": {},
   "outputs": [
    {
     "name": "stdout",
     "output_type": "stream",
     "text": [
      "ANOVA table\n",
      "------------------------------------------------------------\n",
      "                       sum_sq      df         F        PR(>F)\n",
      "C(CategoryName)  4.639896e+07     7.0  7.198177  1.536802e-08\n",
      "Residual         1.977059e+09  2147.0       NaN           NaN\n",
      "\n",
      "Shapiro-Wilk Test\n",
      "----------------------------------------\n",
      "(0.5036502480506897, 0.0)\n"
     ]
    }
   ],
   "source": [
    "# ANOVA\n",
    "print('ANOVA table')\n",
    "print('-'*60)\n",
    "formula = 'TotalRevenue ~ C(CategoryName)'\n",
    "model = ols(formula, merge_catprodord_df).fit()\n",
    "table = sm.stats.anova_lm(model, typ=2)\n",
    "print(table)\n",
    "\n",
    "# Shapiro-Wilk test\n",
    "print('\\nShapiro-Wilk Test')\n",
    "print('-'*40)\n",
    "print(stats.shapiro(model.resid))"
   ]
  },
  {
   "cell_type": "markdown",
   "metadata": {},
   "source": [
    "The p-value obtained from the ANOVA analysis is significant (p = 2e-08), and therefore, we conclude that there are significant differences among Categories on Total Revenue.\n",
    "\n",
    "The assumption that residuals are drawn from a normal distribution, however, does not appear to apply here. The p-value is significant (p = 0) causing us to reject the null hypothesis of residual normality.\n",
    "\n",
    "Since ANOVA does not tell us which treatments are significantly different from each other, let's use the multiple pairwise comparison Tukey HSD test to find the pairs of significantly different categories."
   ]
  },
  {
   "cell_type": "code",
   "execution_count": 117,
   "metadata": {},
   "outputs": [
    {
     "name": "stdout",
     "output_type": "stream",
     "text": [
      "Tukey HSD test\n",
      "--------------------------------------------------\n"
     ]
    },
    {
     "data": {
      "text/html": [
       "<div>\n",
       "<style scoped>\n",
       "    .dataframe tbody tr th:only-of-type {\n",
       "        vertical-align: middle;\n",
       "    }\n",
       "\n",
       "    .dataframe tbody tr th {\n",
       "        vertical-align: top;\n",
       "    }\n",
       "\n",
       "    .dataframe thead th {\n",
       "        text-align: right;\n",
       "    }\n",
       "</style>\n",
       "<table border=\"1\" class=\"dataframe\">\n",
       "  <thead>\n",
       "    <tr style=\"text-align: right;\">\n",
       "      <th></th>\n",
       "      <th>group1</th>\n",
       "      <th>group2</th>\n",
       "      <th>meandiff</th>\n",
       "      <th>lower</th>\n",
       "      <th>upper</th>\n",
       "      <th>reject</th>\n",
       "    </tr>\n",
       "  </thead>\n",
       "  <tbody>\n",
       "    <tr>\n",
       "      <th>0</th>\n",
       "      <td>Beverages</td>\n",
       "      <td>Condiments</td>\n",
       "      <td>-172.0813</td>\n",
       "      <td>-417.4777</td>\n",
       "      <td>73.315</td>\n",
       "      <td>False</td>\n",
       "    </tr>\n",
       "    <tr>\n",
       "      <th>1</th>\n",
       "      <td>Beverages</td>\n",
       "      <td>Confections</td>\n",
       "      <td>-161.9705</td>\n",
       "      <td>-377.2755</td>\n",
       "      <td>53.3345</td>\n",
       "      <td>False</td>\n",
       "    </tr>\n",
       "    <tr>\n",
       "      <th>2</th>\n",
       "      <td>Beverages</td>\n",
       "      <td>Dairy Products</td>\n",
       "      <td>-22.3098</td>\n",
       "      <td>-232.3991</td>\n",
       "      <td>187.7796</td>\n",
       "      <td>False</td>\n",
       "    </tr>\n",
       "    <tr>\n",
       "      <th>3</th>\n",
       "      <td>Beverages</td>\n",
       "      <td>Grains/Cereals</td>\n",
       "      <td>-174.5473</td>\n",
       "      <td>-427.9707</td>\n",
       "      <td>78.8762</td>\n",
       "      <td>False</td>\n",
       "    </tr>\n",
       "    <tr>\n",
       "      <th>4</th>\n",
       "      <td>Beverages</td>\n",
       "      <td>Meat/Poultry</td>\n",
       "      <td>279.2857</td>\n",
       "      <td>14.7624</td>\n",
       "      <td>543.8091</td>\n",
       "      <td>True</td>\n",
       "    </tr>\n",
       "    <tr>\n",
       "      <th>5</th>\n",
       "      <td>Beverages</td>\n",
       "      <td>Produce</td>\n",
       "      <td>72.1407</td>\n",
       "      <td>-216.4794</td>\n",
       "      <td>360.7608</td>\n",
       "      <td>False</td>\n",
       "    </tr>\n",
       "    <tr>\n",
       "      <th>6</th>\n",
       "      <td>Beverages</td>\n",
       "      <td>Seafood</td>\n",
       "      <td>-265.2772</td>\n",
       "      <td>-481.2954</td>\n",
       "      <td>-49.2591</td>\n",
       "      <td>True</td>\n",
       "    </tr>\n",
       "    <tr>\n",
       "      <th>7</th>\n",
       "      <td>Condiments</td>\n",
       "      <td>Confections</td>\n",
       "      <td>10.1108</td>\n",
       "      <td>-244.0866</td>\n",
       "      <td>264.3082</td>\n",
       "      <td>False</td>\n",
       "    </tr>\n",
       "    <tr>\n",
       "      <th>8</th>\n",
       "      <td>Condiments</td>\n",
       "      <td>Dairy Products</td>\n",
       "      <td>149.7716</td>\n",
       "      <td>-100.0235</td>\n",
       "      <td>399.5667</td>\n",
       "      <td>False</td>\n",
       "    </tr>\n",
       "    <tr>\n",
       "      <th>9</th>\n",
       "      <td>Condiments</td>\n",
       "      <td>Grains/Cereals</td>\n",
       "      <td>-2.4659</td>\n",
       "      <td>-289.6653</td>\n",
       "      <td>284.7335</td>\n",
       "      <td>False</td>\n",
       "    </tr>\n",
       "    <tr>\n",
       "      <th>10</th>\n",
       "      <td>Condiments</td>\n",
       "      <td>Meat/Poultry</td>\n",
       "      <td>451.3671</td>\n",
       "      <td>154.3272</td>\n",
       "      <td>748.4069</td>\n",
       "      <td>True</td>\n",
       "    </tr>\n",
       "    <tr>\n",
       "      <th>11</th>\n",
       "      <td>Condiments</td>\n",
       "      <td>Produce</td>\n",
       "      <td>244.222</td>\n",
       "      <td>-74.4654</td>\n",
       "      <td>562.9094</td>\n",
       "      <td>False</td>\n",
       "    </tr>\n",
       "    <tr>\n",
       "      <th>12</th>\n",
       "      <td>Condiments</td>\n",
       "      <td>Seafood</td>\n",
       "      <td>-93.1959</td>\n",
       "      <td>-347.9976</td>\n",
       "      <td>161.6058</td>\n",
       "      <td>False</td>\n",
       "    </tr>\n",
       "    <tr>\n",
       "      <th>13</th>\n",
       "      <td>Confections</td>\n",
       "      <td>Dairy Products</td>\n",
       "      <td>139.6608</td>\n",
       "      <td>-80.6446</td>\n",
       "      <td>359.9661</td>\n",
       "      <td>False</td>\n",
       "    </tr>\n",
       "    <tr>\n",
       "      <th>14</th>\n",
       "      <td>Confections</td>\n",
       "      <td>Grains/Cereals</td>\n",
       "      <td>-12.5767</td>\n",
       "      <td>-274.5316</td>\n",
       "      <td>249.3782</td>\n",
       "      <td>False</td>\n",
       "    </tr>\n",
       "    <tr>\n",
       "      <th>15</th>\n",
       "      <td>Confections</td>\n",
       "      <td>Meat/Poultry</td>\n",
       "      <td>441.2562</td>\n",
       "      <td>168.5485</td>\n",
       "      <td>713.964</td>\n",
       "      <td>True</td>\n",
       "    </tr>\n",
       "    <tr>\n",
       "      <th>16</th>\n",
       "      <td>Confections</td>\n",
       "      <td>Produce</td>\n",
       "      <td>234.1112</td>\n",
       "      <td>-62.0281</td>\n",
       "      <td>530.2505</td>\n",
       "      <td>False</td>\n",
       "    </tr>\n",
       "    <tr>\n",
       "      <th>17</th>\n",
       "      <td>Confections</td>\n",
       "      <td>Seafood</td>\n",
       "      <td>-103.3067</td>\n",
       "      <td>-329.273</td>\n",
       "      <td>122.6596</td>\n",
       "      <td>False</td>\n",
       "    </tr>\n",
       "    <tr>\n",
       "      <th>18</th>\n",
       "      <td>Dairy Products</td>\n",
       "      <td>Grains/Cereals</td>\n",
       "      <td>-152.2375</td>\n",
       "      <td>-409.9227</td>\n",
       "      <td>105.4477</td>\n",
       "      <td>False</td>\n",
       "    </tr>\n",
       "    <tr>\n",
       "      <th>19</th>\n",
       "      <td>Dairy Products</td>\n",
       "      <td>Meat/Poultry</td>\n",
       "      <td>301.5955</td>\n",
       "      <td>32.9864</td>\n",
       "      <td>570.2045</td>\n",
       "      <td>True</td>\n",
       "    </tr>\n",
       "    <tr>\n",
       "      <th>20</th>\n",
       "      <td>Dairy Products</td>\n",
       "      <td>Produce</td>\n",
       "      <td>94.4504</td>\n",
       "      <td>-197.9188</td>\n",
       "      <td>386.8197</td>\n",
       "      <td>False</td>\n",
       "    </tr>\n",
       "    <tr>\n",
       "      <th>21</th>\n",
       "      <td>Dairy Products</td>\n",
       "      <td>Seafood</td>\n",
       "      <td>-242.9674</td>\n",
       "      <td>-463.9698</td>\n",
       "      <td>-21.9651</td>\n",
       "      <td>True</td>\n",
       "    </tr>\n",
       "    <tr>\n",
       "      <th>22</th>\n",
       "      <td>Grains/Cereals</td>\n",
       "      <td>Meat/Poultry</td>\n",
       "      <td>453.833</td>\n",
       "      <td>150.128</td>\n",
       "      <td>757.538</td>\n",
       "      <td>True</td>\n",
       "    </tr>\n",
       "    <tr>\n",
       "      <th>23</th>\n",
       "      <td>Grains/Cereals</td>\n",
       "      <td>Produce</td>\n",
       "      <td>246.6879</td>\n",
       "      <td>-78.2208</td>\n",
       "      <td>571.5967</td>\n",
       "      <td>False</td>\n",
       "    </tr>\n",
       "    <tr>\n",
       "      <th>24</th>\n",
       "      <td>Grains/Cereals</td>\n",
       "      <td>Seafood</td>\n",
       "      <td>-90.73</td>\n",
       "      <td>-353.2713</td>\n",
       "      <td>171.8114</td>\n",
       "      <td>False</td>\n",
       "    </tr>\n",
       "    <tr>\n",
       "      <th>25</th>\n",
       "      <td>Meat/Poultry</td>\n",
       "      <td>Produce</td>\n",
       "      <td>-207.145</td>\n",
       "      <td>-540.7839</td>\n",
       "      <td>126.4938</td>\n",
       "      <td>False</td>\n",
       "    </tr>\n",
       "    <tr>\n",
       "      <th>26</th>\n",
       "      <td>Meat/Poultry</td>\n",
       "      <td>Seafood</td>\n",
       "      <td>-544.5629</td>\n",
       "      <td>-817.8341</td>\n",
       "      <td>-271.2918</td>\n",
       "      <td>True</td>\n",
       "    </tr>\n",
       "    <tr>\n",
       "      <th>27</th>\n",
       "      <td>Produce</td>\n",
       "      <td>Seafood</td>\n",
       "      <td>-337.4179</td>\n",
       "      <td>-634.0761</td>\n",
       "      <td>-40.7597</td>\n",
       "      <td>True</td>\n",
       "    </tr>\n",
       "  </tbody>\n",
       "</table>\n",
       "</div>"
      ],
      "text/plain": [
       "0           group1          group2   meandiff      lower      upper reject\n",
       "0        Beverages      Condiments  -172.0813  -417.4777     73.315  False\n",
       "1        Beverages     Confections  -161.9705  -377.2755    53.3345  False\n",
       "2        Beverages  Dairy Products   -22.3098  -232.3991   187.7796  False\n",
       "3        Beverages  Grains/Cereals  -174.5473  -427.9707    78.8762  False\n",
       "4        Beverages    Meat/Poultry   279.2857    14.7624   543.8091   True\n",
       "5        Beverages         Produce    72.1407  -216.4794   360.7608  False\n",
       "6        Beverages         Seafood  -265.2772  -481.2954   -49.2591   True\n",
       "7       Condiments     Confections    10.1108  -244.0866   264.3082  False\n",
       "8       Condiments  Dairy Products   149.7716  -100.0235   399.5667  False\n",
       "9       Condiments  Grains/Cereals    -2.4659  -289.6653   284.7335  False\n",
       "10      Condiments    Meat/Poultry   451.3671   154.3272   748.4069   True\n",
       "11      Condiments         Produce    244.222   -74.4654   562.9094  False\n",
       "12      Condiments         Seafood   -93.1959  -347.9976   161.6058  False\n",
       "13     Confections  Dairy Products   139.6608   -80.6446   359.9661  False\n",
       "14     Confections  Grains/Cereals   -12.5767  -274.5316   249.3782  False\n",
       "15     Confections    Meat/Poultry   441.2562   168.5485    713.964   True\n",
       "16     Confections         Produce   234.1112   -62.0281   530.2505  False\n",
       "17     Confections         Seafood  -103.3067   -329.273   122.6596  False\n",
       "18  Dairy Products  Grains/Cereals  -152.2375  -409.9227   105.4477  False\n",
       "19  Dairy Products    Meat/Poultry   301.5955    32.9864   570.2045   True\n",
       "20  Dairy Products         Produce    94.4504  -197.9188   386.8197  False\n",
       "21  Dairy Products         Seafood  -242.9674  -463.9698   -21.9651   True\n",
       "22  Grains/Cereals    Meat/Poultry    453.833    150.128    757.538   True\n",
       "23  Grains/Cereals         Produce   246.6879   -78.2208   571.5967  False\n",
       "24  Grains/Cereals         Seafood     -90.73  -353.2713   171.8114  False\n",
       "25    Meat/Poultry         Produce   -207.145  -540.7839   126.4938  False\n",
       "26    Meat/Poultry         Seafood  -544.5629  -817.8341  -271.2918   True\n",
       "27         Produce         Seafood  -337.4179  -634.0761   -40.7597   True"
      ]
     },
     "execution_count": 117,
     "metadata": {},
     "output_type": "execute_result"
    }
   ],
   "source": [
    "# Tukey HSD test\n",
    "m_comp = pairwise_tukeyhsd(endog=merge_catprodord_df.TotalRevenue, groups=merge_catprodord_df.CategoryName, alpha=0.05)\n",
    "df = pd.DataFrame(m_comp.summary())\n",
    "headers = df.iloc[0]\n",
    "m_comp_df  = pd.DataFrame(df.values[1:], columns=headers)\n",
    "print('Tukey HSD test')\n",
    "print('-'*50)\n",
    "m_comp_df"
   ]
  },
  {
   "cell_type": "markdown",
   "metadata": {},
   "source": [
    "The Tukey HSD test results suggest that there are category pairs with means that are statistically different. These pairs include:\n",
    "\n",
    "- Beverages - Meat/Poultry\n",
    "- Beverages - Seafood\n",
    "- Condiments - Meat/Poultry\n",
    "- Confections - Meat/Poultry\n",
    "- Dairy Products - Meat/Poultry\n",
    "- Dairy Products - Seafood\n",
    "- Grains/Cereals - Meat/Poultry\n",
    "- Meat/Poultry - Seafood\n",
    "- Produce - Seafood\n",
    "\n",
    "Our next task is to inspect the magnitude of the effect for the categories identified by the Welch's t-Test."
   ]
  },
  {
   "cell_type": "code",
   "execution_count": 118,
   "metadata": {},
   "outputs": [
    {
     "name": "stdout",
     "output_type": "stream",
     "text": [
      "Cohen d Measurement\n",
      "-------------------------\n",
      "[ Condiments Category ]: -0.1031596788416992\n",
      "[ Confections Category ]: -0.09280715164719847\n",
      "[ Grains/Cereals Category ]: -0.1051169504562964\n",
      "[ Meat/Poultry Category ]: 0.3559711294821229\n",
      "[ Produce Category ]: 0.1541955778566979\n",
      "[ Seafood Category ]: -0.2070090806681836\n"
     ]
    }
   ],
   "source": [
    "# Cohen's d for each category\n",
    "print('Cohen d Measurement')\n",
    "print('-'*25)\n",
    "d = {}\n",
    "d['Condiments'] = cohen_d(cat_dict['Condiments'].TotalRevenue, merge_catprodord_df.TotalRevenue)\n",
    "d['Confections'] = cohen_d(cat_dict['Confections'].TotalRevenue, merge_catprodord_df.TotalRevenue)\n",
    "d['Grains/Cereals'] = cohen_d(cat_dict['Grains/Cereals'].TotalRevenue, merge_catprodord_df.TotalRevenue)\n",
    "d['Meat/Poultry'] = cohen_d(cat_dict['Meat/Poultry'].TotalRevenue, merge_catprodord_df.TotalRevenue)\n",
    "d['Produce'] = cohen_d(cat_dict['Produce'].TotalRevenue, merge_catprodord_df.TotalRevenue)\n",
    "d['Seafood'] = cohen_d(cat_dict['Seafood'].TotalRevenue, merge_catprodord_df.TotalRevenue)\n",
    "print('[ Condiments Category ]:', d['Condiments'])\n",
    "print('[ Confections Category ]:', d['Confections'])\n",
    "print('[ Grains/Cereals Category ]:', d['Grains/Cereals'])\n",
    "print('[ Meat/Poultry Category ]:', d['Meat/Poultry'])\n",
    "print('[ Produce Category ]:', d['Produce'])\n",
    "print('[ Seafood Category ]:', d['Seafood'])"
   ]
  },
  {
   "cell_type": "markdown",
   "metadata": {},
   "source": [
    "A value of -0.1 represents a very small negative effect size. A value of 0.15 represents a small positive effect size. The category with a value of 0.4 has a small-to-moderate effect size.\n",
    "\n",
    "Let's next compute the statistical power associated with the sample sizes, effect sizes, and significance level."
   ]
  },
  {
   "cell_type": "code",
   "execution_count": 119,
   "metadata": {},
   "outputs": [
    {
     "name": "stdout",
     "output_type": "stream",
     "text": [
      "Statistical Power\n",
      "---------------\n",
      "[ Condiments Category ] 0.18787921011986614\n",
      "[ Confections Category ] 0.2237179528199772\n",
      "[ Grains/Cereals Category ] 0.1796438003091221\n",
      "[ Meat/Poultry Category ] 0.9101212940295527\n",
      "[ Produce Category ] 0.24479437703529483\n",
      "[ Seafood Category ] 0.7565472960751765\n"
     ]
    }
   ],
   "source": [
    "# statistical power calculation\n",
    "ttp = TTP()\n",
    "print('Statistical Power')\n",
    "print('-'*15)\n",
    "for i in d:\n",
    "    print('[', i, 'Category ]', ttp.solve_power(effect_size=d[i], nobs1=len(cat_dict[i].TotalRevenue), alpha=0.05))"
   ]
  },
  {
   "cell_type": "markdown",
   "metadata": {},
   "source": [
    "The Meat/Poultry category has a high power value that is able to detect effects if they are present. The Seafood category has a moderate power value that is somewhat able to detect effects. The remaining categories have small power values that are not as capable of detecting effects that are present.\n",
    "\n",
    "### Conclusion for Hypothesis 3:\n",
    "- The Condiments, Confections, Grains/Cereals, Meat/Poultry, Produce, and Seafood categories have statistically significant effect on the total revenue of orders in the Welch's t-Test, when compared to all orders.\n",
    "- The ANOVA test identifies many category pairs with statistically significant differences in total revenue mean in the hundreds of dollars.\n",
    "- The difference in the total revenue in orders from a specific category and all orders has a small-to-moderate magnitude effect (d = 0.4) on increasing total revenue for the Meat/Poultry category; a small magnitude effect (d = 0.15) on increasing total revenue for the Produce category; and, a small effect (d = -0.1) on decreasing total revenue for the Condiments, Confections, Grains/Cereals, and Seafood categories.\n",
    "- The power level of the Meat/Poultry category indicates a high probability of tests being able to detect an effect that is present. The ability to detect effects sizes for the other categories tested is much less certain.\n",
    "\n",
    "### Answer 3: Product category has a statistically significant effect on decreasing the total revenue in an order for the Condiments, Confections, Grains/Cereals, and Seafood categories; and, on increasing the total revenue in an order for the Meat/Poultry and Produce categories. \n",
    "\n",
    "This finishes our work on Question 3. Let's move on to Question 4.\n",
    "\n",
    "[ToC](#Table-of-Contents:)"
   ]
  },
  {
   "cell_type": "markdown",
   "metadata": {},
   "source": [
    "## 4.4 Question 4:\n",
    "\n",
    "### Does ship region have a statistically significant effect on the total revenue in an order? \n",
    "### If so, at what levels?\n",
    "\n",
    "### Hypothesis 4:\n",
    "\n",
    "- **H0**: There is no difference in the total revenue from orders from different ship regions and all orders.\n",
    "- **H1**: there is a difference in the total revenue from orders from difference ship regions and all orders.\n",
    "- **Test Type**: Two-tailed, because we want to determine if there is or is not a difference, regardless of direction.\n",
    "- **Alpha Level**: 0.05.\n",
    "- **Control Group**: Merged *Category-Product-Order-Order Detail* records.\n",
    "- **Treatment Group**: Merged *Category-Product-Order-Order Detail* records for each ship region.\n",
    "- **Statistical Tests**:\n",
    "    - *Welch's Unequal Variances t-Test*. This is a two-sample test used to test the hypothesis that two populations have equal means. It is more reliable than similar tests in situations where the two samples have unequal variances or unequal sample sizes. It should be noted that this test assumes normality in the two populations.\n",
    "    - *Analysis of Variance (ANOVA)*. This test compares the means of 2 or more groups by analyzing  group variances. ANOVA does not describe which treatments are significantly different from each other. A post-hoc comparison is required to determine this information. It should be noted that this test assumes residuals are normally distributed and variances are homogeneous.\n",
    "    - *Tukey Honestly Significant Difference (HSD) Test*. This multiple pairwise comparison analysis can inform if pairs of treatments are significantly different treatments.\n",
    "    \n",
    "Let's start to answer this question by merging together the pieces of the dataset we need."
   ]
  },
  {
   "cell_type": "code",
   "execution_count": 120,
   "metadata": {},
   "outputs": [
    {
     "name": "stdout",
     "output_type": "stream",
     "text": [
      "Table shapes\n",
      "---------------\n",
      "order: (830, 14)\n",
      "merged category-product-order: (2155, 24)\n",
      "merged category-product-orderdetail-order: (2155, 38)\n",
      "\n",
      "Sample rows:\n"
     ]
    },
    {
     "data": {
      "text/html": [
       "<div>\n",
       "<style scoped>\n",
       "    .dataframe tbody tr th:only-of-type {\n",
       "        vertical-align: middle;\n",
       "    }\n",
       "\n",
       "    .dataframe tbody tr th {\n",
       "        vertical-align: top;\n",
       "    }\n",
       "\n",
       "    .dataframe thead th {\n",
       "        text-align: right;\n",
       "    }\n",
       "</style>\n",
       "<table border=\"1\" class=\"dataframe\">\n",
       "  <thead>\n",
       "    <tr style=\"text-align: right;\">\n",
       "      <th></th>\n",
       "      <th>ShipRegion</th>\n",
       "      <th>TotalRevenue</th>\n",
       "    </tr>\n",
       "  </thead>\n",
       "  <tbody>\n",
       "    <tr>\n",
       "      <th>0</th>\n",
       "      <td>Western Europe</td>\n",
       "      <td>518.4</td>\n",
       "    </tr>\n",
       "    <tr>\n",
       "      <th>1</th>\n",
       "      <td>North America</td>\n",
       "      <td>259.2</td>\n",
       "    </tr>\n",
       "    <tr>\n",
       "      <th>2</th>\n",
       "      <td>North America</td>\n",
       "      <td>288.0</td>\n",
       "    </tr>\n",
       "    <tr>\n",
       "      <th>3</th>\n",
       "      <td>Western Europe</td>\n",
       "      <td>183.6</td>\n",
       "    </tr>\n",
       "    <tr>\n",
       "      <th>4</th>\n",
       "      <td>Central America</td>\n",
       "      <td>172.8</td>\n",
       "    </tr>\n",
       "  </tbody>\n",
       "</table>\n",
       "</div>"
      ],
      "text/plain": [
       "        ShipRegion  TotalRevenue\n",
       "0   Western Europe         518.4\n",
       "1    North America         259.2\n",
       "2    North America         288.0\n",
       "3   Western Europe         183.6\n",
       "4  Central America         172.8"
      ]
     },
     "execution_count": 120,
     "metadata": {},
     "output_type": "execute_result"
    }
   ],
   "source": [
    "# merge the order table with the combined category-product-order detail table above\n",
    "merge_catprodord2_df = pd.merge(merge_catprodord_df, order_df, left_on=\"OrderId\", right_on=\"Id\", how=\"left\")\n",
    "print('Table shapes')\n",
    "print('-'*15)\n",
    "print('order:', order_df.shape)\n",
    "print('merged category-product-order:', merge_catprodord_df.shape)\n",
    "print('merged category-product-orderdetail-order:', merge_catprodord2_df.shape)\n",
    "print('\\nSample rows:')\n",
    "merge_catprodord2_df[['ShipRegion','TotalRevenue']].head()"
   ]
  },
  {
   "cell_type": "markdown",
   "metadata": {},
   "source": [
    "The data needed to find an answer to this question has been combined above. Next, let's split it by the variable we're interested in, **ShipRegion**."
   ]
  },
  {
   "cell_type": "code",
   "execution_count": 121,
   "metadata": {},
   "outputs": [
    {
     "data": {
      "text/plain": [
       "['British Isles',\n",
       " 'Central America',\n",
       " 'Eastern Europe',\n",
       " 'North America',\n",
       " 'Northern Europe',\n",
       " 'Scandinavia',\n",
       " 'South America',\n",
       " 'Southern Europe',\n",
       " 'Western Europe']"
      ]
     },
     "execution_count": 121,
     "metadata": {},
     "output_type": "execute_result"
    }
   ],
   "source": [
    "# split the dataset by ship region\n",
    "regions = merge_catprodord2_df.ShipRegion.unique()\n",
    "region_dict = {}\n",
    "for r in regions:\n",
    "    region_dict[r] = merge_catprodord2_df.loc[merge_catprodord2_df.ShipRegion == r]\n",
    "sorted(region_dict.keys())"
   ]
  },
  {
   "cell_type": "raw",
   "metadata": {},
   "source": [
    "There are 9 ship regions used by Northwind. Let's look at an initial description of their information."
   ]
  },
  {
   "cell_type": "code",
   "execution_count": 122,
   "metadata": {},
   "outputs": [
    {
     "name": "stdout",
     "output_type": "stream",
     "text": [
      "Descriptive statistics:\n"
     ]
    },
    {
     "data": {
      "text/html": [
       "<div>\n",
       "<style scoped>\n",
       "    .dataframe tbody tr th:only-of-type {\n",
       "        vertical-align: middle;\n",
       "    }\n",
       "\n",
       "    .dataframe tbody tr th {\n",
       "        vertical-align: top;\n",
       "    }\n",
       "\n",
       "    .dataframe thead th {\n",
       "        text-align: right;\n",
       "    }\n",
       "</style>\n",
       "<table border=\"1\" class=\"dataframe\">\n",
       "  <thead>\n",
       "    <tr style=\"text-align: right;\">\n",
       "      <th></th>\n",
       "      <th>count</th>\n",
       "      <th>mean</th>\n",
       "      <th>std</th>\n",
       "      <th>min</th>\n",
       "      <th>25%</th>\n",
       "      <th>50%</th>\n",
       "      <th>75%</th>\n",
       "      <th>max</th>\n",
       "    </tr>\n",
       "    <tr>\n",
       "      <th>ShipRegion</th>\n",
       "      <th></th>\n",
       "      <th></th>\n",
       "      <th></th>\n",
       "      <th></th>\n",
       "      <th></th>\n",
       "      <th></th>\n",
       "      <th></th>\n",
       "      <th></th>\n",
       "    </tr>\n",
       "  </thead>\n",
       "  <tbody>\n",
       "    <tr>\n",
       "      <th>British Isles</th>\n",
       "      <td>190.0</td>\n",
       "      <td>573.427447</td>\n",
       "      <td>944.869689</td>\n",
       "      <td>4.80</td>\n",
       "      <td>144.7200</td>\n",
       "      <td>354.500</td>\n",
       "      <td>660.0000</td>\n",
       "      <td>9903.2</td>\n",
       "    </tr>\n",
       "    <tr>\n",
       "      <th>Central America</th>\n",
       "      <td>72.0</td>\n",
       "      <td>327.528854</td>\n",
       "      <td>494.806540</td>\n",
       "      <td>17.00</td>\n",
       "      <td>73.3750</td>\n",
       "      <td>216.600</td>\n",
       "      <td>404.5125</td>\n",
       "      <td>3952.5</td>\n",
       "    </tr>\n",
       "    <tr>\n",
       "      <th>Eastern Europe</th>\n",
       "      <td>16.0</td>\n",
       "      <td>220.746875</td>\n",
       "      <td>163.075679</td>\n",
       "      <td>22.35</td>\n",
       "      <td>107.5000</td>\n",
       "      <td>190.000</td>\n",
       "      <td>249.3750</td>\n",
       "      <td>591.6</td>\n",
       "    </tr>\n",
       "    <tr>\n",
       "      <th>North America</th>\n",
       "      <td>427.0</td>\n",
       "      <td>692.695317</td>\n",
       "      <td>1092.962510</td>\n",
       "      <td>14.00</td>\n",
       "      <td>147.9000</td>\n",
       "      <td>379.950</td>\n",
       "      <td>775.7375</td>\n",
       "      <td>10540.0</td>\n",
       "    </tr>\n",
       "    <tr>\n",
       "      <th>Northern Europe</th>\n",
       "      <td>143.0</td>\n",
       "      <td>609.483654</td>\n",
       "      <td>1073.633574</td>\n",
       "      <td>14.40</td>\n",
       "      <td>182.4375</td>\n",
       "      <td>300.000</td>\n",
       "      <td>606.0000</td>\n",
       "      <td>10540.0</td>\n",
       "    </tr>\n",
       "    <tr>\n",
       "      <th>Scandinavia</th>\n",
       "      <td>70.0</td>\n",
       "      <td>350.645750</td>\n",
       "      <td>353.425343</td>\n",
       "      <td>17.88</td>\n",
       "      <td>126.0000</td>\n",
       "      <td>259.875</td>\n",
       "      <td>445.5000</td>\n",
       "      <td>2108.0</td>\n",
       "    </tr>\n",
       "    <tr>\n",
       "      <th>South America</th>\n",
       "      <td>355.0</td>\n",
       "      <td>484.100015</td>\n",
       "      <td>972.747268</td>\n",
       "      <td>8.64</td>\n",
       "      <td>140.0000</td>\n",
       "      <td>291.750</td>\n",
       "      <td>538.7500</td>\n",
       "      <td>15810.0</td>\n",
       "    </tr>\n",
       "    <tr>\n",
       "      <th>Southern Europe</th>\n",
       "      <td>137.0</td>\n",
       "      <td>330.114726</td>\n",
       "      <td>387.244233</td>\n",
       "      <td>7.30</td>\n",
       "      <td>84.0000</td>\n",
       "      <td>207.000</td>\n",
       "      <td>443.7000</td>\n",
       "      <td>2475.8</td>\n",
       "    </tr>\n",
       "    <tr>\n",
       "      <th>Western Europe</th>\n",
       "      <td>745.0</td>\n",
       "      <td>678.072897</td>\n",
       "      <td>1014.433713</td>\n",
       "      <td>8.50</td>\n",
       "      <td>182.4000</td>\n",
       "      <td>405.000</td>\n",
       "      <td>800.0000</td>\n",
       "      <td>15019.5</td>\n",
       "    </tr>\n",
       "  </tbody>\n",
       "</table>\n",
       "</div>"
      ],
      "text/plain": [
       "                 count        mean          std    min       25%      50%  \\\n",
       "ShipRegion                                                                  \n",
       "British Isles    190.0  573.427447   944.869689   4.80  144.7200  354.500   \n",
       "Central America   72.0  327.528854   494.806540  17.00   73.3750  216.600   \n",
       "Eastern Europe    16.0  220.746875   163.075679  22.35  107.5000  190.000   \n",
       "North America    427.0  692.695317  1092.962510  14.00  147.9000  379.950   \n",
       "Northern Europe  143.0  609.483654  1073.633574  14.40  182.4375  300.000   \n",
       "Scandinavia       70.0  350.645750   353.425343  17.88  126.0000  259.875   \n",
       "South America    355.0  484.100015   972.747268   8.64  140.0000  291.750   \n",
       "Southern Europe  137.0  330.114726   387.244233   7.30   84.0000  207.000   \n",
       "Western Europe   745.0  678.072897  1014.433713   8.50  182.4000  405.000   \n",
       "\n",
       "                      75%      max  \n",
       "ShipRegion                          \n",
       "British Isles    660.0000   9903.2  \n",
       "Central America  404.5125   3952.5  \n",
       "Eastern Europe   249.3750    591.6  \n",
       "North America    775.7375  10540.0  \n",
       "Northern Europe  606.0000  10540.0  \n",
       "Scandinavia      445.5000   2108.0  \n",
       "South America    538.7500  15810.0  \n",
       "Southern Europe  443.7000   2475.8  \n",
       "Western Europe   800.0000  15019.5  "
      ]
     },
     "metadata": {},
     "output_type": "display_data"
    },
    {
     "data": {
      "image/png": "[encoded data removed]",
      "text/plain": [
       "<Figure size 864x576 with 1 Axes>"
      ]
     },
     "metadata": {
      "needs_background": "light"
     },
     "output_type": "display_data"
    },
    {
     "name": "stdout",
     "output_type": "stream",
     "text": [
      "Total sum of revenue: 1265793.0395\n",
      "\n",
      "Percentage of Total Revenue Sum for Each Ship Region\n",
      "-------------------------------------------------------\n",
      "ShipRegion\n",
      "British Isles      0.086073\n",
      "Central America    0.018630\n",
      "Eastern Europe     0.002790\n",
      "North America      0.233672\n",
      "Northern Europe    0.068855\n",
      "Scandinavia        0.019391\n",
      "South America      0.135769\n",
      "Southern Europe    0.035729\n",
      "Western Europe     0.399089\n",
      "Name: TotalRevenue, dtype: float64\n"
     ]
    },
    {
     "data": {
      "image/png": "[encoded data removed]",
      "text/plain": [
       "<Figure size 864x576 with 1 Axes>"
      ]
     },
     "metadata": {
      "needs_background": "light"
     },
     "output_type": "display_data"
    }
   ],
   "source": [
    "# statistics for rows by ship region\n",
    "print('Descriptive statistics:')\n",
    "display(merge_catprodord2_df.groupby('ShipRegion')['TotalRevenue'].describe())\n",
    "\n",
    "#plots\n",
    "\n",
    "# sum of total revenue by ship region\n",
    "fig = plt.figure(figsize=(12, 8))\n",
    "ax = fig.add_subplot(111)\n",
    "merge_catprodord2_df.groupby('ShipRegion').TotalRevenue.sum().plot.bar()\n",
    "plt.title('Sum of Total Revenue for Each Ship Region')\n",
    "plt.xlabel('Region')\n",
    "plt.ylabel('Sum of Total Revenue')\n",
    "for i, v in enumerate(merge_catprodord2_df.groupby('ShipRegion').TotalRevenue.sum()):\n",
    "    ax.text(i, v+40, \"%d\" %v, ha=\"center\");\n",
    "plt.show();\n",
    "\n",
    "# distributions\n",
    "print('Total sum of revenue:', merge_catprodord2_df.TotalRevenue.sum())\n",
    "print('\\nPercentage of Total Revenue Sum for Each Ship Region')\n",
    "print('-'*55)\n",
    "print(merge_catprodord2_df.groupby('ShipRegion').TotalRevenue.sum() / merge_catprodord2_df.TotalRevenue.sum())\n",
    "\n",
    "f = plt.figure(figsize=(12, 8))\n",
    "for r in regions:\n",
    "    sns.distplot(merge_catprodord2_df[merge_catprodord2_df.ShipRegion == r].TotalRevenue, hist=False, rug=True, label=r)\n",
    "plt.title('Distribution of Total Revenue by Ship Region', fontsize=14)\n",
    "plt.ylabel('Frequency', fontsize=12)\n",
    "plt.xlabel('Total Revenue', fontsize=12)\n",
    "plt.legend()\n",
    "plt.show();"
   ]
  },
  {
   "cell_type": "markdown",
   "metadata": {},
   "source": [
    "For Total Revenue, the North America and Western Europe ship region means are highest at above 650.The Eastern Europe ship region is lowest at 220. The North America, North Europe, and Western Europe ship regions have the highest standard deviation at above 1000 and the Eastern Europe ship region has the lowest standard deviation at 160.\n",
    "\n",
    "The bar chart informs us that transactions with the Western Europe ship region account for 40% of the total sum of revenue that has been received. The North American ship region is next at 23% of revenue received. The Eastern Europe ship region accounts for the least revenue received at 0.3%.\n",
    "\n",
    "The distribution plot provide some interesting information about the orders within the dataset. Ship region total revenue distributions appear to have similar means but widely different variations and frequencies. The kernel density estimate indicates that the Eastern Europe ship region has the sharpest, highest peaked distribution. On the opposite end is the North America and Western ship regions with lower, wider curves.\n",
    "\n",
    "Our next challenge will be to investigate whether this difference is statistically significant. First, however, let's determine if our groups meet the normality assumption of our tests."
   ]
  },
  {
   "cell_type": "code",
   "execution_count": 123,
   "metadata": {},
   "outputs": [
    {
     "name": "stdout",
     "output_type": "stream",
     "text": [
      "KS Tests\n",
      "----------------------------------------------------------------------\n",
      "[ All Regions ]: KstestResult(statistic=0.999999206671848, pvalue=0.0) - n = 2155\n",
      "\n",
      "[ British Isles Region ]: KstestResult(statistic=0.999999206671848, pvalue=0.0)  - n = 190\n",
      "[ Central America Region ]: KstestResult(statistic=1.0, pvalue=0.0)  - n = 72\n",
      "[ Eastern Europe Region ]: KstestResult(statistic=1.0, pvalue=0.0)  - n = 16\n",
      "[ North America Region ]: KstestResult(statistic=1.0, pvalue=0.0)  - n = 427\n",
      "[ Northern Europe Region ]: KstestResult(statistic=1.0, pvalue=0.0)  - n = 143\n",
      "[ Scandinavia Region ]: KstestResult(statistic=1.0, pvalue=0.0)  - n = 70\n",
      "[ South America Region ]: KstestResult(statistic=1.0, pvalue=0.0)  - n = 355\n",
      "[ Southern Europe Region ]: KstestResult(statistic=0.9999999999998561, pvalue=0.0)  - n = 137\n",
      "[ Western Europe Region ]: KstestResult(statistic=1.0, pvalue=0.0)  - n = 745\n"
     ]
    }
   ],
   "source": [
    "# KS normality tests\n",
    "print('KS Tests')\n",
    "print('-'*70)\n",
    "print('[ All Regions ]:', stats.kstest(merge_catprodord2_df.TotalRevenue, 'norm'), '- n =', len(merge_catprodord2_df.TotalRevenue))\n",
    "print('')\n",
    "for i in sorted(region_dict.keys()):\n",
    "    print('[', i, 'Region ]:', stats.kstest(region_dict[i].TotalRevenue, 'norm'), ' - n =', len(region_dict[i].TotalRevenue))"
   ]
  },
  {
   "cell_type": "markdown",
   "metadata": {},
   "source": [
    "None of the **Total Revenue** groups are normally distributed. Despite this, let's next compute the test statistic for each group."
   ]
  },
  {
   "cell_type": "code",
   "execution_count": 124,
   "metadata": {
    "scrolled": true
   },
   "outputs": [
    {
     "name": "stdout",
     "output_type": "stream",
     "text": [
      "t-Tests\n",
      "----------------------------------------------------------------------\n",
      "[ British Isles Region ]: Ttest_indResult(statistic=-0.19464225517974637, pvalue=0.8458482470498203)\n",
      "[ Central America Region ]: Ttest_indResult(statistic=-4.1952264733620295, pvalue=6.360080379559051e-05)\n",
      "[ Eastern Europe Region ]: Ttest_indResult(statistic=-8.00425646011008, pvalue=3.2335730642384056e-08)\n",
      "[ North America Region ]: Ttest_indResult(statistic=1.85215019784102, pvalue=0.06452439083043385)\n",
      "[ Northern Europe Region ]: Ttest_indResult(statistic=0.23984933796643743, pvalue=0.8107584478565818)\n",
      "[ Scandinavia Region ]: Ttest_indResult(statistic=-5.023918085290891, pvalue=2.0481528337575177e-06)\n",
      "[ South America Region ]: Ttest_indResult(statistic=-1.8544625929854985, pvalue=0.06428975558455541)\n",
      "[ Southern Europe Region ]: Ttest_indResult(statistic=-6.575913987636637, pvalue=2.5886526130142754e-10)\n",
      "[ Western Europe Region ]: Ttest_indResult(statistic=2.127615547075789, pvalue=0.03356505463612045)\n"
     ]
    }
   ],
   "source": [
    "# Welch's t-Test for each region\n",
    "print('t-Tests')\n",
    "print('-'*70)\n",
    "for i in sorted(region_dict.keys()):\n",
    "    print('[', i, 'Region ]:', stats.ttest_ind(region_dict[i].TotalRevenue, merge_catprodord2_df.TotalRevenue, equal_var=False));"
   ]
  },
  {
   "cell_type": "markdown",
   "metadata": {},
   "source": [
    "The test statistic's p-value is above the alpha significance level of 0.05, causing us to fail to reject the null hypothesis of equal popuation means for the following ship regions:\n",
    "\n",
    "- British isles\n",
    "- North America\n",
    "- Northern Europe\n",
    "- South America\n",
    "\n",
    "For these ship regions, there is no difference in the total revenue from orders with that specific ship region and all orders.\n",
    "\n",
    "The test statistic's p-value is below the alpha threshold of 0.05, causing us to reject the null hypothesis of equal popuation means for the following ship regions:\n",
    "\n",
    "- Central America\n",
    "- Eastern Europe\n",
    "- Scandinavia\n",
    "- Southern Europe\n",
    "- Western Europe\n",
    "\n",
    "For these ship regions, there is a difference in the total revenue from orders with that specific ship region and all orders.\n",
    "\n",
    "Let's validate our conclusion by looking at results for ANOVA. Before we do that, ANOVA assumes homogeneity of variances. Let's see if that is the case here."
   ]
  },
  {
   "cell_type": "code",
   "execution_count": 125,
   "metadata": {},
   "outputs": [
    {
     "name": "stdout",
     "output_type": "stream",
     "text": [
      "Levene Test\n",
      "----------------------------------------------------------------------\n"
     ]
    },
    {
     "data": {
      "text/plain": [
       "LeveneResult(statistic=3.447051573100657, pvalue=0.0005935647674199613)"
      ]
     },
     "execution_count": 125,
     "metadata": {},
     "output_type": "execute_result"
    }
   ],
   "source": [
    "# Levene test \n",
    "print('Levene Test')\n",
    "print('-'*70)\n",
    "stats.levene(region_dict['British Isles'].TotalRevenue, region_dict['Central America'].TotalRevenue, \n",
    "             region_dict['Eastern Europe'].TotalRevenue, region_dict['North America'].TotalRevenue, \n",
    "             region_dict['Northern Europe'].TotalRevenue, region_dict['Scandinavia'].TotalRevenue, \n",
    "             region_dict['South America'].TotalRevenue, region_dict['Southern Europe'].TotalRevenue,\n",
    "             region_dict['Western Europe'].TotalRevenue)"
   ]
  },
  {
   "cell_type": "markdown",
   "metadata": {},
   "source": [
    "The null hypothesis of the Levene Test is that the samples are from populations that have equal variances. The p-value is significant (p = 0.0) and we reject the null hypothesis. We conclude that ship regions do not have equal variances for total revenue.\n",
    "\n",
    "Despite this, let's look at the ANOVA results and the second assumption that residuals are normally distributed."
   ]
  },
  {
   "cell_type": "code",
   "execution_count": 126,
   "metadata": {},
   "outputs": [
    {
     "name": "stdout",
     "output_type": "stream",
     "text": [
      "ANOVA table\n",
      "------------------------------------------------------------\n",
      "                     sum_sq      df         F   PR(>F)\n",
      "C(ShipRegion)  3.476009e+07     8.0  4.688692  0.00001\n",
      "Residual       1.988698e+09  2146.0       NaN      NaN\n",
      "\n",
      "Shapiro-Wilk Test\n",
      "----------------------------------------\n",
      "(0.48593956232070923, 0.0)\n"
     ]
    }
   ],
   "source": [
    "# ANOVA\n",
    "print('ANOVA table')\n",
    "print('-'*60)\n",
    "formula = 'TotalRevenue ~ C(ShipRegion)'\n",
    "model = ols(formula, merge_catprodord2_df).fit()\n",
    "table = sm.stats.anova_lm(model, typ=2)\n",
    "print(table)\n",
    "\n",
    "# Shapiro-Wilk test\n",
    "print('\\nShapiro-Wilk Test')\n",
    "print('-'*40)\n",
    "print(stats.shapiro(model.resid))"
   ]
  },
  {
   "cell_type": "markdown",
   "metadata": {},
   "source": [
    "The p-value obtained from the ANOVA analysis is significant (p = 0.0), and therefore, we conclude that there are significant differences among Ship Regions on Total Revenue.\n",
    "\n",
    "The assumption that residuals are drawn from a normal distribution, however, does not appear to apply here. The p-value is significant (p = 0.0) causing us to reject the null hypothesis of residual normality.\n",
    "\n",
    "Since ANOVA does not tell us which treatments are significantly different from each other, let's use the multiple pairwise comparison Tukey HSD test to find the pairs of significantly different ship regions."
   ]
  },
  {
   "cell_type": "code",
   "execution_count": 127,
   "metadata": {},
   "outputs": [
    {
     "name": "stdout",
     "output_type": "stream",
     "text": [
      "Tukey HSD test\n",
      "--------------------------------------------------\n"
     ]
    },
    {
     "data": {
      "text/html": [
       "<div>\n",
       "<style scoped>\n",
       "    .dataframe tbody tr th:only-of-type {\n",
       "        vertical-align: middle;\n",
       "    }\n",
       "\n",
       "    .dataframe tbody tr th {\n",
       "        vertical-align: top;\n",
       "    }\n",
       "\n",
       "    .dataframe thead th {\n",
       "        text-align: right;\n",
       "    }\n",
       "</style>\n",
       "<table border=\"1\" class=\"dataframe\">\n",
       "  <thead>\n",
       "    <tr style=\"text-align: right;\">\n",
       "      <th></th>\n",
       "      <th>group1</th>\n",
       "      <th>group2</th>\n",
       "      <th>meandiff</th>\n",
       "      <th>lower</th>\n",
       "      <th>upper</th>\n",
       "      <th>reject</th>\n",
       "    </tr>\n",
       "  </thead>\n",
       "  <tbody>\n",
       "    <tr>\n",
       "      <th>0</th>\n",
       "      <td>British Isles</td>\n",
       "      <td>Central America</td>\n",
       "      <td>-245.8986</td>\n",
       "      <td>-659.5434</td>\n",
       "      <td>167.7462</td>\n",
       "      <td>False</td>\n",
       "    </tr>\n",
       "    <tr>\n",
       "      <th>1</th>\n",
       "      <td>British Isles</td>\n",
       "      <td>Eastern Europe</td>\n",
       "      <td>-352.6806</td>\n",
       "      <td>-1130.7472</td>\n",
       "      <td>425.3861</td>\n",
       "      <td>False</td>\n",
       "    </tr>\n",
       "    <tr>\n",
       "      <th>2</th>\n",
       "      <td>British Isles</td>\n",
       "      <td>North America</td>\n",
       "      <td>119.2679</td>\n",
       "      <td>-141.3906</td>\n",
       "      <td>379.9263</td>\n",
       "      <td>False</td>\n",
       "    </tr>\n",
       "    <tr>\n",
       "      <th>3</th>\n",
       "      <td>British Isles</td>\n",
       "      <td>Northern Europe</td>\n",
       "      <td>36.0562</td>\n",
       "      <td>-294.8442</td>\n",
       "      <td>366.9566</td>\n",
       "      <td>False</td>\n",
       "    </tr>\n",
       "    <tr>\n",
       "      <th>4</th>\n",
       "      <td>British Isles</td>\n",
       "      <td>Scandinavia</td>\n",
       "      <td>-222.7817</td>\n",
       "      <td>-640.6898</td>\n",
       "      <td>195.1264</td>\n",
       "      <td>False</td>\n",
       "    </tr>\n",
       "    <tr>\n",
       "      <th>5</th>\n",
       "      <td>British Isles</td>\n",
       "      <td>South America</td>\n",
       "      <td>-89.3274</td>\n",
       "      <td>-358.0024</td>\n",
       "      <td>179.3476</td>\n",
       "      <td>False</td>\n",
       "    </tr>\n",
       "    <tr>\n",
       "      <th>6</th>\n",
       "      <td>British Isles</td>\n",
       "      <td>Southern Europe</td>\n",
       "      <td>-243.3127</td>\n",
       "      <td>-578.322</td>\n",
       "      <td>91.6965</td>\n",
       "      <td>False</td>\n",
       "    </tr>\n",
       "    <tr>\n",
       "      <th>7</th>\n",
       "      <td>British Isles</td>\n",
       "      <td>Western Europe</td>\n",
       "      <td>104.6454</td>\n",
       "      <td>-138.2788</td>\n",
       "      <td>347.5697</td>\n",
       "      <td>False</td>\n",
       "    </tr>\n",
       "    <tr>\n",
       "      <th>8</th>\n",
       "      <td>Central America</td>\n",
       "      <td>Eastern Europe</td>\n",
       "      <td>-106.782</td>\n",
       "      <td>-932.8867</td>\n",
       "      <td>719.3227</td>\n",
       "      <td>False</td>\n",
       "    </tr>\n",
       "    <tr>\n",
       "      <th>9</th>\n",
       "      <td>Central America</td>\n",
       "      <td>North America</td>\n",
       "      <td>365.1665</td>\n",
       "      <td>-15.6275</td>\n",
       "      <td>745.9604</td>\n",
       "      <td>False</td>\n",
       "    </tr>\n",
       "    <tr>\n",
       "      <th>10</th>\n",
       "      <td>Central America</td>\n",
       "      <td>Northern Europe</td>\n",
       "      <td>281.9548</td>\n",
       "      <td>-149.9668</td>\n",
       "      <td>713.8764</td>\n",
       "      <td>False</td>\n",
       "    </tr>\n",
       "    <tr>\n",
       "      <th>11</th>\n",
       "      <td>Central America</td>\n",
       "      <td>Scandinavia</td>\n",
       "      <td>23.1169</td>\n",
       "      <td>-478.5886</td>\n",
       "      <td>524.8224</td>\n",
       "      <td>False</td>\n",
       "    </tr>\n",
       "    <tr>\n",
       "      <th>12</th>\n",
       "      <td>Central America</td>\n",
       "      <td>South America</td>\n",
       "      <td>156.5712</td>\n",
       "      <td>-229.7544</td>\n",
       "      <td>542.8968</td>\n",
       "      <td>False</td>\n",
       "    </tr>\n",
       "    <tr>\n",
       "      <th>13</th>\n",
       "      <td>Central America</td>\n",
       "      <td>Southern Europe</td>\n",
       "      <td>2.5859</td>\n",
       "      <td>-432.4916</td>\n",
       "      <td>437.6633</td>\n",
       "      <td>False</td>\n",
       "    </tr>\n",
       "    <tr>\n",
       "      <th>14</th>\n",
       "      <td>Central America</td>\n",
       "      <td>Western Europe</td>\n",
       "      <td>350.544</td>\n",
       "      <td>-18.3372</td>\n",
       "      <td>719.4253</td>\n",
       "      <td>False</td>\n",
       "    </tr>\n",
       "    <tr>\n",
       "      <th>15</th>\n",
       "      <td>Eastern Europe</td>\n",
       "      <td>North America</td>\n",
       "      <td>471.9484</td>\n",
       "      <td>-289.1624</td>\n",
       "      <td>1233.0593</td>\n",
       "      <td>False</td>\n",
       "    </tr>\n",
       "    <tr>\n",
       "      <th>16</th>\n",
       "      <td>Eastern Europe</td>\n",
       "      <td>Northern Europe</td>\n",
       "      <td>388.7368</td>\n",
       "      <td>-399.1985</td>\n",
       "      <td>1176.672</td>\n",
       "      <td>False</td>\n",
       "    </tr>\n",
       "    <tr>\n",
       "      <th>17</th>\n",
       "      <td>Eastern Europe</td>\n",
       "      <td>Scandinavia</td>\n",
       "      <td>129.8989</td>\n",
       "      <td>-698.3487</td>\n",
       "      <td>958.1465</td>\n",
       "      <td>False</td>\n",
       "    </tr>\n",
       "    <tr>\n",
       "      <th>18</th>\n",
       "      <td>Eastern Europe</td>\n",
       "      <td>South America</td>\n",
       "      <td>263.3531</td>\n",
       "      <td>-500.5403</td>\n",
       "      <td>1027.2466</td>\n",
       "      <td>False</td>\n",
       "    </tr>\n",
       "    <tr>\n",
       "      <th>19</th>\n",
       "      <td>Eastern Europe</td>\n",
       "      <td>Southern Europe</td>\n",
       "      <td>109.3679</td>\n",
       "      <td>-680.3018</td>\n",
       "      <td>899.0375</td>\n",
       "      <td>False</td>\n",
       "    </tr>\n",
       "    <tr>\n",
       "      <th>20</th>\n",
       "      <td>Eastern Europe</td>\n",
       "      <td>Western Europe</td>\n",
       "      <td>457.326</td>\n",
       "      <td>-297.8952</td>\n",
       "      <td>1212.5472</td>\n",
       "      <td>False</td>\n",
       "    </tr>\n",
       "    <tr>\n",
       "      <th>21</th>\n",
       "      <td>North America</td>\n",
       "      <td>Northern Europe</td>\n",
       "      <td>-83.2117</td>\n",
       "      <td>-371.9972</td>\n",
       "      <td>205.5739</td>\n",
       "      <td>False</td>\n",
       "    </tr>\n",
       "    <tr>\n",
       "      <th>22</th>\n",
       "      <td>North America</td>\n",
       "      <td>Scandinavia</td>\n",
       "      <td>-342.0496</td>\n",
       "      <td>-727.4704</td>\n",
       "      <td>43.3713</td>\n",
       "      <td>False</td>\n",
       "    </tr>\n",
       "    <tr>\n",
       "      <th>23</th>\n",
       "      <td>North America</td>\n",
       "      <td>South America</td>\n",
       "      <td>-208.5953</td>\n",
       "      <td>-423.2771</td>\n",
       "      <td>6.0865</td>\n",
       "      <td>False</td>\n",
       "    </tr>\n",
       "    <tr>\n",
       "      <th>24</th>\n",
       "      <td>North America</td>\n",
       "      <td>Southern Europe</td>\n",
       "      <td>-362.5806</td>\n",
       "      <td>-656.0652</td>\n",
       "      <td>-69.096</td>\n",
       "      <td>True</td>\n",
       "    </tr>\n",
       "    <tr>\n",
       "      <th>25</th>\n",
       "      <td>North America</td>\n",
       "      <td>Western Europe</td>\n",
       "      <td>-14.6224</td>\n",
       "      <td>-196.0452</td>\n",
       "      <td>166.8003</td>\n",
       "      <td>False</td>\n",
       "    </tr>\n",
       "    <tr>\n",
       "      <th>26</th>\n",
       "      <td>Northern Europe</td>\n",
       "      <td>Scandinavia</td>\n",
       "      <td>-258.8379</td>\n",
       "      <td>-694.8442</td>\n",
       "      <td>177.1684</td>\n",
       "      <td>False</td>\n",
       "    </tr>\n",
       "    <tr>\n",
       "      <th>27</th>\n",
       "      <td>Northern Europe</td>\n",
       "      <td>South America</td>\n",
       "      <td>-125.3836</td>\n",
       "      <td>-421.425</td>\n",
       "      <td>170.6578</td>\n",
       "      <td>False</td>\n",
       "    </tr>\n",
       "    <tr>\n",
       "      <th>28</th>\n",
       "      <td>Northern Europe</td>\n",
       "      <td>Southern Europe</td>\n",
       "      <td>-279.3689</td>\n",
       "      <td>-636.6999</td>\n",
       "      <td>77.9621</td>\n",
       "      <td>False</td>\n",
       "    </tr>\n",
       "    <tr>\n",
       "      <th>29</th>\n",
       "      <td>Northern Europe</td>\n",
       "      <td>Western Europe</td>\n",
       "      <td>68.5892</td>\n",
       "      <td>-204.2962</td>\n",
       "      <td>341.4746</td>\n",
       "      <td>False</td>\n",
       "    </tr>\n",
       "    <tr>\n",
       "      <th>30</th>\n",
       "      <td>Scandinavia</td>\n",
       "      <td>South America</td>\n",
       "      <td>133.4543</td>\n",
       "      <td>-257.4328</td>\n",
       "      <td>524.3413</td>\n",
       "      <td>False</td>\n",
       "    </tr>\n",
       "    <tr>\n",
       "      <th>31</th>\n",
       "      <td>Scandinavia</td>\n",
       "      <td>Southern Europe</td>\n",
       "      <td>-20.531</td>\n",
       "      <td>-459.6638</td>\n",
       "      <td>418.6018</td>\n",
       "      <td>False</td>\n",
       "    </tr>\n",
       "    <tr>\n",
       "      <th>32</th>\n",
       "      <td>Scandinavia</td>\n",
       "      <td>Western Europe</td>\n",
       "      <td>327.4271</td>\n",
       "      <td>-46.2286</td>\n",
       "      <td>701.0829</td>\n",
       "      <td>False</td>\n",
       "    </tr>\n",
       "    <tr>\n",
       "      <th>33</th>\n",
       "      <td>South America</td>\n",
       "      <td>Southern Europe</td>\n",
       "      <td>-153.9853</td>\n",
       "      <td>-454.6124</td>\n",
       "      <td>146.6418</td>\n",
       "      <td>False</td>\n",
       "    </tr>\n",
       "    <tr>\n",
       "      <th>34</th>\n",
       "      <td>South America</td>\n",
       "      <td>Western Europe</td>\n",
       "      <td>193.9729</td>\n",
       "      <td>1.2097</td>\n",
       "      <td>386.736</td>\n",
       "      <td>True</td>\n",
       "    </tr>\n",
       "    <tr>\n",
       "      <th>35</th>\n",
       "      <td>Southern Europe</td>\n",
       "      <td>Western Europe</td>\n",
       "      <td>347.9582</td>\n",
       "      <td>70.1047</td>\n",
       "      <td>625.8117</td>\n",
       "      <td>True</td>\n",
       "    </tr>\n",
       "  </tbody>\n",
       "</table>\n",
       "</div>"
      ],
      "text/plain": [
       "0            group1           group2   meandiff       lower      upper reject\n",
       "0     British Isles  Central America  -245.8986   -659.5434   167.7462  False\n",
       "1     British Isles   Eastern Europe  -352.6806  -1130.7472   425.3861  False\n",
       "2     British Isles    North America   119.2679   -141.3906   379.9263  False\n",
       "3     British Isles  Northern Europe    36.0562   -294.8442   366.9566  False\n",
       "4     British Isles      Scandinavia  -222.7817   -640.6898   195.1264  False\n",
       "5     British Isles    South America   -89.3274   -358.0024   179.3476  False\n",
       "6     British Isles  Southern Europe  -243.3127    -578.322    91.6965  False\n",
       "7     British Isles   Western Europe   104.6454   -138.2788   347.5697  False\n",
       "8   Central America   Eastern Europe   -106.782   -932.8867   719.3227  False\n",
       "9   Central America    North America   365.1665    -15.6275   745.9604  False\n",
       "10  Central America  Northern Europe   281.9548   -149.9668   713.8764  False\n",
       "11  Central America      Scandinavia    23.1169   -478.5886   524.8224  False\n",
       "12  Central America    South America   156.5712   -229.7544   542.8968  False\n",
       "13  Central America  Southern Europe     2.5859   -432.4916   437.6633  False\n",
       "14  Central America   Western Europe    350.544    -18.3372   719.4253  False\n",
       "15   Eastern Europe    North America   471.9484   -289.1624  1233.0593  False\n",
       "16   Eastern Europe  Northern Europe   388.7368   -399.1985   1176.672  False\n",
       "17   Eastern Europe      Scandinavia   129.8989   -698.3487   958.1465  False\n",
       "18   Eastern Europe    South America   263.3531   -500.5403  1027.2466  False\n",
       "19   Eastern Europe  Southern Europe   109.3679   -680.3018   899.0375  False\n",
       "20   Eastern Europe   Western Europe    457.326   -297.8952  1212.5472  False\n",
       "21    North America  Northern Europe   -83.2117   -371.9972   205.5739  False\n",
       "22    North America      Scandinavia  -342.0496   -727.4704    43.3713  False\n",
       "23    North America    South America  -208.5953   -423.2771     6.0865  False\n",
       "24    North America  Southern Europe  -362.5806   -656.0652    -69.096   True\n",
       "25    North America   Western Europe   -14.6224   -196.0452   166.8003  False\n",
       "26  Northern Europe      Scandinavia  -258.8379   -694.8442   177.1684  False\n",
       "27  Northern Europe    South America  -125.3836    -421.425   170.6578  False\n",
       "28  Northern Europe  Southern Europe  -279.3689   -636.6999    77.9621  False\n",
       "29  Northern Europe   Western Europe    68.5892   -204.2962   341.4746  False\n",
       "30      Scandinavia    South America   133.4543   -257.4328   524.3413  False\n",
       "31      Scandinavia  Southern Europe    -20.531   -459.6638   418.6018  False\n",
       "32      Scandinavia   Western Europe   327.4271    -46.2286   701.0829  False\n",
       "33    South America  Southern Europe  -153.9853   -454.6124   146.6418  False\n",
       "34    South America   Western Europe   193.9729      1.2097    386.736   True\n",
       "35  Southern Europe   Western Europe   347.9582     70.1047   625.8117   True"
      ]
     },
     "execution_count": 127,
     "metadata": {},
     "output_type": "execute_result"
    }
   ],
   "source": [
    "# Tukey HSD test\n",
    "m_comp = pairwise_tukeyhsd(endog=merge_catprodord2_df.TotalRevenue, groups=merge_catprodord2_df.ShipRegion, alpha=0.05)\n",
    "df = pd.DataFrame(m_comp.summary())\n",
    "headers = df.iloc[0]\n",
    "m_comp_df  = pd.DataFrame(df.values[1:], columns=headers)\n",
    "print('Tukey HSD test')\n",
    "print('-'*50)\n",
    "m_comp_df"
   ]
  },
  {
   "cell_type": "markdown",
   "metadata": {},
   "source": [
    "The Tukey HSD test results suggest that there are ship regions pairs with means that are statistically different. These pairs include:\n",
    "\n",
    "- North America - Southern Europe\n",
    "- South America - Western Europe\n",
    "- Southern Europe - Western Europe\n",
    "\n",
    "Our next task is to inspect the magnitude of the effect for the ship regions identified by the Welch's t-Test."
   ]
  },
  {
   "cell_type": "code",
   "execution_count": 128,
   "metadata": {},
   "outputs": [
    {
     "name": "stdout",
     "output_type": "stream",
     "text": [
      "Cohen d Measurement\n",
      "--------------------------------------------------\n",
      "[ Central America Region ]: -0.27131674577560394\n",
      "[ Eastern Europe Region ]: -0.37954702188677797\n",
      "[ Scandinavia Region ]: -0.24760049565240996\n",
      "[ Southern Europe Region ]: -0.27231127923204057\n",
      "[ Western Europe Region ]: 0.09245178363020146\n"
     ]
    }
   ],
   "source": [
    "# Cohen's d for each region\n",
    "print('Cohen d Measurement')\n",
    "print('-'*50)\n",
    "d = {}\n",
    "d['Central America'] = cohen_d(region_dict['Central America'].TotalRevenue, merge_catprodord2_df.TotalRevenue)\n",
    "d['Eastern Europe'] = cohen_d(region_dict['Eastern Europe'].TotalRevenue, merge_catprodord2_df.TotalRevenue)\n",
    "d['Scandinavia'] = cohen_d(region_dict['Scandinavia'].TotalRevenue, merge_catprodord2_df.TotalRevenue)\n",
    "d['Southern Europe'] = cohen_d(region_dict['Southern Europe'].TotalRevenue, merge_catprodord2_df.TotalRevenue)\n",
    "d['Western Europe'] = cohen_d(region_dict['Western Europe'].TotalRevenue, merge_catprodord2_df.TotalRevenue)\n",
    "print('[ Central America Region ]:', d['Central America'])\n",
    "print('[ Eastern Europe Region ]:', d['Eastern Europe'])\n",
    "print('[ Scandinavia Region ]:', d['Scandinavia'])\n",
    "print('[ Southern Europe Region ]:', d['Southern Europe'])\n",
    "print('[ Western Europe Region ]:', d['Western Europe'])"
   ]
  },
  {
   "cell_type": "markdown",
   "metadata": {},
   "source": [
    "A value near -0.2 represents a small negative effect size. A value near 0.1 represents a very small positive effect size.\n",
    "\n",
    "Let's next compute the statistical power associated with the sample sizes, effect sizes, and significance level."
   ]
  },
  {
   "cell_type": "code",
   "execution_count": 129,
   "metadata": {},
   "outputs": [
    {
     "name": "stdout",
     "output_type": "stream",
     "text": [
      "Statistical Power\n",
      "---------------\n",
      "[ Central America Region ] 0.36594623006251187\n",
      "[ Eastern Europe Region ] 0.17999110738530658\n",
      "[ Scandinavia Region ] 0.3069835681071831\n",
      "[ Southern Europe Region ] 0.6125165017210692\n",
      "[ Western Europe Region ] 0.42993449952229085\n"
     ]
    }
   ],
   "source": [
    "# statistical power calculation\n",
    "ttp = TTP()\n",
    "print('Statistical Power')\n",
    "print('-'*15)\n",
    "for i in d:\n",
    "    print('[', i, 'Region ]', ttp.solve_power(effect_size=d[i], nobs1=len(region_dict[i].TotalRevenue), alpha=0.05))"
   ]
  },
  {
   "cell_type": "markdown",
   "metadata": {},
   "source": [
    "The Southern Europe ship region has a moderate power value that is somewhat able to detect effects if they are present. The Eastern Europe ship region has a small power value that is not as capable of detecting effects that are present. The remaining ship regions have statistical power values nearly halfway between these two extremes. \n",
    "\n",
    "### Conclusion for Hypothesis 4:\n",
    "\n",
    "- The Central America, Eastern Europe, Scandinavia, Southern Europe, and Western Europe ship regions have statistically significant effect on the total revenue of orders in the Welch's t-Test, when compared to all orders.\n",
    "- The ANOVA test identifies a few ship regions pairs with statistically significant differences in total revenue mean in the hundreds of dollars.\n",
    "- The difference in the total revenue in orders from a specific ship region and all orders has a small magnitude effect (d = -0.2) on decreasing total revenue for the Central America, Eastern Europe, Scandinavia, and Southern Europe ship regions; and, a very small magnitude effect (d = 0.1) on increasing total revenue for the Western Europe ship region.\n",
    "- The power level of the Southern Europe category indicates a moderate probability of tests being able to detect an effect that is present. The ability to detect effects sizes for the other categories tested is much less certain.\n",
    "\n",
    "### Answer 4:    Ship region has a statistically significant effect on decreasing the total revenue in an order  for the Central America, Eastern Europe, Scandinavia, and Southern Europe regions; and, on increasing the total revenue in an order for Western Europe region.\n",
    "\n",
    "This finishes our work on Question 4. Let's move on to our last quesiton, Question 5.\n",
    "\n",
    "[ToC](#Table-of-Contents:)"
   ]
  },
  {
   "cell_type": "markdown",
   "metadata": {},
   "source": [
    "## 4.5 Question 5:\n",
    "\n",
    "### Does reorder level have a statistically significant effect on the cost of items in stock? \n",
    "### If so, at what levels?\n",
    "\n",
    "### Hypothesis 5:\n",
    "\n",
    "- **H0**: There is no difference in the cost of items in stock for products with reorder levels  and products without reorders.\n",
    "- **H1**: there is a difference in the cost of items in stock for products with reorder levels and products without reorders.\n",
    "- **Test Type**: Two-tailed, because we want to determine if there is or is not a difference, regardless of direction.\n",
    "- **Alpha Level**: 0.05.\n",
    "- **Control Group**: *Product* records without a reorder (level = 0).\n",
    "- **Treatment Group**: *Product* records for each reorder level.\n",
    "- **Statistical Tests**:\n",
    "    - *Welch's Unequal Variances t-Test*. This is a two-sample test used to test the hypothesis that two populations have equal means. It is more reliable than similar tests in situations where the two samples have unequal variances or unequal sample sizes. It should be noted that this test assumes normality in the two populations.\n",
    "    - *Analysis of Variance (ANOVA)*. This test compares the means of 2 or more groups by analyzing  group variances. ANOVA does not describe which treatments are significantly different from each other. A post-hoc comparison is required to determine this information. It should be noted that this test assumes residuals are normally distributed and variances are homogeneous.\n",
    "    - *Tukey Honestly Significant Difference (HSD) Test*. This multiple pairwise comparison analysis can inform if pairs of treatments are significantly different treatments.\n",
    "    \n",
    "Let's start to answer this question by obtaining the pieces of the dataset we need."
   ]
  },
  {
   "cell_type": "code",
   "execution_count": 130,
   "metadata": {},
   "outputs": [
    {
     "name": "stdout",
     "output_type": "stream",
     "text": [
      "product table shape: (77, 13)\n",
      "\n",
      "Sample rows:\n"
     ]
    },
    {
     "data": {
      "text/html": [
       "<div>\n",
       "<style scoped>\n",
       "    .dataframe tbody tr th:only-of-type {\n",
       "        vertical-align: middle;\n",
       "    }\n",
       "\n",
       "    .dataframe tbody tr th {\n",
       "        vertical-align: top;\n",
       "    }\n",
       "\n",
       "    .dataframe thead th {\n",
       "        text-align: right;\n",
       "    }\n",
       "</style>\n",
       "<table border=\"1\" class=\"dataframe\">\n",
       "  <thead>\n",
       "    <tr style=\"text-align: right;\">\n",
       "      <th></th>\n",
       "      <th>UnitPrice</th>\n",
       "      <th>UnitsInStock</th>\n",
       "      <th>CostOfUnitsInStock</th>\n",
       "      <th>ReorderLevel</th>\n",
       "    </tr>\n",
       "  </thead>\n",
       "  <tbody>\n",
       "    <tr>\n",
       "      <th>0</th>\n",
       "      <td>18.00</td>\n",
       "      <td>39</td>\n",
       "      <td>702.0</td>\n",
       "      <td>10</td>\n",
       "    </tr>\n",
       "    <tr>\n",
       "      <th>1</th>\n",
       "      <td>19.00</td>\n",
       "      <td>17</td>\n",
       "      <td>323.0</td>\n",
       "      <td>25</td>\n",
       "    </tr>\n",
       "    <tr>\n",
       "      <th>2</th>\n",
       "      <td>10.00</td>\n",
       "      <td>13</td>\n",
       "      <td>130.0</td>\n",
       "      <td>25</td>\n",
       "    </tr>\n",
       "    <tr>\n",
       "      <th>3</th>\n",
       "      <td>22.00</td>\n",
       "      <td>53</td>\n",
       "      <td>1166.0</td>\n",
       "      <td>0</td>\n",
       "    </tr>\n",
       "    <tr>\n",
       "      <th>4</th>\n",
       "      <td>21.35</td>\n",
       "      <td>0</td>\n",
       "      <td>0.0</td>\n",
       "      <td>0</td>\n",
       "    </tr>\n",
       "  </tbody>\n",
       "</table>\n",
       "</div>"
      ],
      "text/plain": [
       "   UnitPrice  UnitsInStock  CostOfUnitsInStock  ReorderLevel\n",
       "0      18.00            39               702.0            10\n",
       "1      19.00            17               323.0            25\n",
       "2      10.00            13               130.0            25\n",
       "3      22.00            53              1166.0             0\n",
       "4      21.35             0                 0.0             0"
      ]
     },
     "execution_count": 130,
     "metadata": {},
     "output_type": "execute_result"
    }
   ],
   "source": [
    "# review product table information\n",
    "print('product table shape:', product_df.shape)\n",
    "print('\\nSample rows:')\n",
    "product_df[['UnitPrice','UnitsInStock','CostOfUnitsInStock','ReorderLevel']].head()"
   ]
  },
  {
   "cell_type": "markdown",
   "metadata": {},
   "source": [
    "Information from the table we're interested in is above. Let's next split it into reorder level groups."
   ]
  },
  {
   "cell_type": "code",
   "execution_count": 131,
   "metadata": {},
   "outputs": [
    {
     "data": {
      "text/plain": [
       "[0, 5, 10, 15, 20, 25, 30]"
      ]
     },
     "execution_count": 131,
     "metadata": {},
     "output_type": "execute_result"
    }
   ],
   "source": [
    "# split the product table intp reorder level dataframes in a dictionary\n",
    "rlevels = product_df.ReorderLevel.unique()\n",
    "rlevel_dict = {}\n",
    "for l in rlevels:\n",
    "    rlevel_dict[l] = product_df.loc[product_df.ReorderLevel == l]\n",
    "sorted(rlevel_dict.keys())"
   ]
  },
  {
   "cell_type": "markdown",
   "metadata": {},
   "source": [
    "There are 6 reorder levels and 1 level indicating no reorders have been made. The former are our Treatment groups and the latter is our Control group. Let's take a look at information about these groups."
   ]
  },
  {
   "cell_type": "code",
   "execution_count": 132,
   "metadata": {},
   "outputs": [
    {
     "name": "stdout",
     "output_type": "stream",
     "text": [
      "Descriptive statistics:\n"
     ]
    },
    {
     "data": {
      "text/html": [
       "<div>\n",
       "<style scoped>\n",
       "    .dataframe tbody tr th:only-of-type {\n",
       "        vertical-align: middle;\n",
       "    }\n",
       "\n",
       "    .dataframe tbody tr th {\n",
       "        vertical-align: top;\n",
       "    }\n",
       "\n",
       "    .dataframe thead th {\n",
       "        text-align: right;\n",
       "    }\n",
       "</style>\n",
       "<table border=\"1\" class=\"dataframe\">\n",
       "  <thead>\n",
       "    <tr style=\"text-align: right;\">\n",
       "      <th></th>\n",
       "      <th>count</th>\n",
       "      <th>mean</th>\n",
       "      <th>std</th>\n",
       "      <th>min</th>\n",
       "      <th>25%</th>\n",
       "      <th>50%</th>\n",
       "      <th>75%</th>\n",
       "      <th>max</th>\n",
       "    </tr>\n",
       "    <tr>\n",
       "      <th>ReorderLevel</th>\n",
       "      <th></th>\n",
       "      <th></th>\n",
       "      <th></th>\n",
       "      <th></th>\n",
       "      <th></th>\n",
       "      <th></th>\n",
       "      <th></th>\n",
       "      <th></th>\n",
       "    </tr>\n",
       "  </thead>\n",
       "  <tbody>\n",
       "    <tr>\n",
       "      <th>0</th>\n",
       "      <td>24.0</td>\n",
       "      <td>1132.995833</td>\n",
       "      <td>1224.137406</td>\n",
       "      <td>0.00</td>\n",
       "      <td>316.500</td>\n",
       "      <td>729.875</td>\n",
       "      <td>1289.1500</td>\n",
       "      <td>4345.0</td>\n",
       "    </tr>\n",
       "    <tr>\n",
       "      <th>5</th>\n",
       "      <td>8.0</td>\n",
       "      <td>607.387500</td>\n",
       "      <td>590.164821</td>\n",
       "      <td>30.00</td>\n",
       "      <td>118.000</td>\n",
       "      <td>417.250</td>\n",
       "      <td>1100.7000</td>\n",
       "      <td>1515.0</td>\n",
       "    </tr>\n",
       "    <tr>\n",
       "      <th>10</th>\n",
       "      <td>7.0</td>\n",
       "      <td>631.821429</td>\n",
       "      <td>290.939010</td>\n",
       "      <td>156.45</td>\n",
       "      <td>478.025</td>\n",
       "      <td>702.000</td>\n",
       "      <td>774.1250</td>\n",
       "      <td>1060.0</td>\n",
       "    </tr>\n",
       "    <tr>\n",
       "      <th>15</th>\n",
       "      <td>10.0</td>\n",
       "      <td>885.205000</td>\n",
       "      <td>1342.237035</td>\n",
       "      <td>47.50</td>\n",
       "      <td>214.725</td>\n",
       "      <td>388.000</td>\n",
       "      <td>833.2875</td>\n",
       "      <td>4479.5</td>\n",
       "    </tr>\n",
       "    <tr>\n",
       "      <th>20</th>\n",
       "      <td>8.0</td>\n",
       "      <td>973.187500</td>\n",
       "      <td>990.858140</td>\n",
       "      <td>0.00</td>\n",
       "      <td>227.000</td>\n",
       "      <td>761.750</td>\n",
       "      <td>1301.5000</td>\n",
       "      <td>2760.0</td>\n",
       "    </tr>\n",
       "    <tr>\n",
       "      <th>25</th>\n",
       "      <td>12.0</td>\n",
       "      <td>1015.708333</td>\n",
       "      <td>1128.402666</td>\n",
       "      <td>130.00</td>\n",
       "      <td>281.000</td>\n",
       "      <td>436.000</td>\n",
       "      <td>1272.5625</td>\n",
       "      <td>3220.5</td>\n",
       "    </tr>\n",
       "    <tr>\n",
       "      <th>30</th>\n",
       "      <td>8.0</td>\n",
       "      <td>1093.881250</td>\n",
       "      <td>742.622885</td>\n",
       "      <td>225.00</td>\n",
       "      <td>664.125</td>\n",
       "      <td>927.125</td>\n",
       "      <td>1335.7750</td>\n",
       "      <td>2263.2</td>\n",
       "    </tr>\n",
       "  </tbody>\n",
       "</table>\n",
       "</div>"
      ],
      "text/plain": [
       "              count         mean          std     min      25%      50%  \\\n",
       "ReorderLevel                                                              \n",
       "0              24.0  1132.995833  1224.137406    0.00  316.500  729.875   \n",
       "5               8.0   607.387500   590.164821   30.00  118.000  417.250   \n",
       "10              7.0   631.821429   290.939010  156.45  478.025  702.000   \n",
       "15             10.0   885.205000  1342.237035   47.50  214.725  388.000   \n",
       "20              8.0   973.187500   990.858140    0.00  227.000  761.750   \n",
       "25             12.0  1015.708333  1128.402666  130.00  281.000  436.000   \n",
       "30              8.0  1093.881250   742.622885  225.00  664.125  927.125   \n",
       "\n",
       "                    75%     max  \n",
       "ReorderLevel                     \n",
       "0             1289.1500  4345.0  \n",
       "5             1100.7000  1515.0  \n",
       "10             774.1250  1060.0  \n",
       "15             833.2875  4479.5  \n",
       "20            1301.5000  2760.0  \n",
       "25            1272.5625  3220.5  \n",
       "30            1335.7750  2263.2  "
      ]
     },
     "metadata": {},
     "output_type": "display_data"
    },
    {
     "data": {
      "image/png": "[encoded data removed]",
      "text/plain": [
       "<Figure size 864x576 with 1 Axes>"
      ]
     },
     "metadata": {
      "needs_background": "light"
     },
     "output_type": "display_data"
    },
    {
     "name": "stdout",
     "output_type": "stream",
     "text": [
      "Total cost sum of units in stock: 74050.85\n",
      "\n",
      "Percentage of Units in Stock Cost Sum for Each Reorder Level\n",
      "------------------------------------------------------------\n",
      "ReorderLevel\n",
      "0     0.367206\n",
      "5     0.065618\n",
      "10    0.059726\n",
      "15    0.119540\n",
      "20    0.105137\n",
      "25    0.164596\n",
      "30    0.118176\n",
      "Name: CostOfUnitsInStock, dtype: float64\n"
     ]
    },
    {
     "data": {
      "image/png": "[encoded data removed]",
      "text/plain": [
       "<Figure size 864x576 with 1 Axes>"
      ]
     },
     "metadata": {
      "needs_background": "light"
     },
     "output_type": "display_data"
    }
   ],
   "source": [
    "# statistics for rows by reorder level\n",
    "print('Descriptive statistics:')\n",
    "display(product_df.groupby('ReorderLevel')['CostOfUnitsInStock'].describe())\n",
    "\n",
    "#plots\n",
    "\n",
    "# sum of cost of units in stock by reorder level\n",
    "fig = plt.figure(figsize=(12, 8))\n",
    "ax = fig.add_subplot(111)\n",
    "product_df.groupby('ReorderLevel').CostOfUnitsInStock.sum().plot.bar()\n",
    "plt.title('Cost Sum of Units in Stock for Each Reorder Level')\n",
    "plt.xlabel('Reorder Level')\n",
    "plt.ylabel('Cost Sum of Units in Stock')\n",
    "for i, v in enumerate(product_df.groupby('ReorderLevel').CostOfUnitsInStock.sum()):\n",
    "    ax.text(i, v+40, \"%d\" %v, ha=\"center\");\n",
    "plt.show();\n",
    "\n",
    "# distributions\n",
    "print('Total cost sum of units in stock:', product_df.CostOfUnitsInStock.sum())\n",
    "print('\\nPercentage of Units in Stock Cost Sum for Each Reorder Level')\n",
    "print('-'*60)\n",
    "print(product_df.groupby('ReorderLevel').CostOfUnitsInStock.sum() / product_df.CostOfUnitsInStock.sum())\n",
    "\n",
    "f = plt.figure(figsize=(12, 8))\n",
    "for l in rlevels:\n",
    "    sns.distplot(product_df[product_df.ReorderLevel == l].CostOfUnitsInStock, hist=False, rug=True, label=l)\n",
    "plt.title('Distribution of Units in Stock Cost by Reorder Level', fontsize=14)\n",
    "plt.ylabel('Frequency', fontsize=12)\n",
    "plt.xlabel('Cost of Units in Stock', fontsize=12)\n",
    "plt.legend()\n",
    "plt.show();"
   ]
  },
  {
   "cell_type": "markdown",
   "metadata": {},
   "source": [
    "For the Cost of Units in Stock, the control group mean is 1133. The 25 reorder level is just below the 0 level at 1016. The 30 reorder lvel is just above the 0 level at 1094. The 5 reorder level has the lowest mean at 607. The 15 reorder level has the highest standard deviation at above 1342 and the 10 reorder has the lowest standard deviation at 291.\n",
    "\n",
    "The bar chart informs us that transactions without a reorder level account for 36% of the total cost sum of units in stock. The 15, 20, 25, and 30 reorder levels each account for about 11% of the cost of units in stock. The 5 and 6 reorder levels account for the least cost of units in stock at about 6%.\n",
    "\n",
    "The distribution plot provide some interesting information about the products within the dataset. Reorder level stock unit cost distributions appear to have varying means, number of peaks and frequencies. The kernel density estimate indicates that the 10 reorder level has the sharpest, highest peaked distribution. On the opposite end is the 30 reorder level with multiple lower, wider peaks.\n",
    "\n",
    "Our next challenge will be to investigate whether this difference is statistically significant. First, however, let's determine if our groups meet the normality assumption of our tests."
   ]
  },
  {
   "cell_type": "code",
   "execution_count": 133,
   "metadata": {},
   "outputs": [
    {
     "name": "stdout",
     "output_type": "stream",
     "text": [
      "KS Tests\n",
      "----------------------------------------------------------------------\n",
      "[ All Reorder Levels ]: KstestResult(statistic=0.935064935064935, pvalue=7.277048387204544e-92)  - n = 77\n",
      "\n",
      "[ 0 Reorder Level ]: KstestResult(statistic=0.8333333333333334, pvalue=4.906115377843993e-19)  - n = 24\n",
      "[ 5 Reorder Level ]: KstestResult(statistic=1.0, pvalue=0.0)  - n = 8\n",
      "[ 10 Reorder Level ]: KstestResult(statistic=1.0, pvalue=0.0)  - n = 7\n",
      "[ 15 Reorder Level ]: KstestResult(statistic=1.0, pvalue=0.0)  - n = 10\n",
      "[ 20 Reorder Level ]: KstestResult(statistic=0.875, pvalue=1.1920928955078125e-07)  - n = 8\n",
      "[ 25 Reorder Level ]: KstestResult(statistic=1.0, pvalue=0.0)  - n = 12\n",
      "[ 30 Reorder Level ]: KstestResult(statistic=1.0, pvalue=0.0)  - n = 8\n"
     ]
    }
   ],
   "source": [
    "# KS normality tests\n",
    "print('KS Tests')\n",
    "print('-'*70)\n",
    "print('[ All Reorder Levels ]:', stats.kstest(product_df.CostOfUnitsInStock, 'norm'), ' - n =', len(product_df.CostOfUnitsInStock))\n",
    "print('')\n",
    "for i in sorted(rlevel_dict.keys()):\n",
    "    print('[', i, 'Reorder Level ]:', stats.kstest(rlevel_dict[i].CostOfUnitsInStock, 'norm'), ' - n =', len(rlevel_dict[i].CostOfUnitsInStock))"
   ]
  },
  {
   "cell_type": "markdown",
   "metadata": {},
   "source": [
    "None of the **Cost of Units in Stock** groups are normally distributed. Despite this, let's next compute the test statistic for each group."
   ]
  },
  {
   "cell_type": "code",
   "execution_count": 134,
   "metadata": {},
   "outputs": [
    {
     "name": "stdout",
     "output_type": "stream",
     "text": [
      "t-Tests\n",
      "----------------------------------------------------------------------\n",
      "[ 5 Reorder Level ]: Ttest_indResult(statistic=-1.6145848634171795, pvalue=0.11870432290834666)\n",
      "[ 10 Reorder Level ]: Ttest_indResult(statistic=-1.835788513562594, pvalue=0.07678775807261386)\n",
      "[ 15 Reorder Level ]: Ttest_indResult(statistic=-0.5030852572953036, pvalue=0.6219387293592045)\n",
      "[ 20 Reorder Level ]: Ttest_indResult(statistic=-0.3713832569463958, pvalue=0.7156250851703037)\n",
      "[ 25 Reorder Level ]: Ttest_indResult(statistic=-0.2856885605797661, pvalue=0.7775872306063034)\n",
      "[ 30 Reorder Level ]: Ttest_indResult(statistic=-0.10791549695803046, pvalue=0.915119973070629)\n"
     ]
    }
   ],
   "source": [
    "# Welch's t-Test for each reorder level\n",
    "print('t-Tests')\n",
    "print('-'*70)\n",
    "for i in sorted(rlevel_dict.keys())[1:]:\n",
    "    print('[', i, 'Reorder Level ]:', stats.ttest_ind(rlevel_dict[i].CostOfUnitsInStock, rlevel_dict[0].CostOfUnitsInStock, equal_var=False));"
   ]
  },
  {
   "cell_type": "markdown",
   "metadata": {},
   "source": [
    "The test statistic's p-value is above the alpha significance level of 0.05, causing us to fail to reject the null hypothesis of equal popuation means for the following reorder levels:\n",
    "\n",
    "- 5\n",
    "- 10\n",
    "- 15 \n",
    "- 20\n",
    "- 25\n",
    "- 30\n",
    "\n",
    "For these reorder levels, there is no difference in the cost of units in stock for products with that specific reorder level and products with no reorders.\n",
    "\n",
    "The test statistic's p-value is not below the alpha threshold of 0.05, causing us to reject the null hypothesis of equal popuation means, for any reorder levels.\n",
    "\n",
    "Let's validate our conclusion by looking at results for ANOVA. Before we do that, ANOVA assumes homogeneity of variances. Let's see if that is the case here."
   ]
  },
  {
   "cell_type": "code",
   "execution_count": 135,
   "metadata": {},
   "outputs": [
    {
     "name": "stdout",
     "output_type": "stream",
     "text": [
      "Levene Test\n",
      "----------------------------------------------------------------------\n"
     ]
    },
    {
     "data": {
      "text/plain": [
       "LeveneResult(statistic=0.6602531752071426, pvalue=0.6818117084551734)"
      ]
     },
     "execution_count": 135,
     "metadata": {},
     "output_type": "execute_result"
    }
   ],
   "source": [
    "# Levene test \n",
    "print('Levene Test')\n",
    "print('-'*70)\n",
    "stats.levene(rlevel_dict[0].CostOfUnitsInStock, rlevel_dict[5].CostOfUnitsInStock, rlevel_dict[10].CostOfUnitsInStock, \n",
    "             rlevel_dict[15].CostOfUnitsInStock, rlevel_dict[20].CostOfUnitsInStock, rlevel_dict[25].CostOfUnitsInStock, \n",
    "            rlevel_dict[30].CostOfUnitsInStock)"
   ]
  },
  {
   "cell_type": "markdown",
   "metadata": {},
   "source": [
    "The null hypothesis of the Levene Test is that the samples are from populations that have equal variances. The p-value is not significant (p = 0.7) and we reject the null hypothesis. We conclude that ship regions do not have equal variances for total revenue.\n",
    "\n",
    "Despite this, let's look at the ANOVA results and the second assumption that residuals are normally distributed."
   ]
  },
  {
   "cell_type": "code",
   "execution_count": 136,
   "metadata": {},
   "outputs": [
    {
     "name": "stdout",
     "output_type": "stream",
     "text": [
      "ANOVA table\n",
      "------------------------------------------------------------\n",
      "                       sum_sq    df         F    PR(>F)\n",
      "C(ReorderLevel)  2.704601e+06   6.0  0.402648  0.874882\n",
      "Residual         7.836536e+07  70.0       NaN       NaN\n",
      "\n",
      "Shapiro-Wilk Test\n",
      "----------------------------------------\n",
      "(0.8400562405586243, 1.1705232338954374e-07)\n"
     ]
    }
   ],
   "source": [
    "# ANOVA\n",
    "print('ANOVA table')\n",
    "print('-'*60)\n",
    "formula = 'CostOfUnitsInStock ~ C(ReorderLevel)'\n",
    "model = ols(formula, product_df).fit()\n",
    "table = sm.stats.anova_lm(model, typ=2)\n",
    "print(table)\n",
    "\n",
    "# Shapiro-Wilk test\n",
    "print('\\nShapiro-Wilk Test')\n",
    "print('-'*40)\n",
    "print(stats.shapiro(model.resid))"
   ]
  },
  {
   "cell_type": "markdown",
   "metadata": {},
   "source": [
    "The p-value obtained from the ANOVA analysis is not significant (p = 0.9), and therefore, we conclude that there no are significant differences among reorder levels on the Cost of Units in Stock.\n",
    "\n",
    "The assumption that residuals are drawn from a normal distribution, however, does not appear to apply here. The p-value is significant (p = 1e-07) causing us to reject the null hypothesis of residual normality."
   ]
  },
  {
   "cell_type": "markdown",
   "metadata": {},
   "source": [
    "### Conclusion for Hypothesis 5:\n",
    "\n",
    "- None of the reorder levels (5, 10, 15, 20, 25, 30) have statistically significant effect on the cost of units in stock according to the Welch's t-Test, where each reorder level is compared to the 0 reorders level.\n",
    "- The ANOVA test validates our conclusion and does not find any difference beteween the stock units cost means of all reorder groups, treatment and control.\n",
    "### Answer 5: Reorder level  does not have a statistically significant effect on the cost of items in stock.\n",
    "\n",
    "This finishes our work on Question 5. Let's move on to the conclusion for this project.\n",
    "\n",
    "[ToC](#Table-of-Contents:)"
   ]
  },
  {
   "cell_type": "markdown",
   "metadata": {},
   "source": [
    "## 5. Ending Remarks:\n",
    "\n",
    "### Question 1:\n",
    "- #### Conclusion:\n",
    "    - Discount amount has a statistically significant effect on the quantity of a product in an order.\n",
    "    - The effect is significant at the 5%, 10%, 15%, 20%, and 25% discount levels.\n",
    "    - For all of these significant discount levels, the effect is an increase on the quantity of product in an order.\n",
    "    - The increase effect is roughly equal among all of the significant discount levels.\n",
    "- #### Recommendation:\n",
    "    - More data should be gathered at the 2%, 3% and 10% discount levels. These levels were not significant for one of the two tests used. \n",
    "    - More data also should be gathered at the 1%, 4%, and 6% discount levels. These levels were not significant in either test.\n",
    "    - If it decided that collecting data is not in the best interest of the company and that quantity of product in an order is the most important metric, then the 1%, 2%, 3%, 4%, 6%, and 10% discount levels should be dropped.\n",
    "\n",
    "### Question 2:\n",
    "- #### Conclusion:\n",
    "    - Discount amount has a statistically significant effect on the total revenue in an order.\n",
    "    - The effect is significant at the 5% discount level. \n",
    "    - For the significant discount level, the effect is an increase of the total revenue received from an order.\n",
    "    - The increase effect is considered small by the effect size measurement used.\n",
    "- #### Recommendation:\n",
    "    - More data should be gathered at the 2%, 3%, and 5% discount levels. These levels were considered significant by one of the two tests used. Specifically, the 2% and 3% discount levels suffer from small sample sizes. \n",
    "    - More data also should be gathered at the 1%, 4%, and 6% discount levels. These levels were not significant in either test.\n",
    "    - If it decided that collecting data is not in the best interest of the company and that total revenue from an order is the most important metric, then the 1%, 2%, 3%, 4%, 6%, 10%, 15%, 20%, and 25% discount levels should be dropped. \n",
    "\n",
    "### Question 3:\n",
    "- #### Conclusion: \n",
    "    - Product category has a statistically significant effect on the total revenue in an order.\n",
    "    - The effect is significant for the Meat/Poultry, Produce, Condiments, Confections, Grains/Cereals, and Seafood categories. \n",
    "    - For the Meat/Poultry and Produce categories, the effect is an increase of the total revenue received from an order. \n",
    "    - For the Condiments, Confections, Grains/Cereals, and Seafood categories, the effect is a decrease of the total revenue received from an order.\n",
    "    - The increase effect is considered small-to-moderate for Meat/Poultry and small for Produce.\n",
    "    - The decrease effect is considered small for all of the decrease effect categories.\n",
    "- #### Recommendation: \n",
    "    - If it is decided that total revenue from an order is the most important metric for the company and that category groups are the units to be removed, then products in the Seafood category should be removed. \n",
    "    - The decrease effect for this category from its effect size measurement is twice as much as the decrease seen in other categories.\n",
    "    - Differences between individual categories have also been assessed. They may be reviewed in the work for this question. There is the possibility of examining inter-category differences in more detail.\n",
    "\n",
    "### Question 4:\n",
    "- #### Conclusion:\n",
    "    - Ship region has a statistically significant effect on the total revenue in an order.\n",
    "    - The effect is significant for Western Europe, Central Americal, Eastern Europe, Scandinavia, and Southern Europe.\n",
    "    - For the Western Europe ship region, the effect is an increase of the total revenue received from an order. \n",
    "    - For the Central America, Eastern Europe, Scandinavia, and Southern Europe ship regions, the effect is a decrease of the total revenue received froman order.\n",
    "    - The increase effect is is considered small for Western Europe. \n",
    "    - The decrease effect is considered small for all of the decrease effect ship regions.\n",
    "- #### Recommendation:\n",
    "    - If it is decided that total revenue from an order is the most important metric for the company and that ship region groups are the units to be removed, then Eastern Europe should no longer be shipped to. \n",
    "    - The decrease effect for this category from its effect size mesurement is one-third more than the decrease seen in other ship regions.\n",
    "    - Differences between individual ship regions have also been assessed. They may be reviewed in the work for this question. There is the possibility of examining inter-category differences in more detail.\n",
    "\n",
    "### Question 5:\n",
    "- #### Conclusion:\n",
    "    - Reorder level does not have a statistically significant effect on the cost of items in stock.\n",
    "- #### Recommendation:\n",
    "    - There are no recommendations related to the cost of items in stock due to reorder level. There is the possibility of analyzing this cost with respect to other variables.\n",
    "    \n",
    "### Areas of Future Study:\n",
    "- Questions that could be investigated in future studies to benefit the company:\n",
    "    - Which employee is the best performing and worst performong on quantity sold and revenue received?\n",
    "    - How do inventory levels fluctuate with orders made? Are there product stockouts? \n",
    "    - What is the relationship between supplier and cost? Should certain suppliers be dropped?\n",
    "    - What are the major causes of product reorders and products becoming discontinued?\n",
    "    - Are there effects on products, orders, and shipments at the granular level (Zipcode, City, Country) or macro level (Region, Territory) leading to ineffeciencies?\n",
    "    - Why is customer demographic information missing?\n",
    "\n",
    "This project is complete. It has successfully tested the ability to gather information from a real-world database and use knowledge of statistical analysis and hypothesis testing to generate analytical insights that can be of value to the Northwind trading company.\n",
    " \n",
    " [ToC](#Table-of-Contents:)"
   ]
  }
 ],
 "metadata": {
  "kernelspec": {
   "display_name": "learn-env",
   "language": "python",
   "name": "learn-env"
  },
  "language_info": {
   "codemirror_mode": {
    "name": "ipython",
    "version": 3
   },
   "file_extension": ".py",
   "mimetype": "text/x-python",
   "name": "python",
   "nbconvert_exporter": "python",
   "pygments_lexer": "ipython3",
   "version": "3.6.7"
  }
 },
 "nbformat": 4,
 "nbformat_minor": 2
}
